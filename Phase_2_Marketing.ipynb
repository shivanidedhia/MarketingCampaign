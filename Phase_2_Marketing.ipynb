{
  "nbformat": 4,
  "nbformat_minor": 5,
  "metadata": {
    "kernelspec": {
      "display_name": "Python 3",
      "language": "python",
      "name": "python3"
    },
    "language_info": {
      "codemirror_mode": {
        "name": "ipython",
        "version": 3
      },
      "file_extension": ".py",
      "mimetype": "text/x-python",
      "name": "python",
      "nbconvert_exporter": "python",
      "pygments_lexer": "ipython3",
      "version": "3.8.3"
    },
    "colab": {
      "name": "Phase 2- Marketing.ipynb",
      "provenance": [],
      "include_colab_link": true
    }
  },
  "cells": [
    {
      "cell_type": "markdown",
      "metadata": {
        "id": "view-in-github",
        "colab_type": "text"
      },
      "source": [
        "<a href=\"https://colab.research.google.com/github/shivanidedhia/MarketingCampaign/blob/main/Phase_2_Marketing.ipynb\" target=\"_parent\"><img src=\"https://colab.research.google.com/assets/colab-badge.svg\" alt=\"Open In Colab\"/></a>"
      ]
    },
    {
      "cell_type": "markdown",
      "metadata": {
        "id": "cwLUY8JbTFGU"
      },
      "source": [
        "# Importing required libraries"
      ],
      "id": "cwLUY8JbTFGU"
    },
    {
      "cell_type": "code",
      "metadata": {
        "id": "tAtfOFwKTFGX",
        "outputId": "752f7e57-47d6-46d7-ebdc-af89d30742fb"
      },
      "source": [
        "import os\n",
        "import pandas as pd\n",
        "import numpy as np\n",
        "from sklearn.tree import DecisionTreeClassifier\n",
        "from sklearn.model_selection import train_test_split, cross_val_score, GridSearchCV\n",
        "import matplotlib.pylab as plt\n",
        "import matplotlib.pyplot as plt\n",
        "from dmba import plotDecisionTree, classificationSummary, regressionSummary\n",
        "from sklearn.linear_model import LinearRegression, Lasso, Ridge, LassoCV, BayesianRidge\n",
        "import matplotlib.pylab as plt\n",
        "import seaborn as sns\n",
        "from pathlib import Path\n",
        "import statsmodels.formula.api as sm\n",
        "from sklearn import linear_model\n",
        "from sklearn import metrics\n",
        "from sklearn.naive_bayes import GaussianNB\n",
        "from sklearn.impute import KNNImputer\n",
        "%matplotlib inline\n",
        "from pathlib import Path\n",
        "from scipy import stats\n",
        "\n"
      ],
      "id": "tAtfOFwKTFGX",
      "execution_count": null,
      "outputs": [
        {
          "output_type": "stream",
          "text": [
            "no display found. Using non-interactive Agg backend\n"
          ],
          "name": "stdout"
        }
      ]
    },
    {
      "cell_type": "markdown",
      "metadata": {
        "id": "AF4vYWMnTFGZ"
      },
      "source": [
        "# Loading the dataset"
      ],
      "id": "AF4vYWMnTFGZ"
    },
    {
      "cell_type": "code",
      "metadata": {
        "id": "bLBYFJhBTFGZ"
      },
      "source": [
        "df= pd.read_csv('marketing_campaign.csv')"
      ],
      "id": "bLBYFJhBTFGZ",
      "execution_count": null,
      "outputs": []
    },
    {
      "cell_type": "code",
      "metadata": {
        "id": "tjKi8J3WTFGa",
        "outputId": "754fe3df-d2d9-4362-fb45-279cb615db0b"
      },
      "source": [
        "df.head(10)"
      ],
      "id": "tjKi8J3WTFGa",
      "execution_count": null,
      "outputs": [
        {
          "output_type": "execute_result",
          "data": {
            "text/html": [
              "<div>\n",
              "<style scoped>\n",
              "    .dataframe tbody tr th:only-of-type {\n",
              "        vertical-align: middle;\n",
              "    }\n",
              "\n",
              "    .dataframe tbody tr th {\n",
              "        vertical-align: top;\n",
              "    }\n",
              "\n",
              "    .dataframe thead th {\n",
              "        text-align: right;\n",
              "    }\n",
              "</style>\n",
              "<table border=\"1\" class=\"dataframe\">\n",
              "  <thead>\n",
              "    <tr style=\"text-align: right;\">\n",
              "      <th></th>\n",
              "      <th>ID</th>\n",
              "      <th>Year_Birth</th>\n",
              "      <th>Education</th>\n",
              "      <th>Marital_Status</th>\n",
              "      <th>Income</th>\n",
              "      <th>Kidhome</th>\n",
              "      <th>Teenhome</th>\n",
              "      <th>Dt_Customer</th>\n",
              "      <th>Recency</th>\n",
              "      <th>MntWines</th>\n",
              "      <th>...</th>\n",
              "      <th>NumWebVisitsMonth</th>\n",
              "      <th>AcceptedCmp3</th>\n",
              "      <th>AcceptedCmp4</th>\n",
              "      <th>AcceptedCmp5</th>\n",
              "      <th>AcceptedCmp1</th>\n",
              "      <th>AcceptedCmp2</th>\n",
              "      <th>Complain</th>\n",
              "      <th>Z_CostContact</th>\n",
              "      <th>Z_Revenue</th>\n",
              "      <th>Response</th>\n",
              "    </tr>\n",
              "  </thead>\n",
              "  <tbody>\n",
              "    <tr>\n",
              "      <th>0</th>\n",
              "      <td>5524</td>\n",
              "      <td>1957</td>\n",
              "      <td>Graduation</td>\n",
              "      <td>Single</td>\n",
              "      <td>58138.0</td>\n",
              "      <td>0</td>\n",
              "      <td>0</td>\n",
              "      <td>9/4/2012</td>\n",
              "      <td>58</td>\n",
              "      <td>635</td>\n",
              "      <td>...</td>\n",
              "      <td>7</td>\n",
              "      <td>0</td>\n",
              "      <td>0</td>\n",
              "      <td>0</td>\n",
              "      <td>0</td>\n",
              "      <td>0</td>\n",
              "      <td>0</td>\n",
              "      <td>3</td>\n",
              "      <td>11</td>\n",
              "      <td>1</td>\n",
              "    </tr>\n",
              "    <tr>\n",
              "      <th>1</th>\n",
              "      <td>2174</td>\n",
              "      <td>1954</td>\n",
              "      <td>Graduation</td>\n",
              "      <td>Single</td>\n",
              "      <td>46344.0</td>\n",
              "      <td>1</td>\n",
              "      <td>1</td>\n",
              "      <td>3/8/2014</td>\n",
              "      <td>38</td>\n",
              "      <td>11</td>\n",
              "      <td>...</td>\n",
              "      <td>5</td>\n",
              "      <td>0</td>\n",
              "      <td>0</td>\n",
              "      <td>0</td>\n",
              "      <td>0</td>\n",
              "      <td>0</td>\n",
              "      <td>0</td>\n",
              "      <td>3</td>\n",
              "      <td>11</td>\n",
              "      <td>0</td>\n",
              "    </tr>\n",
              "    <tr>\n",
              "      <th>2</th>\n",
              "      <td>4141</td>\n",
              "      <td>1965</td>\n",
              "      <td>Graduation</td>\n",
              "      <td>Together</td>\n",
              "      <td>71613.0</td>\n",
              "      <td>0</td>\n",
              "      <td>0</td>\n",
              "      <td>8/21/2013</td>\n",
              "      <td>26</td>\n",
              "      <td>426</td>\n",
              "      <td>...</td>\n",
              "      <td>4</td>\n",
              "      <td>0</td>\n",
              "      <td>0</td>\n",
              "      <td>0</td>\n",
              "      <td>0</td>\n",
              "      <td>0</td>\n",
              "      <td>0</td>\n",
              "      <td>3</td>\n",
              "      <td>11</td>\n",
              "      <td>0</td>\n",
              "    </tr>\n",
              "    <tr>\n",
              "      <th>3</th>\n",
              "      <td>6182</td>\n",
              "      <td>1984</td>\n",
              "      <td>Graduation</td>\n",
              "      <td>Together</td>\n",
              "      <td>26646.0</td>\n",
              "      <td>1</td>\n",
              "      <td>0</td>\n",
              "      <td>2/10/2014</td>\n",
              "      <td>26</td>\n",
              "      <td>11</td>\n",
              "      <td>...</td>\n",
              "      <td>6</td>\n",
              "      <td>0</td>\n",
              "      <td>0</td>\n",
              "      <td>0</td>\n",
              "      <td>0</td>\n",
              "      <td>0</td>\n",
              "      <td>0</td>\n",
              "      <td>3</td>\n",
              "      <td>11</td>\n",
              "      <td>0</td>\n",
              "    </tr>\n",
              "    <tr>\n",
              "      <th>4</th>\n",
              "      <td>5324</td>\n",
              "      <td>1981</td>\n",
              "      <td>PhD</td>\n",
              "      <td>Married</td>\n",
              "      <td>58293.0</td>\n",
              "      <td>1</td>\n",
              "      <td>0</td>\n",
              "      <td>1/19/2014</td>\n",
              "      <td>94</td>\n",
              "      <td>173</td>\n",
              "      <td>...</td>\n",
              "      <td>5</td>\n",
              "      <td>0</td>\n",
              "      <td>0</td>\n",
              "      <td>0</td>\n",
              "      <td>0</td>\n",
              "      <td>0</td>\n",
              "      <td>0</td>\n",
              "      <td>3</td>\n",
              "      <td>11</td>\n",
              "      <td>0</td>\n",
              "    </tr>\n",
              "    <tr>\n",
              "      <th>5</th>\n",
              "      <td>7446</td>\n",
              "      <td>1967</td>\n",
              "      <td>Master</td>\n",
              "      <td>Together</td>\n",
              "      <td>62513.0</td>\n",
              "      <td>0</td>\n",
              "      <td>1</td>\n",
              "      <td>9/9/2013</td>\n",
              "      <td>16</td>\n",
              "      <td>520</td>\n",
              "      <td>...</td>\n",
              "      <td>6</td>\n",
              "      <td>0</td>\n",
              "      <td>0</td>\n",
              "      <td>0</td>\n",
              "      <td>0</td>\n",
              "      <td>0</td>\n",
              "      <td>0</td>\n",
              "      <td>3</td>\n",
              "      <td>11</td>\n",
              "      <td>0</td>\n",
              "    </tr>\n",
              "    <tr>\n",
              "      <th>6</th>\n",
              "      <td>965</td>\n",
              "      <td>1971</td>\n",
              "      <td>Graduation</td>\n",
              "      <td>Divorced</td>\n",
              "      <td>55635.0</td>\n",
              "      <td>0</td>\n",
              "      <td>1</td>\n",
              "      <td>11/13/2012</td>\n",
              "      <td>34</td>\n",
              "      <td>235</td>\n",
              "      <td>...</td>\n",
              "      <td>6</td>\n",
              "      <td>0</td>\n",
              "      <td>0</td>\n",
              "      <td>0</td>\n",
              "      <td>0</td>\n",
              "      <td>0</td>\n",
              "      <td>0</td>\n",
              "      <td>3</td>\n",
              "      <td>11</td>\n",
              "      <td>0</td>\n",
              "    </tr>\n",
              "    <tr>\n",
              "      <th>7</th>\n",
              "      <td>6177</td>\n",
              "      <td>1985</td>\n",
              "      <td>PhD</td>\n",
              "      <td>Married</td>\n",
              "      <td>33454.0</td>\n",
              "      <td>1</td>\n",
              "      <td>0</td>\n",
              "      <td>5/8/2013</td>\n",
              "      <td>32</td>\n",
              "      <td>76</td>\n",
              "      <td>...</td>\n",
              "      <td>8</td>\n",
              "      <td>0</td>\n",
              "      <td>0</td>\n",
              "      <td>0</td>\n",
              "      <td>0</td>\n",
              "      <td>0</td>\n",
              "      <td>0</td>\n",
              "      <td>3</td>\n",
              "      <td>11</td>\n",
              "      <td>0</td>\n",
              "    </tr>\n",
              "    <tr>\n",
              "      <th>8</th>\n",
              "      <td>4855</td>\n",
              "      <td>1974</td>\n",
              "      <td>PhD</td>\n",
              "      <td>Together</td>\n",
              "      <td>30351.0</td>\n",
              "      <td>1</td>\n",
              "      <td>0</td>\n",
              "      <td>6/6/2013</td>\n",
              "      <td>19</td>\n",
              "      <td>14</td>\n",
              "      <td>...</td>\n",
              "      <td>9</td>\n",
              "      <td>0</td>\n",
              "      <td>0</td>\n",
              "      <td>0</td>\n",
              "      <td>0</td>\n",
              "      <td>0</td>\n",
              "      <td>0</td>\n",
              "      <td>3</td>\n",
              "      <td>11</td>\n",
              "      <td>1</td>\n",
              "    </tr>\n",
              "    <tr>\n",
              "      <th>9</th>\n",
              "      <td>5899</td>\n",
              "      <td>1950</td>\n",
              "      <td>PhD</td>\n",
              "      <td>Together</td>\n",
              "      <td>5648.0</td>\n",
              "      <td>1</td>\n",
              "      <td>1</td>\n",
              "      <td>3/13/2014</td>\n",
              "      <td>68</td>\n",
              "      <td>28</td>\n",
              "      <td>...</td>\n",
              "      <td>20</td>\n",
              "      <td>1</td>\n",
              "      <td>0</td>\n",
              "      <td>0</td>\n",
              "      <td>0</td>\n",
              "      <td>0</td>\n",
              "      <td>0</td>\n",
              "      <td>3</td>\n",
              "      <td>11</td>\n",
              "      <td>0</td>\n",
              "    </tr>\n",
              "  </tbody>\n",
              "</table>\n",
              "<p>10 rows × 29 columns</p>\n",
              "</div>"
            ],
            "text/plain": [
              "     ID  Year_Birth   Education Marital_Status   Income  Kidhome  Teenhome  \\\n",
              "0  5524        1957  Graduation         Single  58138.0        0         0   \n",
              "1  2174        1954  Graduation         Single  46344.0        1         1   \n",
              "2  4141        1965  Graduation       Together  71613.0        0         0   \n",
              "3  6182        1984  Graduation       Together  26646.0        1         0   \n",
              "4  5324        1981         PhD        Married  58293.0        1         0   \n",
              "5  7446        1967      Master       Together  62513.0        0         1   \n",
              "6   965        1971  Graduation       Divorced  55635.0        0         1   \n",
              "7  6177        1985         PhD        Married  33454.0        1         0   \n",
              "8  4855        1974         PhD       Together  30351.0        1         0   \n",
              "9  5899        1950         PhD       Together   5648.0        1         1   \n",
              "\n",
              "  Dt_Customer  Recency  MntWines  ...  NumWebVisitsMonth  AcceptedCmp3  \\\n",
              "0    9/4/2012       58       635  ...                  7             0   \n",
              "1    3/8/2014       38        11  ...                  5             0   \n",
              "2   8/21/2013       26       426  ...                  4             0   \n",
              "3   2/10/2014       26        11  ...                  6             0   \n",
              "4   1/19/2014       94       173  ...                  5             0   \n",
              "5    9/9/2013       16       520  ...                  6             0   \n",
              "6  11/13/2012       34       235  ...                  6             0   \n",
              "7    5/8/2013       32        76  ...                  8             0   \n",
              "8    6/6/2013       19        14  ...                  9             0   \n",
              "9   3/13/2014       68        28  ...                 20             1   \n",
              "\n",
              "   AcceptedCmp4  AcceptedCmp5  AcceptedCmp1  AcceptedCmp2  Complain  \\\n",
              "0             0             0             0             0         0   \n",
              "1             0             0             0             0         0   \n",
              "2             0             0             0             0         0   \n",
              "3             0             0             0             0         0   \n",
              "4             0             0             0             0         0   \n",
              "5             0             0             0             0         0   \n",
              "6             0             0             0             0         0   \n",
              "7             0             0             0             0         0   \n",
              "8             0             0             0             0         0   \n",
              "9             0             0             0             0         0   \n",
              "\n",
              "   Z_CostContact  Z_Revenue  Response  \n",
              "0              3         11         1  \n",
              "1              3         11         0  \n",
              "2              3         11         0  \n",
              "3              3         11         0  \n",
              "4              3         11         0  \n",
              "5              3         11         0  \n",
              "6              3         11         0  \n",
              "7              3         11         0  \n",
              "8              3         11         1  \n",
              "9              3         11         0  \n",
              "\n",
              "[10 rows x 29 columns]"
            ]
          },
          "metadata": {
            "tags": []
          },
          "execution_count": 3
        }
      ]
    },
    {
      "cell_type": "markdown",
      "metadata": {
        "id": "kWsAUl3NTFGa"
      },
      "source": [
        "### Total Number of rows and columns in the dataset:\n",
        "#### Rows = 2,240\n",
        "#### Columns = 29"
      ],
      "id": "kWsAUl3NTFGa"
    },
    {
      "cell_type": "code",
      "metadata": {
        "id": "X-3dICzJTFGa",
        "outputId": "f31540a4-cf18-4a02-d588-7937a8ea7229"
      },
      "source": [
        "df.shape"
      ],
      "id": "X-3dICzJTFGa",
      "execution_count": null,
      "outputs": [
        {
          "output_type": "execute_result",
          "data": {
            "text/plain": [
              "(2240, 29)"
            ]
          },
          "metadata": {
            "tags": []
          },
          "execution_count": 4
        }
      ]
    },
    {
      "cell_type": "markdown",
      "metadata": {
        "id": "GZOvhcOWTFGb"
      },
      "source": [
        "### Column names in the dataset"
      ],
      "id": "GZOvhcOWTFGb"
    },
    {
      "cell_type": "code",
      "metadata": {
        "scrolled": true,
        "id": "asY-0PdWTFGb",
        "outputId": "982439fd-326d-479f-fde4-9331396ee39d"
      },
      "source": [
        "df.columns"
      ],
      "id": "asY-0PdWTFGb",
      "execution_count": null,
      "outputs": [
        {
          "output_type": "execute_result",
          "data": {
            "text/plain": [
              "Index(['ID', 'Year_Birth', 'Education', 'Marital_Status', 'Income', 'Kidhome',\n",
              "       'Teenhome', 'Dt_Customer', 'Recency', 'MntWines', 'MntFruits',\n",
              "       'MntMeatProducts', 'MntFishProducts', 'MntSweetProducts',\n",
              "       'MntGoldProds', 'NumDealsPurchases', 'NumWebPurchases',\n",
              "       'NumCatalogPurchases', 'NumStorePurchases', 'NumWebVisitsMonth',\n",
              "       'AcceptedCmp3', 'AcceptedCmp4', 'AcceptedCmp5', 'AcceptedCmp1',\n",
              "       'AcceptedCmp2', 'Complain', 'Z_CostContact', 'Z_Revenue', 'Response'],\n",
              "      dtype='object')"
            ]
          },
          "metadata": {
            "tags": []
          },
          "execution_count": 5
        }
      ]
    },
    {
      "cell_type": "markdown",
      "metadata": {
        "id": "zybrdH4eTFGc"
      },
      "source": [
        "### Checking the type of data to understand what all columns it contains and of what types and whether they contain any value or not.\n"
      ],
      "id": "zybrdH4eTFGc"
    },
    {
      "cell_type": "code",
      "metadata": {
        "scrolled": false,
        "id": "zx5-VwSKTFGd",
        "outputId": "5beed178-8e72-4d83-c61b-507dfa0b0fc6"
      },
      "source": [
        "df.info()"
      ],
      "id": "zx5-VwSKTFGd",
      "execution_count": null,
      "outputs": [
        {
          "output_type": "stream",
          "text": [
            "<class 'pandas.core.frame.DataFrame'>\n",
            "RangeIndex: 2240 entries, 0 to 2239\n",
            "Data columns (total 29 columns):\n",
            " #   Column               Non-Null Count  Dtype  \n",
            "---  ------               --------------  -----  \n",
            " 0   ID                   2240 non-null   int64  \n",
            " 1   Year_Birth           2240 non-null   int64  \n",
            " 2   Education            2240 non-null   object \n",
            " 3   Marital_Status       2240 non-null   object \n",
            " 4   Income               2216 non-null   float64\n",
            " 5   Kidhome              2240 non-null   int64  \n",
            " 6   Teenhome             2240 non-null   int64  \n",
            " 7   Dt_Customer          2240 non-null   object \n",
            " 8   Recency              2240 non-null   int64  \n",
            " 9   MntWines             2240 non-null   int64  \n",
            " 10  MntFruits            2240 non-null   int64  \n",
            " 11  MntMeatProducts      2240 non-null   int64  \n",
            " 12  MntFishProducts      2240 non-null   int64  \n",
            " 13  MntSweetProducts     2240 non-null   int64  \n",
            " 14  MntGoldProds         2240 non-null   int64  \n",
            " 15  NumDealsPurchases    2240 non-null   int64  \n",
            " 16  NumWebPurchases      2240 non-null   int64  \n",
            " 17  NumCatalogPurchases  2240 non-null   int64  \n",
            " 18  NumStorePurchases    2240 non-null   int64  \n",
            " 19  NumWebVisitsMonth    2240 non-null   int64  \n",
            " 20  AcceptedCmp3         2240 non-null   int64  \n",
            " 21  AcceptedCmp4         2240 non-null   int64  \n",
            " 22  AcceptedCmp5         2240 non-null   int64  \n",
            " 23  AcceptedCmp1         2240 non-null   int64  \n",
            " 24  AcceptedCmp2         2240 non-null   int64  \n",
            " 25  Complain             2240 non-null   int64  \n",
            " 26  Z_CostContact        2240 non-null   int64  \n",
            " 27  Z_Revenue            2240 non-null   int64  \n",
            " 28  Response             2240 non-null   int64  \n",
            "dtypes: float64(1), int64(25), object(3)\n",
            "memory usage: 507.6+ KB\n"
          ],
          "name": "stdout"
        }
      ]
    },
    {
      "cell_type": "markdown",
      "metadata": {
        "id": "ZYMdyJfGTFGd"
      },
      "source": [
        "### So we see that we have 3 categorical variables and 26 numerical variables. We can also see that there are missing values in the column 'Income'. We will do missing value treatment later. "
      ],
      "id": "ZYMdyJfGTFGd"
    },
    {
      "cell_type": "markdown",
      "metadata": {
        "id": "r7QVbbV6TFGd"
      },
      "source": [
        "## -----------------------------------------------------------------------------------------------------------------------"
      ],
      "id": "r7QVbbV6TFGd"
    },
    {
      "cell_type": "markdown",
      "metadata": {
        "id": "pjOg2pbrTFGd"
      },
      "source": [
        "# Defining the target variable"
      ],
      "id": "pjOg2pbrTFGd"
    },
    {
      "cell_type": "markdown",
      "metadata": {
        "id": "1qGbPXDFTFGe"
      },
      "source": [
        "### As per the dataset the column Response (target) in itself is one of the campaigns (last campaign). So, in total there are 6 campaigns.\n",
        "### Let's create a target variable called 'Customer_Response' where the value will be 1 if the customer responds to any of the 6 campaigns and 0 if the customer has not responded to any campaign. "
      ],
      "id": "1qGbPXDFTFGe"
    },
    {
      "cell_type": "code",
      "metadata": {
        "id": "a1R5dogwTFGe"
      },
      "source": [
        "df['Customer_Response'] = np.where(df[['AcceptedCmp1', 'AcceptedCmp2', 'AcceptedCmp3', 'AcceptedCmp4', 'AcceptedCmp5', 'Response']].sum(axis=1) >= 1, 1, 0)"
      ],
      "id": "a1R5dogwTFGe",
      "execution_count": null,
      "outputs": []
    },
    {
      "cell_type": "code",
      "metadata": {
        "scrolled": true,
        "id": "KyQHEBbJTFGe",
        "outputId": "ece3b310-d719-44e8-8a34-2591f5e6926e"
      },
      "source": [
        "# Checking if the new target variable is created accurately or not\n",
        "df.head()"
      ],
      "id": "KyQHEBbJTFGe",
      "execution_count": null,
      "outputs": [
        {
          "output_type": "execute_result",
          "data": {
            "text/html": [
              "<div>\n",
              "<style scoped>\n",
              "    .dataframe tbody tr th:only-of-type {\n",
              "        vertical-align: middle;\n",
              "    }\n",
              "\n",
              "    .dataframe tbody tr th {\n",
              "        vertical-align: top;\n",
              "    }\n",
              "\n",
              "    .dataframe thead th {\n",
              "        text-align: right;\n",
              "    }\n",
              "</style>\n",
              "<table border=\"1\" class=\"dataframe\">\n",
              "  <thead>\n",
              "    <tr style=\"text-align: right;\">\n",
              "      <th></th>\n",
              "      <th>ID</th>\n",
              "      <th>Year_Birth</th>\n",
              "      <th>Education</th>\n",
              "      <th>Marital_Status</th>\n",
              "      <th>Income</th>\n",
              "      <th>Kidhome</th>\n",
              "      <th>Teenhome</th>\n",
              "      <th>Dt_Customer</th>\n",
              "      <th>Recency</th>\n",
              "      <th>MntWines</th>\n",
              "      <th>...</th>\n",
              "      <th>AcceptedCmp3</th>\n",
              "      <th>AcceptedCmp4</th>\n",
              "      <th>AcceptedCmp5</th>\n",
              "      <th>AcceptedCmp1</th>\n",
              "      <th>AcceptedCmp2</th>\n",
              "      <th>Complain</th>\n",
              "      <th>Z_CostContact</th>\n",
              "      <th>Z_Revenue</th>\n",
              "      <th>Response</th>\n",
              "      <th>Customer_Response</th>\n",
              "    </tr>\n",
              "  </thead>\n",
              "  <tbody>\n",
              "    <tr>\n",
              "      <th>0</th>\n",
              "      <td>5524</td>\n",
              "      <td>1957</td>\n",
              "      <td>Graduation</td>\n",
              "      <td>Single</td>\n",
              "      <td>58138.0</td>\n",
              "      <td>0</td>\n",
              "      <td>0</td>\n",
              "      <td>9/4/2012</td>\n",
              "      <td>58</td>\n",
              "      <td>635</td>\n",
              "      <td>...</td>\n",
              "      <td>0</td>\n",
              "      <td>0</td>\n",
              "      <td>0</td>\n",
              "      <td>0</td>\n",
              "      <td>0</td>\n",
              "      <td>0</td>\n",
              "      <td>3</td>\n",
              "      <td>11</td>\n",
              "      <td>1</td>\n",
              "      <td>1</td>\n",
              "    </tr>\n",
              "    <tr>\n",
              "      <th>1</th>\n",
              "      <td>2174</td>\n",
              "      <td>1954</td>\n",
              "      <td>Graduation</td>\n",
              "      <td>Single</td>\n",
              "      <td>46344.0</td>\n",
              "      <td>1</td>\n",
              "      <td>1</td>\n",
              "      <td>3/8/2014</td>\n",
              "      <td>38</td>\n",
              "      <td>11</td>\n",
              "      <td>...</td>\n",
              "      <td>0</td>\n",
              "      <td>0</td>\n",
              "      <td>0</td>\n",
              "      <td>0</td>\n",
              "      <td>0</td>\n",
              "      <td>0</td>\n",
              "      <td>3</td>\n",
              "      <td>11</td>\n",
              "      <td>0</td>\n",
              "      <td>0</td>\n",
              "    </tr>\n",
              "    <tr>\n",
              "      <th>2</th>\n",
              "      <td>4141</td>\n",
              "      <td>1965</td>\n",
              "      <td>Graduation</td>\n",
              "      <td>Together</td>\n",
              "      <td>71613.0</td>\n",
              "      <td>0</td>\n",
              "      <td>0</td>\n",
              "      <td>8/21/2013</td>\n",
              "      <td>26</td>\n",
              "      <td>426</td>\n",
              "      <td>...</td>\n",
              "      <td>0</td>\n",
              "      <td>0</td>\n",
              "      <td>0</td>\n",
              "      <td>0</td>\n",
              "      <td>0</td>\n",
              "      <td>0</td>\n",
              "      <td>3</td>\n",
              "      <td>11</td>\n",
              "      <td>0</td>\n",
              "      <td>0</td>\n",
              "    </tr>\n",
              "    <tr>\n",
              "      <th>3</th>\n",
              "      <td>6182</td>\n",
              "      <td>1984</td>\n",
              "      <td>Graduation</td>\n",
              "      <td>Together</td>\n",
              "      <td>26646.0</td>\n",
              "      <td>1</td>\n",
              "      <td>0</td>\n",
              "      <td>2/10/2014</td>\n",
              "      <td>26</td>\n",
              "      <td>11</td>\n",
              "      <td>...</td>\n",
              "      <td>0</td>\n",
              "      <td>0</td>\n",
              "      <td>0</td>\n",
              "      <td>0</td>\n",
              "      <td>0</td>\n",
              "      <td>0</td>\n",
              "      <td>3</td>\n",
              "      <td>11</td>\n",
              "      <td>0</td>\n",
              "      <td>0</td>\n",
              "    </tr>\n",
              "    <tr>\n",
              "      <th>4</th>\n",
              "      <td>5324</td>\n",
              "      <td>1981</td>\n",
              "      <td>PhD</td>\n",
              "      <td>Married</td>\n",
              "      <td>58293.0</td>\n",
              "      <td>1</td>\n",
              "      <td>0</td>\n",
              "      <td>1/19/2014</td>\n",
              "      <td>94</td>\n",
              "      <td>173</td>\n",
              "      <td>...</td>\n",
              "      <td>0</td>\n",
              "      <td>0</td>\n",
              "      <td>0</td>\n",
              "      <td>0</td>\n",
              "      <td>0</td>\n",
              "      <td>0</td>\n",
              "      <td>3</td>\n",
              "      <td>11</td>\n",
              "      <td>0</td>\n",
              "      <td>0</td>\n",
              "    </tr>\n",
              "  </tbody>\n",
              "</table>\n",
              "<p>5 rows × 30 columns</p>\n",
              "</div>"
            ],
            "text/plain": [
              "     ID  Year_Birth   Education Marital_Status   Income  Kidhome  Teenhome  \\\n",
              "0  5524        1957  Graduation         Single  58138.0        0         0   \n",
              "1  2174        1954  Graduation         Single  46344.0        1         1   \n",
              "2  4141        1965  Graduation       Together  71613.0        0         0   \n",
              "3  6182        1984  Graduation       Together  26646.0        1         0   \n",
              "4  5324        1981         PhD        Married  58293.0        1         0   \n",
              "\n",
              "  Dt_Customer  Recency  MntWines  ...  AcceptedCmp3  AcceptedCmp4  \\\n",
              "0    9/4/2012       58       635  ...             0             0   \n",
              "1    3/8/2014       38        11  ...             0             0   \n",
              "2   8/21/2013       26       426  ...             0             0   \n",
              "3   2/10/2014       26        11  ...             0             0   \n",
              "4   1/19/2014       94       173  ...             0             0   \n",
              "\n",
              "   AcceptedCmp5  AcceptedCmp1  AcceptedCmp2  Complain  Z_CostContact  \\\n",
              "0             0             0             0         0              3   \n",
              "1             0             0             0         0              3   \n",
              "2             0             0             0         0              3   \n",
              "3             0             0             0         0              3   \n",
              "4             0             0             0         0              3   \n",
              "\n",
              "   Z_Revenue  Response  Customer_Response  \n",
              "0         11         1                  1  \n",
              "1         11         0                  0  \n",
              "2         11         0                  0  \n",
              "3         11         0                  0  \n",
              "4         11         0                  0  \n",
              "\n",
              "[5 rows x 30 columns]"
            ]
          },
          "metadata": {
            "tags": []
          },
          "execution_count": 8
        }
      ]
    },
    {
      "cell_type": "code",
      "metadata": {
        "id": "2QYMFYRETFGe"
      },
      "source": [
        "# Renaming the 6th campaign name to intuitive column name \n",
        "df.rename(columns={'Response': 'AcceptedCmp6'}, inplace=True)"
      ],
      "id": "2QYMFYRETFGe",
      "execution_count": null,
      "outputs": []
    },
    {
      "cell_type": "code",
      "metadata": {
        "id": "jlFsnSKTTFGf",
        "outputId": "ac6c5129-aba9-425a-abe3-7a7e0c9dafe3"
      },
      "source": [
        "df.head()"
      ],
      "id": "jlFsnSKTTFGf",
      "execution_count": null,
      "outputs": [
        {
          "output_type": "execute_result",
          "data": {
            "text/html": [
              "<div>\n",
              "<style scoped>\n",
              "    .dataframe tbody tr th:only-of-type {\n",
              "        vertical-align: middle;\n",
              "    }\n",
              "\n",
              "    .dataframe tbody tr th {\n",
              "        vertical-align: top;\n",
              "    }\n",
              "\n",
              "    .dataframe thead th {\n",
              "        text-align: right;\n",
              "    }\n",
              "</style>\n",
              "<table border=\"1\" class=\"dataframe\">\n",
              "  <thead>\n",
              "    <tr style=\"text-align: right;\">\n",
              "      <th></th>\n",
              "      <th>ID</th>\n",
              "      <th>Year_Birth</th>\n",
              "      <th>Education</th>\n",
              "      <th>Marital_Status</th>\n",
              "      <th>Income</th>\n",
              "      <th>Kidhome</th>\n",
              "      <th>Teenhome</th>\n",
              "      <th>Dt_Customer</th>\n",
              "      <th>Recency</th>\n",
              "      <th>MntWines</th>\n",
              "      <th>...</th>\n",
              "      <th>AcceptedCmp3</th>\n",
              "      <th>AcceptedCmp4</th>\n",
              "      <th>AcceptedCmp5</th>\n",
              "      <th>AcceptedCmp1</th>\n",
              "      <th>AcceptedCmp2</th>\n",
              "      <th>Complain</th>\n",
              "      <th>Z_CostContact</th>\n",
              "      <th>Z_Revenue</th>\n",
              "      <th>AcceptedCmp6</th>\n",
              "      <th>Customer_Response</th>\n",
              "    </tr>\n",
              "  </thead>\n",
              "  <tbody>\n",
              "    <tr>\n",
              "      <th>0</th>\n",
              "      <td>5524</td>\n",
              "      <td>1957</td>\n",
              "      <td>Graduation</td>\n",
              "      <td>Single</td>\n",
              "      <td>58138.0</td>\n",
              "      <td>0</td>\n",
              "      <td>0</td>\n",
              "      <td>9/4/2012</td>\n",
              "      <td>58</td>\n",
              "      <td>635</td>\n",
              "      <td>...</td>\n",
              "      <td>0</td>\n",
              "      <td>0</td>\n",
              "      <td>0</td>\n",
              "      <td>0</td>\n",
              "      <td>0</td>\n",
              "      <td>0</td>\n",
              "      <td>3</td>\n",
              "      <td>11</td>\n",
              "      <td>1</td>\n",
              "      <td>1</td>\n",
              "    </tr>\n",
              "    <tr>\n",
              "      <th>1</th>\n",
              "      <td>2174</td>\n",
              "      <td>1954</td>\n",
              "      <td>Graduation</td>\n",
              "      <td>Single</td>\n",
              "      <td>46344.0</td>\n",
              "      <td>1</td>\n",
              "      <td>1</td>\n",
              "      <td>3/8/2014</td>\n",
              "      <td>38</td>\n",
              "      <td>11</td>\n",
              "      <td>...</td>\n",
              "      <td>0</td>\n",
              "      <td>0</td>\n",
              "      <td>0</td>\n",
              "      <td>0</td>\n",
              "      <td>0</td>\n",
              "      <td>0</td>\n",
              "      <td>3</td>\n",
              "      <td>11</td>\n",
              "      <td>0</td>\n",
              "      <td>0</td>\n",
              "    </tr>\n",
              "    <tr>\n",
              "      <th>2</th>\n",
              "      <td>4141</td>\n",
              "      <td>1965</td>\n",
              "      <td>Graduation</td>\n",
              "      <td>Together</td>\n",
              "      <td>71613.0</td>\n",
              "      <td>0</td>\n",
              "      <td>0</td>\n",
              "      <td>8/21/2013</td>\n",
              "      <td>26</td>\n",
              "      <td>426</td>\n",
              "      <td>...</td>\n",
              "      <td>0</td>\n",
              "      <td>0</td>\n",
              "      <td>0</td>\n",
              "      <td>0</td>\n",
              "      <td>0</td>\n",
              "      <td>0</td>\n",
              "      <td>3</td>\n",
              "      <td>11</td>\n",
              "      <td>0</td>\n",
              "      <td>0</td>\n",
              "    </tr>\n",
              "    <tr>\n",
              "      <th>3</th>\n",
              "      <td>6182</td>\n",
              "      <td>1984</td>\n",
              "      <td>Graduation</td>\n",
              "      <td>Together</td>\n",
              "      <td>26646.0</td>\n",
              "      <td>1</td>\n",
              "      <td>0</td>\n",
              "      <td>2/10/2014</td>\n",
              "      <td>26</td>\n",
              "      <td>11</td>\n",
              "      <td>...</td>\n",
              "      <td>0</td>\n",
              "      <td>0</td>\n",
              "      <td>0</td>\n",
              "      <td>0</td>\n",
              "      <td>0</td>\n",
              "      <td>0</td>\n",
              "      <td>3</td>\n",
              "      <td>11</td>\n",
              "      <td>0</td>\n",
              "      <td>0</td>\n",
              "    </tr>\n",
              "    <tr>\n",
              "      <th>4</th>\n",
              "      <td>5324</td>\n",
              "      <td>1981</td>\n",
              "      <td>PhD</td>\n",
              "      <td>Married</td>\n",
              "      <td>58293.0</td>\n",
              "      <td>1</td>\n",
              "      <td>0</td>\n",
              "      <td>1/19/2014</td>\n",
              "      <td>94</td>\n",
              "      <td>173</td>\n",
              "      <td>...</td>\n",
              "      <td>0</td>\n",
              "      <td>0</td>\n",
              "      <td>0</td>\n",
              "      <td>0</td>\n",
              "      <td>0</td>\n",
              "      <td>0</td>\n",
              "      <td>3</td>\n",
              "      <td>11</td>\n",
              "      <td>0</td>\n",
              "      <td>0</td>\n",
              "    </tr>\n",
              "  </tbody>\n",
              "</table>\n",
              "<p>5 rows × 30 columns</p>\n",
              "</div>"
            ],
            "text/plain": [
              "     ID  Year_Birth   Education Marital_Status   Income  Kidhome  Teenhome  \\\n",
              "0  5524        1957  Graduation         Single  58138.0        0         0   \n",
              "1  2174        1954  Graduation         Single  46344.0        1         1   \n",
              "2  4141        1965  Graduation       Together  71613.0        0         0   \n",
              "3  6182        1984  Graduation       Together  26646.0        1         0   \n",
              "4  5324        1981         PhD        Married  58293.0        1         0   \n",
              "\n",
              "  Dt_Customer  Recency  MntWines  ...  AcceptedCmp3  AcceptedCmp4  \\\n",
              "0    9/4/2012       58       635  ...             0             0   \n",
              "1    3/8/2014       38        11  ...             0             0   \n",
              "2   8/21/2013       26       426  ...             0             0   \n",
              "3   2/10/2014       26        11  ...             0             0   \n",
              "4   1/19/2014       94       173  ...             0             0   \n",
              "\n",
              "   AcceptedCmp5  AcceptedCmp1  AcceptedCmp2  Complain  Z_CostContact  \\\n",
              "0             0             0             0         0              3   \n",
              "1             0             0             0         0              3   \n",
              "2             0             0             0         0              3   \n",
              "3             0             0             0         0              3   \n",
              "4             0             0             0         0              3   \n",
              "\n",
              "   Z_Revenue  AcceptedCmp6  Customer_Response  \n",
              "0         11             1                  1  \n",
              "1         11             0                  0  \n",
              "2         11             0                  0  \n",
              "3         11             0                  0  \n",
              "4         11             0                  0  \n",
              "\n",
              "[5 rows x 30 columns]"
            ]
          },
          "metadata": {
            "tags": []
          },
          "execution_count": 10
        }
      ]
    },
    {
      "cell_type": "markdown",
      "metadata": {
        "id": "yOr7BTI7TFGf"
      },
      "source": [
        "## 1 a. Frequency of the target variable"
      ],
      "id": "yOr7BTI7TFGf"
    },
    {
      "cell_type": "code",
      "metadata": {
        "scrolled": true,
        "id": "lpMyH5YQTFGf",
        "outputId": "4d0d4fd5-d079-4f6d-92bb-0d858ff45800"
      },
      "source": [
        "df['Customer_Response'].value_counts()"
      ],
      "id": "lpMyH5YQTFGf",
      "execution_count": null,
      "outputs": [
        {
          "output_type": "execute_result",
          "data": {
            "text/plain": [
              "0    1631\n",
              "1     609\n",
              "Name: Customer_Response, dtype: int64"
            ]
          },
          "metadata": {
            "tags": []
          },
          "execution_count": 11
        }
      ]
    },
    {
      "cell_type": "markdown",
      "metadata": {
        "id": "KsYdyX7wTFGf"
      },
      "source": [
        "### 1631 is the number of instances for 0 which tells that there are 1631 customers who have not responded to the any of the campaign.\n",
        "### 609 is the number of instances for 1 which tells that there are 609 customers who have responded to atleast one of the campaign.\n",
        "###  We can also see that creating the 'Customer_Reponse' variable reduced the number of '0's and provides a holoistic view if the customers ever accepted the offers through the campaigns"
      ],
      "id": "KsYdyX7wTFGf"
    },
    {
      "cell_type": "markdown",
      "metadata": {
        "id": "dOpfBUmJTFGg"
      },
      "source": [
        "### As new target variable i.e 'Customer_response' is created from the 6 campaigns , there is no more use of the 6 campaign columns, so we can drop it."
      ],
      "id": "dOpfBUmJTFGg"
    },
    {
      "cell_type": "markdown",
      "metadata": {
        "id": "0J4r2c8BTFGg"
      },
      "source": [
        "### Also dropping column 'Z_CostContact' & 'Z_Revenue' as they are constant variables."
      ],
      "id": "0J4r2c8BTFGg"
    },
    {
      "cell_type": "code",
      "metadata": {
        "scrolled": true,
        "id": "7qbls4YoTFGg"
      },
      "source": [
        "df = df.drop(['AcceptedCmp1', 'AcceptedCmp2', 'AcceptedCmp3', 'AcceptedCmp4', 'AcceptedCmp5', 'AcceptedCmp6', 'Z_CostContact', 'Z_Revenue'], axis = 1)"
      ],
      "id": "7qbls4YoTFGg",
      "execution_count": null,
      "outputs": []
    },
    {
      "cell_type": "markdown",
      "metadata": {
        "id": "jM16m32sTFGg"
      },
      "source": [
        "### 1 b. Identifying missing values & duplicates"
      ],
      "id": "jM16m32sTFGg"
    },
    {
      "cell_type": "code",
      "metadata": {
        "scrolled": false,
        "id": "k1rbRG19TFGh",
        "outputId": "827db249-e87b-4c25-c0b1-e7246c875e22"
      },
      "source": [
        "# Recalculating the missing values in the dataset\n",
        "df.isnull().sum()"
      ],
      "id": "k1rbRG19TFGh",
      "execution_count": null,
      "outputs": [
        {
          "output_type": "execute_result",
          "data": {
            "text/plain": [
              "ID                      0\n",
              "Year_Birth              0\n",
              "Education               0\n",
              "Marital_Status          0\n",
              "Income                 24\n",
              "Kidhome                 0\n",
              "Teenhome                0\n",
              "Dt_Customer             0\n",
              "Recency                 0\n",
              "MntWines                0\n",
              "MntFruits               0\n",
              "MntMeatProducts         0\n",
              "MntFishProducts         0\n",
              "MntSweetProducts        0\n",
              "MntGoldProds            0\n",
              "NumDealsPurchases       0\n",
              "NumWebPurchases         0\n",
              "NumCatalogPurchases     0\n",
              "NumStorePurchases       0\n",
              "NumWebVisitsMonth       0\n",
              "Complain                0\n",
              "Customer_Response       0\n",
              "dtype: int64"
            ]
          },
          "metadata": {
            "tags": []
          },
          "execution_count": 13
        }
      ]
    },
    {
      "cell_type": "markdown",
      "metadata": {
        "id": "oWTzTp6nTFGh"
      },
      "source": [
        "### Only 'Income' valriable has missing values. There are 24 missing values for the 'Income' variable. \n",
        "### Let's understand more about column 'Income'"
      ],
      "id": "oWTzTp6nTFGh"
    },
    {
      "cell_type": "markdown",
      "metadata": {
        "id": "cGgSjW4NTFGh"
      },
      "source": [
        "### Based on above table, there are no anomalies found in terms of '0's in the variables"
      ],
      "id": "cGgSjW4NTFGh"
    },
    {
      "cell_type": "code",
      "metadata": {
        "scrolled": true,
        "id": "M-4Qq_VMTFGh",
        "outputId": "b67f1124-25f2-48f7-a296-c8baf8bf99f1"
      },
      "source": [
        " df[\"Income\"].describe()"
      ],
      "id": "M-4Qq_VMTFGh",
      "execution_count": null,
      "outputs": [
        {
          "output_type": "execute_result",
          "data": {
            "text/plain": [
              "count      2216.000000\n",
              "mean      52247.251354\n",
              "std       25173.076661\n",
              "min        1730.000000\n",
              "25%       35303.000000\n",
              "50%       51381.500000\n",
              "75%       68522.000000\n",
              "max      666666.000000\n",
              "Name: Income, dtype: float64"
            ]
          },
          "metadata": {
            "tags": []
          },
          "execution_count": 14
        }
      ]
    },
    {
      "cell_type": "markdown",
      "metadata": {
        "id": "I0nOoO2xTFGi"
      },
      "source": [
        "### Handling missing values can be done in few ways- \n",
        "### We can delete the entire column containing null-values\n",
        "### delete the rows containing null-values or can impute the mean value\n",
        "### So, let's treat the missing values in 'Income' column by Imputation method.\n",
        "### Imputation fills in the missing value with some number. The imputed value won't be exactly right in most cases, but it usually gives more accurate models than dropping the column entirely."
      ],
      "id": "I0nOoO2xTFGi"
    },
    {
      "cell_type": "code",
      "metadata": {
        "id": "ridjcCTwTFGi"
      },
      "source": [
        "missing_col = ['Income']\n",
        "#Technique : Using mean to impute the missing values\n",
        "for i in missing_col:\n",
        " df.loc[df.loc[:,i].isnull(),i]=df.loc[:,i].mean()"
      ],
      "id": "ridjcCTwTFGi",
      "execution_count": null,
      "outputs": []
    },
    {
      "cell_type": "code",
      "metadata": {
        "id": "GMPgjBEQTFGi",
        "outputId": "439d11b8-09bd-4f72-b0a8-c6663cbe70dc"
      },
      "source": [
        "print(\"count of NULL values after imputation\\n\")\n",
        "df.isnull().sum()"
      ],
      "id": "GMPgjBEQTFGi",
      "execution_count": null,
      "outputs": [
        {
          "output_type": "stream",
          "text": [
            "count of NULL values after imputation\n",
            "\n"
          ],
          "name": "stdout"
        },
        {
          "output_type": "execute_result",
          "data": {
            "text/plain": [
              "ID                     0\n",
              "Year_Birth             0\n",
              "Education              0\n",
              "Marital_Status         0\n",
              "Income                 0\n",
              "Kidhome                0\n",
              "Teenhome               0\n",
              "Dt_Customer            0\n",
              "Recency                0\n",
              "MntWines               0\n",
              "MntFruits              0\n",
              "MntMeatProducts        0\n",
              "MntFishProducts        0\n",
              "MntSweetProducts       0\n",
              "MntGoldProds           0\n",
              "NumDealsPurchases      0\n",
              "NumWebPurchases        0\n",
              "NumCatalogPurchases    0\n",
              "NumStorePurchases      0\n",
              "NumWebVisitsMonth      0\n",
              "Complain               0\n",
              "Customer_Response      0\n",
              "dtype: int64"
            ]
          },
          "metadata": {
            "tags": []
          },
          "execution_count": 16
        }
      ]
    },
    {
      "cell_type": "markdown",
      "metadata": {
        "id": "qJwKUmfMTFGj"
      },
      "source": [
        "### Now there are no null values after imputation"
      ],
      "id": "qJwKUmfMTFGj"
    },
    {
      "cell_type": "markdown",
      "metadata": {
        "id": "M7ibwx3FTFGj"
      },
      "source": [
        "### Checking for duplicates"
      ],
      "id": "M7ibwx3FTFGj"
    },
    {
      "cell_type": "code",
      "metadata": {
        "id": "LPSMvU2TTFGj",
        "outputId": "e7ed4369-8a5b-4230-8e33-74c0d0a3d402"
      },
      "source": [
        "df.drop_duplicates()"
      ],
      "id": "LPSMvU2TTFGj",
      "execution_count": null,
      "outputs": [
        {
          "output_type": "execute_result",
          "data": {
            "text/html": [
              "<div>\n",
              "<style scoped>\n",
              "    .dataframe tbody tr th:only-of-type {\n",
              "        vertical-align: middle;\n",
              "    }\n",
              "\n",
              "    .dataframe tbody tr th {\n",
              "        vertical-align: top;\n",
              "    }\n",
              "\n",
              "    .dataframe thead th {\n",
              "        text-align: right;\n",
              "    }\n",
              "</style>\n",
              "<table border=\"1\" class=\"dataframe\">\n",
              "  <thead>\n",
              "    <tr style=\"text-align: right;\">\n",
              "      <th></th>\n",
              "      <th>ID</th>\n",
              "      <th>Year_Birth</th>\n",
              "      <th>Education</th>\n",
              "      <th>Marital_Status</th>\n",
              "      <th>Income</th>\n",
              "      <th>Kidhome</th>\n",
              "      <th>Teenhome</th>\n",
              "      <th>Dt_Customer</th>\n",
              "      <th>Recency</th>\n",
              "      <th>MntWines</th>\n",
              "      <th>...</th>\n",
              "      <th>MntFishProducts</th>\n",
              "      <th>MntSweetProducts</th>\n",
              "      <th>MntGoldProds</th>\n",
              "      <th>NumDealsPurchases</th>\n",
              "      <th>NumWebPurchases</th>\n",
              "      <th>NumCatalogPurchases</th>\n",
              "      <th>NumStorePurchases</th>\n",
              "      <th>NumWebVisitsMonth</th>\n",
              "      <th>Complain</th>\n",
              "      <th>Customer_Response</th>\n",
              "    </tr>\n",
              "  </thead>\n",
              "  <tbody>\n",
              "    <tr>\n",
              "      <th>0</th>\n",
              "      <td>5524</td>\n",
              "      <td>1957</td>\n",
              "      <td>Graduation</td>\n",
              "      <td>Single</td>\n",
              "      <td>58138.0</td>\n",
              "      <td>0</td>\n",
              "      <td>0</td>\n",
              "      <td>9/4/2012</td>\n",
              "      <td>58</td>\n",
              "      <td>635</td>\n",
              "      <td>...</td>\n",
              "      <td>172</td>\n",
              "      <td>88</td>\n",
              "      <td>88</td>\n",
              "      <td>3</td>\n",
              "      <td>8</td>\n",
              "      <td>10</td>\n",
              "      <td>4</td>\n",
              "      <td>7</td>\n",
              "      <td>0</td>\n",
              "      <td>1</td>\n",
              "    </tr>\n",
              "    <tr>\n",
              "      <th>1</th>\n",
              "      <td>2174</td>\n",
              "      <td>1954</td>\n",
              "      <td>Graduation</td>\n",
              "      <td>Single</td>\n",
              "      <td>46344.0</td>\n",
              "      <td>1</td>\n",
              "      <td>1</td>\n",
              "      <td>3/8/2014</td>\n",
              "      <td>38</td>\n",
              "      <td>11</td>\n",
              "      <td>...</td>\n",
              "      <td>2</td>\n",
              "      <td>1</td>\n",
              "      <td>6</td>\n",
              "      <td>2</td>\n",
              "      <td>1</td>\n",
              "      <td>1</td>\n",
              "      <td>2</td>\n",
              "      <td>5</td>\n",
              "      <td>0</td>\n",
              "      <td>0</td>\n",
              "    </tr>\n",
              "    <tr>\n",
              "      <th>2</th>\n",
              "      <td>4141</td>\n",
              "      <td>1965</td>\n",
              "      <td>Graduation</td>\n",
              "      <td>Together</td>\n",
              "      <td>71613.0</td>\n",
              "      <td>0</td>\n",
              "      <td>0</td>\n",
              "      <td>8/21/2013</td>\n",
              "      <td>26</td>\n",
              "      <td>426</td>\n",
              "      <td>...</td>\n",
              "      <td>111</td>\n",
              "      <td>21</td>\n",
              "      <td>42</td>\n",
              "      <td>1</td>\n",
              "      <td>8</td>\n",
              "      <td>2</td>\n",
              "      <td>10</td>\n",
              "      <td>4</td>\n",
              "      <td>0</td>\n",
              "      <td>0</td>\n",
              "    </tr>\n",
              "    <tr>\n",
              "      <th>3</th>\n",
              "      <td>6182</td>\n",
              "      <td>1984</td>\n",
              "      <td>Graduation</td>\n",
              "      <td>Together</td>\n",
              "      <td>26646.0</td>\n",
              "      <td>1</td>\n",
              "      <td>0</td>\n",
              "      <td>2/10/2014</td>\n",
              "      <td>26</td>\n",
              "      <td>11</td>\n",
              "      <td>...</td>\n",
              "      <td>10</td>\n",
              "      <td>3</td>\n",
              "      <td>5</td>\n",
              "      <td>2</td>\n",
              "      <td>2</td>\n",
              "      <td>0</td>\n",
              "      <td>4</td>\n",
              "      <td>6</td>\n",
              "      <td>0</td>\n",
              "      <td>0</td>\n",
              "    </tr>\n",
              "    <tr>\n",
              "      <th>4</th>\n",
              "      <td>5324</td>\n",
              "      <td>1981</td>\n",
              "      <td>PhD</td>\n",
              "      <td>Married</td>\n",
              "      <td>58293.0</td>\n",
              "      <td>1</td>\n",
              "      <td>0</td>\n",
              "      <td>1/19/2014</td>\n",
              "      <td>94</td>\n",
              "      <td>173</td>\n",
              "      <td>...</td>\n",
              "      <td>46</td>\n",
              "      <td>27</td>\n",
              "      <td>15</td>\n",
              "      <td>5</td>\n",
              "      <td>5</td>\n",
              "      <td>3</td>\n",
              "      <td>6</td>\n",
              "      <td>5</td>\n",
              "      <td>0</td>\n",
              "      <td>0</td>\n",
              "    </tr>\n",
              "    <tr>\n",
              "      <th>...</th>\n",
              "      <td>...</td>\n",
              "      <td>...</td>\n",
              "      <td>...</td>\n",
              "      <td>...</td>\n",
              "      <td>...</td>\n",
              "      <td>...</td>\n",
              "      <td>...</td>\n",
              "      <td>...</td>\n",
              "      <td>...</td>\n",
              "      <td>...</td>\n",
              "      <td>...</td>\n",
              "      <td>...</td>\n",
              "      <td>...</td>\n",
              "      <td>...</td>\n",
              "      <td>...</td>\n",
              "      <td>...</td>\n",
              "      <td>...</td>\n",
              "      <td>...</td>\n",
              "      <td>...</td>\n",
              "      <td>...</td>\n",
              "      <td>...</td>\n",
              "    </tr>\n",
              "    <tr>\n",
              "      <th>2235</th>\n",
              "      <td>10870</td>\n",
              "      <td>1967</td>\n",
              "      <td>Graduation</td>\n",
              "      <td>Married</td>\n",
              "      <td>61223.0</td>\n",
              "      <td>0</td>\n",
              "      <td>1</td>\n",
              "      <td>6/13/2013</td>\n",
              "      <td>46</td>\n",
              "      <td>709</td>\n",
              "      <td>...</td>\n",
              "      <td>42</td>\n",
              "      <td>118</td>\n",
              "      <td>247</td>\n",
              "      <td>2</td>\n",
              "      <td>9</td>\n",
              "      <td>3</td>\n",
              "      <td>4</td>\n",
              "      <td>5</td>\n",
              "      <td>0</td>\n",
              "      <td>0</td>\n",
              "    </tr>\n",
              "    <tr>\n",
              "      <th>2236</th>\n",
              "      <td>4001</td>\n",
              "      <td>1946</td>\n",
              "      <td>PhD</td>\n",
              "      <td>Together</td>\n",
              "      <td>64014.0</td>\n",
              "      <td>2</td>\n",
              "      <td>1</td>\n",
              "      <td>6/10/2014</td>\n",
              "      <td>56</td>\n",
              "      <td>406</td>\n",
              "      <td>...</td>\n",
              "      <td>0</td>\n",
              "      <td>0</td>\n",
              "      <td>8</td>\n",
              "      <td>7</td>\n",
              "      <td>8</td>\n",
              "      <td>2</td>\n",
              "      <td>5</td>\n",
              "      <td>7</td>\n",
              "      <td>0</td>\n",
              "      <td>1</td>\n",
              "    </tr>\n",
              "    <tr>\n",
              "      <th>2237</th>\n",
              "      <td>7270</td>\n",
              "      <td>1981</td>\n",
              "      <td>Graduation</td>\n",
              "      <td>Divorced</td>\n",
              "      <td>56981.0</td>\n",
              "      <td>0</td>\n",
              "      <td>0</td>\n",
              "      <td>1/25/2014</td>\n",
              "      <td>91</td>\n",
              "      <td>908</td>\n",
              "      <td>...</td>\n",
              "      <td>32</td>\n",
              "      <td>12</td>\n",
              "      <td>24</td>\n",
              "      <td>1</td>\n",
              "      <td>2</td>\n",
              "      <td>3</td>\n",
              "      <td>13</td>\n",
              "      <td>6</td>\n",
              "      <td>0</td>\n",
              "      <td>1</td>\n",
              "    </tr>\n",
              "    <tr>\n",
              "      <th>2238</th>\n",
              "      <td>8235</td>\n",
              "      <td>1956</td>\n",
              "      <td>Master</td>\n",
              "      <td>Together</td>\n",
              "      <td>69245.0</td>\n",
              "      <td>0</td>\n",
              "      <td>1</td>\n",
              "      <td>1/24/2014</td>\n",
              "      <td>8</td>\n",
              "      <td>428</td>\n",
              "      <td>...</td>\n",
              "      <td>80</td>\n",
              "      <td>30</td>\n",
              "      <td>61</td>\n",
              "      <td>2</td>\n",
              "      <td>6</td>\n",
              "      <td>5</td>\n",
              "      <td>10</td>\n",
              "      <td>3</td>\n",
              "      <td>0</td>\n",
              "      <td>0</td>\n",
              "    </tr>\n",
              "    <tr>\n",
              "      <th>2239</th>\n",
              "      <td>9405</td>\n",
              "      <td>1954</td>\n",
              "      <td>PhD</td>\n",
              "      <td>Married</td>\n",
              "      <td>52869.0</td>\n",
              "      <td>1</td>\n",
              "      <td>1</td>\n",
              "      <td>10/15/2012</td>\n",
              "      <td>40</td>\n",
              "      <td>84</td>\n",
              "      <td>...</td>\n",
              "      <td>2</td>\n",
              "      <td>1</td>\n",
              "      <td>21</td>\n",
              "      <td>3</td>\n",
              "      <td>3</td>\n",
              "      <td>1</td>\n",
              "      <td>4</td>\n",
              "      <td>7</td>\n",
              "      <td>0</td>\n",
              "      <td>1</td>\n",
              "    </tr>\n",
              "  </tbody>\n",
              "</table>\n",
              "<p>2240 rows × 22 columns</p>\n",
              "</div>"
            ],
            "text/plain": [
              "         ID  Year_Birth   Education Marital_Status   Income  Kidhome  \\\n",
              "0      5524        1957  Graduation         Single  58138.0        0   \n",
              "1      2174        1954  Graduation         Single  46344.0        1   \n",
              "2      4141        1965  Graduation       Together  71613.0        0   \n",
              "3      6182        1984  Graduation       Together  26646.0        1   \n",
              "4      5324        1981         PhD        Married  58293.0        1   \n",
              "...     ...         ...         ...            ...      ...      ...   \n",
              "2235  10870        1967  Graduation        Married  61223.0        0   \n",
              "2236   4001        1946         PhD       Together  64014.0        2   \n",
              "2237   7270        1981  Graduation       Divorced  56981.0        0   \n",
              "2238   8235        1956      Master       Together  69245.0        0   \n",
              "2239   9405        1954         PhD        Married  52869.0        1   \n",
              "\n",
              "      Teenhome Dt_Customer  Recency  MntWines  ...  MntFishProducts  \\\n",
              "0            0    9/4/2012       58       635  ...              172   \n",
              "1            1    3/8/2014       38        11  ...                2   \n",
              "2            0   8/21/2013       26       426  ...              111   \n",
              "3            0   2/10/2014       26        11  ...               10   \n",
              "4            0   1/19/2014       94       173  ...               46   \n",
              "...        ...         ...      ...       ...  ...              ...   \n",
              "2235         1   6/13/2013       46       709  ...               42   \n",
              "2236         1   6/10/2014       56       406  ...                0   \n",
              "2237         0   1/25/2014       91       908  ...               32   \n",
              "2238         1   1/24/2014        8       428  ...               80   \n",
              "2239         1  10/15/2012       40        84  ...                2   \n",
              "\n",
              "      MntSweetProducts  MntGoldProds  NumDealsPurchases  NumWebPurchases  \\\n",
              "0                   88            88                  3                8   \n",
              "1                    1             6                  2                1   \n",
              "2                   21            42                  1                8   \n",
              "3                    3             5                  2                2   \n",
              "4                   27            15                  5                5   \n",
              "...                ...           ...                ...              ...   \n",
              "2235               118           247                  2                9   \n",
              "2236                 0             8                  7                8   \n",
              "2237                12            24                  1                2   \n",
              "2238                30            61                  2                6   \n",
              "2239                 1            21                  3                3   \n",
              "\n",
              "      NumCatalogPurchases  NumStorePurchases  NumWebVisitsMonth  Complain  \\\n",
              "0                      10                  4                  7         0   \n",
              "1                       1                  2                  5         0   \n",
              "2                       2                 10                  4         0   \n",
              "3                       0                  4                  6         0   \n",
              "4                       3                  6                  5         0   \n",
              "...                   ...                ...                ...       ...   \n",
              "2235                    3                  4                  5         0   \n",
              "2236                    2                  5                  7         0   \n",
              "2237                    3                 13                  6         0   \n",
              "2238                    5                 10                  3         0   \n",
              "2239                    1                  4                  7         0   \n",
              "\n",
              "      Customer_Response  \n",
              "0                     1  \n",
              "1                     0  \n",
              "2                     0  \n",
              "3                     0  \n",
              "4                     0  \n",
              "...                 ...  \n",
              "2235                  0  \n",
              "2236                  1  \n",
              "2237                  1  \n",
              "2238                  0  \n",
              "2239                  1  \n",
              "\n",
              "[2240 rows x 22 columns]"
            ]
          },
          "metadata": {
            "tags": []
          },
          "execution_count": 17
        }
      ]
    },
    {
      "cell_type": "code",
      "metadata": {
        "scrolled": true,
        "id": "HfOWZNMgTFGj",
        "outputId": "a6ec16d2-a479-4770-d465-53b75435665a"
      },
      "source": [
        "# The duplicated values are indicated as True values in the resulting Series\n",
        "df.duplicated()"
      ],
      "id": "HfOWZNMgTFGj",
      "execution_count": null,
      "outputs": [
        {
          "output_type": "execute_result",
          "data": {
            "text/plain": [
              "0       False\n",
              "1       False\n",
              "2       False\n",
              "3       False\n",
              "4       False\n",
              "        ...  \n",
              "2235    False\n",
              "2236    False\n",
              "2237    False\n",
              "2238    False\n",
              "2239    False\n",
              "Length: 2240, dtype: bool"
            ]
          },
          "metadata": {
            "tags": []
          },
          "execution_count": 18
        }
      ]
    },
    {
      "cell_type": "markdown",
      "metadata": {
        "id": "8vPAyhvnTFGk"
      },
      "source": [
        "\n",
        "### After performing the action to remove duplicates the total number of rows are still 2240 which tells that there are no duplicate values in the dataset."
      ],
      "id": "8vPAyhvnTFGk"
    },
    {
      "cell_type": "code",
      "metadata": {
        "scrolled": false,
        "id": "8kBYZa62TFGk",
        "outputId": "f77be216-c7fd-4353-e505-4da5554b8c29"
      },
      "source": [
        "# Calculating number of Zeroes in each of the columns to find anomalies if any (such as high number of zeroes in Year_Birth)\n",
        "df.isin([0]).sum()"
      ],
      "id": "8kBYZa62TFGk",
      "execution_count": null,
      "outputs": [
        {
          "output_type": "execute_result",
          "data": {
            "text/plain": [
              "ID                        1\n",
              "Year_Birth                0\n",
              "Education                 0\n",
              "Marital_Status            0\n",
              "Income                    0\n",
              "Kidhome                1293\n",
              "Teenhome               1158\n",
              "Dt_Customer               0\n",
              "Recency                  28\n",
              "MntWines                 13\n",
              "MntFruits               400\n",
              "MntMeatProducts           1\n",
              "MntFishProducts         384\n",
              "MntSweetProducts        419\n",
              "MntGoldProds             61\n",
              "NumDealsPurchases        46\n",
              "NumWebPurchases          49\n",
              "NumCatalogPurchases     586\n",
              "NumStorePurchases        15\n",
              "NumWebVisitsMonth        11\n",
              "Complain               2219\n",
              "Customer_Response      1631\n",
              "dtype: int64"
            ]
          },
          "metadata": {
            "tags": []
          },
          "execution_count": 19
        }
      ]
    },
    {
      "cell_type": "markdown",
      "metadata": {
        "id": "0n7yy9D1TFGk"
      },
      "source": [
        "### Based on above table, there are no anomalies found in terms of '0's in the variables"
      ],
      "id": "0n7yy9D1TFGk"
    },
    {
      "cell_type": "markdown",
      "metadata": {
        "id": "0KLXJ1jxTFGl"
      },
      "source": [
        "### 1 c. Relationship between varibles"
      ],
      "id": "0KLXJ1jxTFGl"
    },
    {
      "cell_type": "markdown",
      "metadata": {
        "id": "HFZk3kg6TFGl"
      },
      "source": [
        "### Dropping 'ID' column"
      ],
      "id": "HFZk3kg6TFGl"
    },
    {
      "cell_type": "code",
      "metadata": {
        "id": "t6MSocvzTFGl"
      },
      "source": [
        "df = df.drop(['ID'], axis = 1)"
      ],
      "id": "t6MSocvzTFGl",
      "execution_count": null,
      "outputs": []
    },
    {
      "cell_type": "code",
      "metadata": {
        "id": "fHtxbfcgTFGl",
        "outputId": "51ba132c-c184-42eb-8fe4-690e7e19f885"
      },
      "source": [
        "df.head()"
      ],
      "id": "fHtxbfcgTFGl",
      "execution_count": null,
      "outputs": [
        {
          "output_type": "execute_result",
          "data": {
            "text/html": [
              "<div>\n",
              "<style scoped>\n",
              "    .dataframe tbody tr th:only-of-type {\n",
              "        vertical-align: middle;\n",
              "    }\n",
              "\n",
              "    .dataframe tbody tr th {\n",
              "        vertical-align: top;\n",
              "    }\n",
              "\n",
              "    .dataframe thead th {\n",
              "        text-align: right;\n",
              "    }\n",
              "</style>\n",
              "<table border=\"1\" class=\"dataframe\">\n",
              "  <thead>\n",
              "    <tr style=\"text-align: right;\">\n",
              "      <th></th>\n",
              "      <th>Year_Birth</th>\n",
              "      <th>Education</th>\n",
              "      <th>Marital_Status</th>\n",
              "      <th>Income</th>\n",
              "      <th>Kidhome</th>\n",
              "      <th>Teenhome</th>\n",
              "      <th>Dt_Customer</th>\n",
              "      <th>Recency</th>\n",
              "      <th>MntWines</th>\n",
              "      <th>MntFruits</th>\n",
              "      <th>...</th>\n",
              "      <th>MntFishProducts</th>\n",
              "      <th>MntSweetProducts</th>\n",
              "      <th>MntGoldProds</th>\n",
              "      <th>NumDealsPurchases</th>\n",
              "      <th>NumWebPurchases</th>\n",
              "      <th>NumCatalogPurchases</th>\n",
              "      <th>NumStorePurchases</th>\n",
              "      <th>NumWebVisitsMonth</th>\n",
              "      <th>Complain</th>\n",
              "      <th>Customer_Response</th>\n",
              "    </tr>\n",
              "  </thead>\n",
              "  <tbody>\n",
              "    <tr>\n",
              "      <th>0</th>\n",
              "      <td>1957</td>\n",
              "      <td>Graduation</td>\n",
              "      <td>Single</td>\n",
              "      <td>58138.0</td>\n",
              "      <td>0</td>\n",
              "      <td>0</td>\n",
              "      <td>9/4/2012</td>\n",
              "      <td>58</td>\n",
              "      <td>635</td>\n",
              "      <td>88</td>\n",
              "      <td>...</td>\n",
              "      <td>172</td>\n",
              "      <td>88</td>\n",
              "      <td>88</td>\n",
              "      <td>3</td>\n",
              "      <td>8</td>\n",
              "      <td>10</td>\n",
              "      <td>4</td>\n",
              "      <td>7</td>\n",
              "      <td>0</td>\n",
              "      <td>1</td>\n",
              "    </tr>\n",
              "    <tr>\n",
              "      <th>1</th>\n",
              "      <td>1954</td>\n",
              "      <td>Graduation</td>\n",
              "      <td>Single</td>\n",
              "      <td>46344.0</td>\n",
              "      <td>1</td>\n",
              "      <td>1</td>\n",
              "      <td>3/8/2014</td>\n",
              "      <td>38</td>\n",
              "      <td>11</td>\n",
              "      <td>1</td>\n",
              "      <td>...</td>\n",
              "      <td>2</td>\n",
              "      <td>1</td>\n",
              "      <td>6</td>\n",
              "      <td>2</td>\n",
              "      <td>1</td>\n",
              "      <td>1</td>\n",
              "      <td>2</td>\n",
              "      <td>5</td>\n",
              "      <td>0</td>\n",
              "      <td>0</td>\n",
              "    </tr>\n",
              "    <tr>\n",
              "      <th>2</th>\n",
              "      <td>1965</td>\n",
              "      <td>Graduation</td>\n",
              "      <td>Together</td>\n",
              "      <td>71613.0</td>\n",
              "      <td>0</td>\n",
              "      <td>0</td>\n",
              "      <td>8/21/2013</td>\n",
              "      <td>26</td>\n",
              "      <td>426</td>\n",
              "      <td>49</td>\n",
              "      <td>...</td>\n",
              "      <td>111</td>\n",
              "      <td>21</td>\n",
              "      <td>42</td>\n",
              "      <td>1</td>\n",
              "      <td>8</td>\n",
              "      <td>2</td>\n",
              "      <td>10</td>\n",
              "      <td>4</td>\n",
              "      <td>0</td>\n",
              "      <td>0</td>\n",
              "    </tr>\n",
              "    <tr>\n",
              "      <th>3</th>\n",
              "      <td>1984</td>\n",
              "      <td>Graduation</td>\n",
              "      <td>Together</td>\n",
              "      <td>26646.0</td>\n",
              "      <td>1</td>\n",
              "      <td>0</td>\n",
              "      <td>2/10/2014</td>\n",
              "      <td>26</td>\n",
              "      <td>11</td>\n",
              "      <td>4</td>\n",
              "      <td>...</td>\n",
              "      <td>10</td>\n",
              "      <td>3</td>\n",
              "      <td>5</td>\n",
              "      <td>2</td>\n",
              "      <td>2</td>\n",
              "      <td>0</td>\n",
              "      <td>4</td>\n",
              "      <td>6</td>\n",
              "      <td>0</td>\n",
              "      <td>0</td>\n",
              "    </tr>\n",
              "    <tr>\n",
              "      <th>4</th>\n",
              "      <td>1981</td>\n",
              "      <td>PhD</td>\n",
              "      <td>Married</td>\n",
              "      <td>58293.0</td>\n",
              "      <td>1</td>\n",
              "      <td>0</td>\n",
              "      <td>1/19/2014</td>\n",
              "      <td>94</td>\n",
              "      <td>173</td>\n",
              "      <td>43</td>\n",
              "      <td>...</td>\n",
              "      <td>46</td>\n",
              "      <td>27</td>\n",
              "      <td>15</td>\n",
              "      <td>5</td>\n",
              "      <td>5</td>\n",
              "      <td>3</td>\n",
              "      <td>6</td>\n",
              "      <td>5</td>\n",
              "      <td>0</td>\n",
              "      <td>0</td>\n",
              "    </tr>\n",
              "  </tbody>\n",
              "</table>\n",
              "<p>5 rows × 21 columns</p>\n",
              "</div>"
            ],
            "text/plain": [
              "   Year_Birth   Education Marital_Status   Income  Kidhome  Teenhome  \\\n",
              "0        1957  Graduation         Single  58138.0        0         0   \n",
              "1        1954  Graduation         Single  46344.0        1         1   \n",
              "2        1965  Graduation       Together  71613.0        0         0   \n",
              "3        1984  Graduation       Together  26646.0        1         0   \n",
              "4        1981         PhD        Married  58293.0        1         0   \n",
              "\n",
              "  Dt_Customer  Recency  MntWines  MntFruits  ...  MntFishProducts  \\\n",
              "0    9/4/2012       58       635         88  ...              172   \n",
              "1    3/8/2014       38        11          1  ...                2   \n",
              "2   8/21/2013       26       426         49  ...              111   \n",
              "3   2/10/2014       26        11          4  ...               10   \n",
              "4   1/19/2014       94       173         43  ...               46   \n",
              "\n",
              "   MntSweetProducts  MntGoldProds  NumDealsPurchases  NumWebPurchases  \\\n",
              "0                88            88                  3                8   \n",
              "1                 1             6                  2                1   \n",
              "2                21            42                  1                8   \n",
              "3                 3             5                  2                2   \n",
              "4                27            15                  5                5   \n",
              "\n",
              "   NumCatalogPurchases  NumStorePurchases  NumWebVisitsMonth  Complain  \\\n",
              "0                   10                  4                  7         0   \n",
              "1                    1                  2                  5         0   \n",
              "2                    2                 10                  4         0   \n",
              "3                    0                  4                  6         0   \n",
              "4                    3                  6                  5         0   \n",
              "\n",
              "   Customer_Response  \n",
              "0                  1  \n",
              "1                  0  \n",
              "2                  0  \n",
              "3                  0  \n",
              "4                  0  \n",
              "\n",
              "[5 rows x 21 columns]"
            ]
          },
          "metadata": {
            "tags": []
          },
          "execution_count": 21
        }
      ]
    },
    {
      "cell_type": "code",
      "metadata": {
        "scrolled": true,
        "id": "RRCEEgIKTFGl",
        "outputId": "a31cb95e-e66b-4416-8833-92ccd9c8fa6d"
      },
      "source": [
        "# Statistical summary of data frame\n",
        "df.describe([.01,.1,.2,.3,.4,.5,.6,.7,.8,.9,.99])"
      ],
      "id": "RRCEEgIKTFGl",
      "execution_count": null,
      "outputs": [
        {
          "output_type": "execute_result",
          "data": {
            "text/html": [
              "<div>\n",
              "<style scoped>\n",
              "    .dataframe tbody tr th:only-of-type {\n",
              "        vertical-align: middle;\n",
              "    }\n",
              "\n",
              "    .dataframe tbody tr th {\n",
              "        vertical-align: top;\n",
              "    }\n",
              "\n",
              "    .dataframe thead th {\n",
              "        text-align: right;\n",
              "    }\n",
              "</style>\n",
              "<table border=\"1\" class=\"dataframe\">\n",
              "  <thead>\n",
              "    <tr style=\"text-align: right;\">\n",
              "      <th></th>\n",
              "      <th>Year_Birth</th>\n",
              "      <th>Income</th>\n",
              "      <th>Kidhome</th>\n",
              "      <th>Teenhome</th>\n",
              "      <th>Recency</th>\n",
              "      <th>MntWines</th>\n",
              "      <th>MntFruits</th>\n",
              "      <th>MntMeatProducts</th>\n",
              "      <th>MntFishProducts</th>\n",
              "      <th>MntSweetProducts</th>\n",
              "      <th>MntGoldProds</th>\n",
              "      <th>NumDealsPurchases</th>\n",
              "      <th>NumWebPurchases</th>\n",
              "      <th>NumCatalogPurchases</th>\n",
              "      <th>NumStorePurchases</th>\n",
              "      <th>NumWebVisitsMonth</th>\n",
              "      <th>Complain</th>\n",
              "      <th>Customer_Response</th>\n",
              "    </tr>\n",
              "  </thead>\n",
              "  <tbody>\n",
              "    <tr>\n",
              "      <th>count</th>\n",
              "      <td>2240.000000</td>\n",
              "      <td>2240.000000</td>\n",
              "      <td>2240.000000</td>\n",
              "      <td>2240.000000</td>\n",
              "      <td>2240.000000</td>\n",
              "      <td>2240.000000</td>\n",
              "      <td>2240.000000</td>\n",
              "      <td>2240.000000</td>\n",
              "      <td>2240.000000</td>\n",
              "      <td>2240.000000</td>\n",
              "      <td>2240.000000</td>\n",
              "      <td>2240.000000</td>\n",
              "      <td>2240.000000</td>\n",
              "      <td>2240.000000</td>\n",
              "      <td>2240.000000</td>\n",
              "      <td>2240.000000</td>\n",
              "      <td>2240.000000</td>\n",
              "      <td>2240.000000</td>\n",
              "    </tr>\n",
              "    <tr>\n",
              "      <th>mean</th>\n",
              "      <td>1968.805804</td>\n",
              "      <td>52247.251354</td>\n",
              "      <td>0.444196</td>\n",
              "      <td>0.506250</td>\n",
              "      <td>49.109375</td>\n",
              "      <td>303.935714</td>\n",
              "      <td>26.302232</td>\n",
              "      <td>166.950000</td>\n",
              "      <td>37.525446</td>\n",
              "      <td>27.062946</td>\n",
              "      <td>44.021875</td>\n",
              "      <td>2.325000</td>\n",
              "      <td>4.084821</td>\n",
              "      <td>2.662054</td>\n",
              "      <td>5.790179</td>\n",
              "      <td>5.316518</td>\n",
              "      <td>0.009375</td>\n",
              "      <td>0.271875</td>\n",
              "    </tr>\n",
              "    <tr>\n",
              "      <th>std</th>\n",
              "      <td>11.984069</td>\n",
              "      <td>25037.797168</td>\n",
              "      <td>0.538398</td>\n",
              "      <td>0.544538</td>\n",
              "      <td>28.962453</td>\n",
              "      <td>336.597393</td>\n",
              "      <td>39.773434</td>\n",
              "      <td>225.715373</td>\n",
              "      <td>54.628979</td>\n",
              "      <td>41.280498</td>\n",
              "      <td>52.167439</td>\n",
              "      <td>1.932238</td>\n",
              "      <td>2.778714</td>\n",
              "      <td>2.923101</td>\n",
              "      <td>3.250958</td>\n",
              "      <td>2.426645</td>\n",
              "      <td>0.096391</td>\n",
              "      <td>0.445025</td>\n",
              "    </tr>\n",
              "    <tr>\n",
              "      <th>min</th>\n",
              "      <td>1893.000000</td>\n",
              "      <td>1730.000000</td>\n",
              "      <td>0.000000</td>\n",
              "      <td>0.000000</td>\n",
              "      <td>0.000000</td>\n",
              "      <td>0.000000</td>\n",
              "      <td>0.000000</td>\n",
              "      <td>0.000000</td>\n",
              "      <td>0.000000</td>\n",
              "      <td>0.000000</td>\n",
              "      <td>0.000000</td>\n",
              "      <td>0.000000</td>\n",
              "      <td>0.000000</td>\n",
              "      <td>0.000000</td>\n",
              "      <td>0.000000</td>\n",
              "      <td>0.000000</td>\n",
              "      <td>0.000000</td>\n",
              "      <td>0.000000</td>\n",
              "    </tr>\n",
              "    <tr>\n",
              "      <th>1%</th>\n",
              "      <td>1945.000000</td>\n",
              "      <td>7705.920000</td>\n",
              "      <td>0.000000</td>\n",
              "      <td>0.000000</td>\n",
              "      <td>0.000000</td>\n",
              "      <td>1.000000</td>\n",
              "      <td>0.000000</td>\n",
              "      <td>2.000000</td>\n",
              "      <td>0.000000</td>\n",
              "      <td>0.000000</td>\n",
              "      <td>0.000000</td>\n",
              "      <td>0.000000</td>\n",
              "      <td>0.000000</td>\n",
              "      <td>0.000000</td>\n",
              "      <td>2.000000</td>\n",
              "      <td>1.000000</td>\n",
              "      <td>0.000000</td>\n",
              "      <td>0.000000</td>\n",
              "    </tr>\n",
              "    <tr>\n",
              "      <th>10%</th>\n",
              "      <td>1952.000000</td>\n",
              "      <td>24219.500000</td>\n",
              "      <td>0.000000</td>\n",
              "      <td>0.000000</td>\n",
              "      <td>9.000000</td>\n",
              "      <td>6.000000</td>\n",
              "      <td>0.000000</td>\n",
              "      <td>7.000000</td>\n",
              "      <td>0.000000</td>\n",
              "      <td>0.000000</td>\n",
              "      <td>3.000000</td>\n",
              "      <td>1.000000</td>\n",
              "      <td>1.000000</td>\n",
              "      <td>0.000000</td>\n",
              "      <td>2.000000</td>\n",
              "      <td>2.000000</td>\n",
              "      <td>0.000000</td>\n",
              "      <td>0.000000</td>\n",
              "    </tr>\n",
              "    <tr>\n",
              "      <th>20%</th>\n",
              "      <td>1957.000000</td>\n",
              "      <td>32230.000000</td>\n",
              "      <td>0.000000</td>\n",
              "      <td>0.000000</td>\n",
              "      <td>19.000000</td>\n",
              "      <td>16.000000</td>\n",
              "      <td>1.000000</td>\n",
              "      <td>12.000000</td>\n",
              "      <td>2.000000</td>\n",
              "      <td>1.000000</td>\n",
              "      <td>6.000000</td>\n",
              "      <td>1.000000</td>\n",
              "      <td>2.000000</td>\n",
              "      <td>0.000000</td>\n",
              "      <td>3.000000</td>\n",
              "      <td>3.000000</td>\n",
              "      <td>0.000000</td>\n",
              "      <td>0.000000</td>\n",
              "    </tr>\n",
              "    <tr>\n",
              "      <th>30%</th>\n",
              "      <td>1962.000000</td>\n",
              "      <td>38361.000000</td>\n",
              "      <td>0.000000</td>\n",
              "      <td>0.000000</td>\n",
              "      <td>29.000000</td>\n",
              "      <td>34.000000</td>\n",
              "      <td>2.000000</td>\n",
              "      <td>20.000000</td>\n",
              "      <td>3.000000</td>\n",
              "      <td>2.000000</td>\n",
              "      <td>11.000000</td>\n",
              "      <td>1.000000</td>\n",
              "      <td>2.000000</td>\n",
              "      <td>1.000000</td>\n",
              "      <td>3.000000</td>\n",
              "      <td>4.000000</td>\n",
              "      <td>0.000000</td>\n",
              "      <td>0.000000</td>\n",
              "    </tr>\n",
              "    <tr>\n",
              "      <th>40%</th>\n",
              "      <td>1966.000000</td>\n",
              "      <td>44944.200000</td>\n",
              "      <td>0.000000</td>\n",
              "      <td>0.000000</td>\n",
              "      <td>39.000000</td>\n",
              "      <td>81.000000</td>\n",
              "      <td>4.000000</td>\n",
              "      <td>35.000000</td>\n",
              "      <td>7.000000</td>\n",
              "      <td>5.000000</td>\n",
              "      <td>17.000000</td>\n",
              "      <td>1.000000</td>\n",
              "      <td>3.000000</td>\n",
              "      <td>1.000000</td>\n",
              "      <td>4.000000</td>\n",
              "      <td>5.000000</td>\n",
              "      <td>0.000000</td>\n",
              "      <td>0.000000</td>\n",
              "    </tr>\n",
              "    <tr>\n",
              "      <th>50%</th>\n",
              "      <td>1970.000000</td>\n",
              "      <td>51741.500000</td>\n",
              "      <td>0.000000</td>\n",
              "      <td>0.000000</td>\n",
              "      <td>49.000000</td>\n",
              "      <td>173.500000</td>\n",
              "      <td>8.000000</td>\n",
              "      <td>67.000000</td>\n",
              "      <td>12.000000</td>\n",
              "      <td>8.000000</td>\n",
              "      <td>24.000000</td>\n",
              "      <td>2.000000</td>\n",
              "      <td>4.000000</td>\n",
              "      <td>2.000000</td>\n",
              "      <td>5.000000</td>\n",
              "      <td>6.000000</td>\n",
              "      <td>0.000000</td>\n",
              "      <td>0.000000</td>\n",
              "    </tr>\n",
              "    <tr>\n",
              "      <th>60%</th>\n",
              "      <td>1973.000000</td>\n",
              "      <td>58169.600000</td>\n",
              "      <td>1.000000</td>\n",
              "      <td>1.000000</td>\n",
              "      <td>59.000000</td>\n",
              "      <td>284.400000</td>\n",
              "      <td>15.000000</td>\n",
              "      <td>108.400000</td>\n",
              "      <td>20.000000</td>\n",
              "      <td>14.000000</td>\n",
              "      <td>34.000000</td>\n",
              "      <td>2.000000</td>\n",
              "      <td>4.000000</td>\n",
              "      <td>2.000000</td>\n",
              "      <td>6.000000</td>\n",
              "      <td>6.000000</td>\n",
              "      <td>0.000000</td>\n",
              "      <td>0.000000</td>\n",
              "    </tr>\n",
              "    <tr>\n",
              "      <th>70%</th>\n",
              "      <td>1976.000000</td>\n",
              "      <td>65104.600000</td>\n",
              "      <td>1.000000</td>\n",
              "      <td>1.000000</td>\n",
              "      <td>69.000000</td>\n",
              "      <td>418.600000</td>\n",
              "      <td>25.000000</td>\n",
              "      <td>177.000000</td>\n",
              "      <td>37.000000</td>\n",
              "      <td>26.000000</td>\n",
              "      <td>46.000000</td>\n",
              "      <td>3.000000</td>\n",
              "      <td>5.000000</td>\n",
              "      <td>4.000000</td>\n",
              "      <td>7.000000</td>\n",
              "      <td>7.000000</td>\n",
              "      <td>0.000000</td>\n",
              "      <td>0.000000</td>\n",
              "    </tr>\n",
              "    <tr>\n",
              "      <th>80%</th>\n",
              "      <td>1979.000000</td>\n",
              "      <td>71634.800000</td>\n",
              "      <td>1.000000</td>\n",
              "      <td>1.000000</td>\n",
              "      <td>79.000000</td>\n",
              "      <td>581.200000</td>\n",
              "      <td>44.000000</td>\n",
              "      <td>298.400000</td>\n",
              "      <td>65.000000</td>\n",
              "      <td>44.200000</td>\n",
              "      <td>73.000000</td>\n",
              "      <td>3.000000</td>\n",
              "      <td>6.000000</td>\n",
              "      <td>5.000000</td>\n",
              "      <td>9.000000</td>\n",
              "      <td>7.000000</td>\n",
              "      <td>0.000000</td>\n",
              "      <td>1.000000</td>\n",
              "    </tr>\n",
              "    <tr>\n",
              "      <th>90%</th>\n",
              "      <td>1984.000000</td>\n",
              "      <td>79800.300000</td>\n",
              "      <td>1.000000</td>\n",
              "      <td>1.000000</td>\n",
              "      <td>89.000000</td>\n",
              "      <td>822.100000</td>\n",
              "      <td>83.000000</td>\n",
              "      <td>499.000000</td>\n",
              "      <td>120.000000</td>\n",
              "      <td>89.000000</td>\n",
              "      <td>122.000000</td>\n",
              "      <td>5.000000</td>\n",
              "      <td>8.000000</td>\n",
              "      <td>7.000000</td>\n",
              "      <td>11.000000</td>\n",
              "      <td>8.000000</td>\n",
              "      <td>0.000000</td>\n",
              "      <td>1.000000</td>\n",
              "    </tr>\n",
              "    <tr>\n",
              "      <th>99%</th>\n",
              "      <td>1992.000000</td>\n",
              "      <td>94437.680000</td>\n",
              "      <td>2.000000</td>\n",
              "      <td>2.000000</td>\n",
              "      <td>98.000000</td>\n",
              "      <td>1285.000000</td>\n",
              "      <td>172.000000</td>\n",
              "      <td>915.000000</td>\n",
              "      <td>226.220000</td>\n",
              "      <td>177.220000</td>\n",
              "      <td>227.000000</td>\n",
              "      <td>10.000000</td>\n",
              "      <td>11.000000</td>\n",
              "      <td>10.610000</td>\n",
              "      <td>13.000000</td>\n",
              "      <td>9.000000</td>\n",
              "      <td>0.000000</td>\n",
              "      <td>1.000000</td>\n",
              "    </tr>\n",
              "    <tr>\n",
              "      <th>max</th>\n",
              "      <td>1996.000000</td>\n",
              "      <td>666666.000000</td>\n",
              "      <td>2.000000</td>\n",
              "      <td>2.000000</td>\n",
              "      <td>99.000000</td>\n",
              "      <td>1493.000000</td>\n",
              "      <td>199.000000</td>\n",
              "      <td>1725.000000</td>\n",
              "      <td>259.000000</td>\n",
              "      <td>263.000000</td>\n",
              "      <td>362.000000</td>\n",
              "      <td>15.000000</td>\n",
              "      <td>27.000000</td>\n",
              "      <td>28.000000</td>\n",
              "      <td>13.000000</td>\n",
              "      <td>20.000000</td>\n",
              "      <td>1.000000</td>\n",
              "      <td>1.000000</td>\n",
              "    </tr>\n",
              "  </tbody>\n",
              "</table>\n",
              "</div>"
            ],
            "text/plain": [
              "        Year_Birth         Income      Kidhome     Teenhome      Recency  \\\n",
              "count  2240.000000    2240.000000  2240.000000  2240.000000  2240.000000   \n",
              "mean   1968.805804   52247.251354     0.444196     0.506250    49.109375   \n",
              "std      11.984069   25037.797168     0.538398     0.544538    28.962453   \n",
              "min    1893.000000    1730.000000     0.000000     0.000000     0.000000   \n",
              "1%     1945.000000    7705.920000     0.000000     0.000000     0.000000   \n",
              "10%    1952.000000   24219.500000     0.000000     0.000000     9.000000   \n",
              "20%    1957.000000   32230.000000     0.000000     0.000000    19.000000   \n",
              "30%    1962.000000   38361.000000     0.000000     0.000000    29.000000   \n",
              "40%    1966.000000   44944.200000     0.000000     0.000000    39.000000   \n",
              "50%    1970.000000   51741.500000     0.000000     0.000000    49.000000   \n",
              "60%    1973.000000   58169.600000     1.000000     1.000000    59.000000   \n",
              "70%    1976.000000   65104.600000     1.000000     1.000000    69.000000   \n",
              "80%    1979.000000   71634.800000     1.000000     1.000000    79.000000   \n",
              "90%    1984.000000   79800.300000     1.000000     1.000000    89.000000   \n",
              "99%    1992.000000   94437.680000     2.000000     2.000000    98.000000   \n",
              "max    1996.000000  666666.000000     2.000000     2.000000    99.000000   \n",
              "\n",
              "          MntWines    MntFruits  MntMeatProducts  MntFishProducts  \\\n",
              "count  2240.000000  2240.000000      2240.000000      2240.000000   \n",
              "mean    303.935714    26.302232       166.950000        37.525446   \n",
              "std     336.597393    39.773434       225.715373        54.628979   \n",
              "min       0.000000     0.000000         0.000000         0.000000   \n",
              "1%        1.000000     0.000000         2.000000         0.000000   \n",
              "10%       6.000000     0.000000         7.000000         0.000000   \n",
              "20%      16.000000     1.000000        12.000000         2.000000   \n",
              "30%      34.000000     2.000000        20.000000         3.000000   \n",
              "40%      81.000000     4.000000        35.000000         7.000000   \n",
              "50%     173.500000     8.000000        67.000000        12.000000   \n",
              "60%     284.400000    15.000000       108.400000        20.000000   \n",
              "70%     418.600000    25.000000       177.000000        37.000000   \n",
              "80%     581.200000    44.000000       298.400000        65.000000   \n",
              "90%     822.100000    83.000000       499.000000       120.000000   \n",
              "99%    1285.000000   172.000000       915.000000       226.220000   \n",
              "max    1493.000000   199.000000      1725.000000       259.000000   \n",
              "\n",
              "       MntSweetProducts  MntGoldProds  NumDealsPurchases  NumWebPurchases  \\\n",
              "count       2240.000000   2240.000000        2240.000000      2240.000000   \n",
              "mean          27.062946     44.021875           2.325000         4.084821   \n",
              "std           41.280498     52.167439           1.932238         2.778714   \n",
              "min            0.000000      0.000000           0.000000         0.000000   \n",
              "1%             0.000000      0.000000           0.000000         0.000000   \n",
              "10%            0.000000      3.000000           1.000000         1.000000   \n",
              "20%            1.000000      6.000000           1.000000         2.000000   \n",
              "30%            2.000000     11.000000           1.000000         2.000000   \n",
              "40%            5.000000     17.000000           1.000000         3.000000   \n",
              "50%            8.000000     24.000000           2.000000         4.000000   \n",
              "60%           14.000000     34.000000           2.000000         4.000000   \n",
              "70%           26.000000     46.000000           3.000000         5.000000   \n",
              "80%           44.200000     73.000000           3.000000         6.000000   \n",
              "90%           89.000000    122.000000           5.000000         8.000000   \n",
              "99%          177.220000    227.000000          10.000000        11.000000   \n",
              "max          263.000000    362.000000          15.000000        27.000000   \n",
              "\n",
              "       NumCatalogPurchases  NumStorePurchases  NumWebVisitsMonth     Complain  \\\n",
              "count          2240.000000        2240.000000        2240.000000  2240.000000   \n",
              "mean              2.662054           5.790179           5.316518     0.009375   \n",
              "std               2.923101           3.250958           2.426645     0.096391   \n",
              "min               0.000000           0.000000           0.000000     0.000000   \n",
              "1%                0.000000           2.000000           1.000000     0.000000   \n",
              "10%               0.000000           2.000000           2.000000     0.000000   \n",
              "20%               0.000000           3.000000           3.000000     0.000000   \n",
              "30%               1.000000           3.000000           4.000000     0.000000   \n",
              "40%               1.000000           4.000000           5.000000     0.000000   \n",
              "50%               2.000000           5.000000           6.000000     0.000000   \n",
              "60%               2.000000           6.000000           6.000000     0.000000   \n",
              "70%               4.000000           7.000000           7.000000     0.000000   \n",
              "80%               5.000000           9.000000           7.000000     0.000000   \n",
              "90%               7.000000          11.000000           8.000000     0.000000   \n",
              "99%              10.610000          13.000000           9.000000     0.000000   \n",
              "max              28.000000          13.000000          20.000000     1.000000   \n",
              "\n",
              "       Customer_Response  \n",
              "count        2240.000000  \n",
              "mean            0.271875  \n",
              "std             0.445025  \n",
              "min             0.000000  \n",
              "1%              0.000000  \n",
              "10%             0.000000  \n",
              "20%             0.000000  \n",
              "30%             0.000000  \n",
              "40%             0.000000  \n",
              "50%             0.000000  \n",
              "60%             0.000000  \n",
              "70%             0.000000  \n",
              "80%             1.000000  \n",
              "90%             1.000000  \n",
              "99%             1.000000  \n",
              "max             1.000000  "
            ]
          },
          "metadata": {
            "tags": []
          },
          "execution_count": 22
        }
      ]
    },
    {
      "cell_type": "markdown",
      "metadata": {
        "id": "IPcJ6I9YTFGm"
      },
      "source": [
        "### To understand the relationship between dependent variable and independent variables, creating plot and heatmap"
      ],
      "id": "IPcJ6I9YTFGm"
    },
    {
      "cell_type": "code",
      "metadata": {
        "id": "2ZLWIr6mTFGm"
      },
      "source": [
        "predictors = [ 'Year_Birth', 'Education', 'Marital_Status', 'Income', 'Kidhome',\n",
        "       'Teenhome', 'Dt_Customer', 'Recency', 'MntWines', 'MntFruits',\n",
        "       'MntMeatProducts', 'MntFishProducts', 'MntSweetProducts',\n",
        "       'MntGoldProds', 'NumDealsPurchases', 'NumWebPurchases',\n",
        "       'NumCatalogPurchases', 'NumStorePurchases', 'NumWebVisitsMonth', 'Complain']\n",
        "\n",
        "outcome = 'Customer_Response'\n"
      ],
      "id": "2ZLWIr6mTFGm",
      "execution_count": null,
      "outputs": []
    },
    {
      "cell_type": "code",
      "metadata": {
        "scrolled": true,
        "id": "tx1y06E2TFGm",
        "outputId": "f4e802cf-6a40-4c42-ba53-a3334ade422e"
      },
      "source": [
        "sns.distplot(df['Customer_Response'])"
      ],
      "id": "tx1y06E2TFGm",
      "execution_count": null,
      "outputs": [
        {
          "output_type": "execute_result",
          "data": {
            "text/plain": [
              "<matplotlib.axes._subplots.AxesSubplot at 0x7fcd941aec40>"
            ]
          },
          "metadata": {
            "tags": []
          },
          "execution_count": 24
        },
        {
          "output_type": "display_data",
          "data": {
            "image/png": "[encoded data removed]",
            "text/plain": [
              "<Figure size 432x288 with 1 Axes>"
            ]
          },
          "metadata": {
            "tags": [],
            "needs_background": "light"
          }
        }
      ]
    },
    {
      "cell_type": "markdown",
      "metadata": {
        "id": "nGjR2M4cTFGm"
      },
      "source": [
        "### Above graph shows the ratio between the customers who responded to any of the campaigns and those who never responded to any campaign"
      ],
      "id": "nGjR2M4cTFGm"
    },
    {
      "cell_type": "code",
      "metadata": {
        "id": "FO8trIZWTFGn",
        "outputId": "efc34747-efa0-4861-c1df-75323e321600"
      },
      "source": [
        "df['Customer_Response'].sum()"
      ],
      "id": "FO8trIZWTFGn",
      "execution_count": null,
      "outputs": [
        {
          "output_type": "execute_result",
          "data": {
            "text/plain": [
              "609"
            ]
          },
          "metadata": {
            "tags": []
          },
          "execution_count": 25
        }
      ]
    },
    {
      "cell_type": "code",
      "metadata": {
        "id": "tWg8RCYfTFGn",
        "outputId": "6afdc118-ccb2-4427-f6fa-26ee67d7bbc4"
      },
      "source": [
        "df_small = df.iloc[:,:29]\n",
        "correlation_mat = df_small.corr()\n",
        "fig, ax = plt.subplots(figsize=(20,20))\n",
        "sns.heatmap(correlation_mat, annot = True, linewidths=.5)\n",
        "plt.show()"
      ],
      "id": "tWg8RCYfTFGn",
      "execution_count": null,
      "outputs": [
        {
          "output_type": "display_data",
          "data": {
            "image/png": "[encoded data removed]",
            "text/plain": [
              "<Figure size 1440x1440 with 2 Axes>"
            ]
          },
          "metadata": {
            "tags": [],
            "needs_background": "light"
          }
        }
      ]
    },
    {
      "cell_type": "markdown",
      "metadata": {
        "id": "D-zDIcpvTFGn"
      },
      "source": [
        "### Each square of the heatmap shows correlation between the variables on each axis. Values closer to zero means there is no linear trend between the two variables. The close to 1 correlation is positively correlated. Taking positive 0.4 as the benchmark, we can check which variables have more postive corelarion with other variables."
      ],
      "id": "D-zDIcpvTFGn"
    },
    {
      "cell_type": "markdown",
      "metadata": {
        "id": "2nhCfSvcTFGn"
      },
      "source": [
        "### Identifying the outliers with interquartile range"
      ],
      "id": "2nhCfSvcTFGn"
    },
    {
      "cell_type": "code",
      "metadata": {
        "id": "Aqwbp4dnTFGo",
        "outputId": "bb3710e1-6a14-4825-c89a-f8813805f2e3"
      },
      "source": [
        "#Sorting the dataset\n",
        "# 50th percentile is median\n",
        "sorted(df)\n",
        "Q1=df.quantile(0.25)\n",
        "Q3=df.quantile(0.75)\n",
        "IQR=Q3-Q1\n",
        "print(IQR)"
      ],
      "id": "Aqwbp4dnTFGo",
      "execution_count": null,
      "outputs": [
        {
          "output_type": "stream",
          "text": [
            "Year_Birth                18.0\n",
            "Income                 32751.0\n",
            "Kidhome                    1.0\n",
            "Teenhome                   1.0\n",
            "Recency                   50.0\n",
            "MntWines                 480.5\n",
            "MntFruits                 32.0\n",
            "MntMeatProducts          216.0\n",
            "MntFishProducts           47.0\n",
            "MntSweetProducts          32.0\n",
            "MntGoldProds              47.0\n",
            "NumDealsPurchases          2.0\n",
            "NumWebPurchases            4.0\n",
            "NumCatalogPurchases        4.0\n",
            "NumStorePurchases          5.0\n",
            "NumWebVisitsMonth          4.0\n",
            "Complain                   0.0\n",
            "Customer_Response          1.0\n",
            "dtype: float64\n"
          ],
          "name": "stdout"
        }
      ]
    },
    {
      "cell_type": "code",
      "metadata": {
        "scrolled": false,
        "id": "YDCCgSPuTFGo",
        "outputId": "2ae25e1b-5f02-4028-c8e8-55d8e14eb974"
      },
      "source": [
        "((df < (Q1 - 1.5 * IQR)) | (df > (Q3 + 1.5 * IQR))).sum()\n"
      ],
      "id": "YDCCgSPuTFGo",
      "execution_count": null,
      "outputs": [
        {
          "output_type": "execute_result",
          "data": {
            "text/plain": [
              "Complain                21\n",
              "Customer_Response        0\n",
              "Dt_Customer              0\n",
              "Education                0\n",
              "Income                   8\n",
              "Kidhome                  0\n",
              "Marital_Status           0\n",
              "MntFishProducts        223\n",
              "MntFruits              227\n",
              "MntGoldProds           207\n",
              "MntMeatProducts        175\n",
              "MntSweetProducts       248\n",
              "MntWines                35\n",
              "NumCatalogPurchases     23\n",
              "NumDealsPurchases       86\n",
              "NumStorePurchases        0\n",
              "NumWebPurchases          4\n",
              "NumWebVisitsMonth        8\n",
              "Recency                  0\n",
              "Teenhome                 0\n",
              "Year_Birth               3\n",
              "dtype: int64"
            ]
          },
          "metadata": {
            "tags": []
          },
          "execution_count": 28
        }
      ]
    },
    {
      "cell_type": "markdown",
      "metadata": {
        "id": "2UBs5mhaTFGo"
      },
      "source": [
        "### Here Complain variable do not require an outlier treatment as it has binary values(1, 0)"
      ],
      "id": "2UBs5mhaTFGo"
    },
    {
      "cell_type": "markdown",
      "metadata": {
        "id": "KeJkBRc4TFGo"
      },
      "source": [
        "### Outlier treatment has to be done. There are different outlier treatment like by calculating mean and median, but the one of the most commonly used approach is calculating percentile  value and replacing the outliers with that percentile value. "
      ],
      "id": "KeJkBRc4TFGo"
    },
    {
      "cell_type": "markdown",
      "metadata": {
        "id": "0Nc8sk5qTFGp"
      },
      "source": [
        "### After doing the outlier treatment then we again find the relationship between variables."
      ],
      "id": "0Nc8sk5qTFGp"
    },
    {
      "cell_type": "markdown",
      "metadata": {
        "id": "6y4qjl45TFGp"
      },
      "source": [
        "### Understanding the outliers with visualization and treating it "
      ],
      "id": "6y4qjl45TFGp"
    },
    {
      "cell_type": "code",
      "metadata": {
        "id": "5WHepXbVTFGp",
        "outputId": "6af88daf-79b3-48da-86ff-f1d1c6ca60a2"
      },
      "source": [
        "#Shows the skewness value of Income and also summary statistics\n",
        "print(df['Income'].skew())\n",
        "df['Income'].describe([.01,.1,.2,.3,.4,.5,.6,.7,.8,.9,.99])"
      ],
      "id": "5WHepXbVTFGp",
      "execution_count": null,
      "outputs": [
        {
          "output_type": "stream",
          "text": [
            "6.799964754609881\n"
          ],
          "name": "stdout"
        },
        {
          "output_type": "execute_result",
          "data": {
            "text/plain": [
              "count      2240.000000\n",
              "mean      52247.251354\n",
              "std       25037.797168\n",
              "min        1730.000000\n",
              "1%         7705.920000\n",
              "10%       24219.500000\n",
              "20%       32230.000000\n",
              "30%       38361.000000\n",
              "40%       44944.200000\n",
              "50%       51741.500000\n",
              "60%       58169.600000\n",
              "70%       65104.600000\n",
              "80%       71634.800000\n",
              "90%       79800.300000\n",
              "99%       94437.680000\n",
              "max      666666.000000\n",
              "Name: Income, dtype: float64"
            ]
          },
          "metadata": {
            "tags": []
          },
          "execution_count": 29
        }
      ]
    },
    {
      "cell_type": "markdown",
      "metadata": {
        "id": "r-4WxGrpTFGp"
      },
      "source": [
        "### The skewness value of 6.8 shows that the variable 'Income' has right-skewes distribution, imdicating presence of extreme values. Based on research, skewness value greater than 3.5 shows skewness.\n",
        "https://stats.stackexchange.com/questions/436274/performing-t-test-on-highly-skewed-financial-data-outlier-treatment#:~:text=After%20treating%20for%20outliers%2C%20most,and%20%2B1.5%20max%20is%203.5."
      ],
      "id": "r-4WxGrpTFGp"
    },
    {
      "cell_type": "markdown",
      "metadata": {
        "id": "5KUbrTc_TFGp"
      },
      "source": [
        "### Let's do Outlier Treatment\n",
        "### Quantile-based Flooring and Capping"
      ],
      "id": "5KUbrTc_TFGp"
    },
    {
      "cell_type": "code",
      "metadata": {
        "scrolled": true,
        "id": "HoK3tU1hTFGq",
        "outputId": "99c2c7b7-9843-428a-84f2-757a7fff162d"
      },
      "source": [
        "print(df['Income'].quantile(0.5))\n",
        "print(df['Income'].quantile(0.99))"
      ],
      "id": "HoK3tU1hTFGq",
      "execution_count": null,
      "outputs": [
        {
          "output_type": "stream",
          "text": [
            "51741.5\n",
            "94437.68000000002\n"
          ],
          "name": "stdout"
        }
      ]
    },
    {
      "cell_type": "markdown",
      "metadata": {
        "id": "KuUFqBZhTFGq"
      },
      "source": [
        "### Now we will remove the outliers of 'Income' and calculate the skewness value again"
      ],
      "id": "KuUFqBZhTFGq"
    },
    {
      "cell_type": "code",
      "metadata": {
        "scrolled": true,
        "id": "TE0PjykiTFGq",
        "outputId": "9fa6283b-b68c-4d38-95c9-b3584557e5cd"
      },
      "source": [
        "df[\"Income\"] = np.where(df[\"Income\"] <df['Income'].quantile(0.5), df['Income'].quantile(0.5),df['Income'])\n",
        "df[\"Income\"] = np.where(df[\"Income\"] >df['Income'].quantile(0.99), df['Income'].quantile(0.99),df['Income'])\n",
        "print(df['Income'].skew())\n",
        "df.Income.hist()"
      ],
      "id": "TE0PjykiTFGq",
      "execution_count": null,
      "outputs": [
        {
          "output_type": "stream",
          "text": [
            "1.1398665006304742\n"
          ],
          "name": "stdout"
        },
        {
          "output_type": "execute_result",
          "data": {
            "text/plain": [
              "<matplotlib.axes._subplots.AxesSubplot at 0x7fcd944dca60>"
            ]
          },
          "metadata": {
            "tags": []
          },
          "execution_count": 31
        },
        {
          "output_type": "display_data",
          "data": {
            "image/png": "[encoded data removed]",
            "text/plain": [
              "<Figure size 432x288 with 1 Axes>"
            ]
          },
          "metadata": {
            "tags": [],
            "needs_background": "light"
          }
        }
      ]
    },
    {
      "cell_type": "code",
      "metadata": {
        "scrolled": true,
        "id": "rTvf5woWTFGq",
        "outputId": "ed45ef90-0772-45f7-94d9-b822ac330c46"
      },
      "source": [
        "#Outlier treatment for \"MntMeatProducts\"\n",
        "print(df['MntMeatProducts'].quantile(0.1))\n",
        "print(df['MntMeatProducts'].quantile(0.99))"
      ],
      "id": "rTvf5woWTFGq",
      "execution_count": null,
      "outputs": [
        {
          "output_type": "stream",
          "text": [
            "7.0\n",
            "915.0\n"
          ],
          "name": "stdout"
        }
      ]
    },
    {
      "cell_type": "code",
      "metadata": {
        "id": "h9OnCk2yTFGr"
      },
      "source": [
        "df[\"MntMeatProducts\"] = np.where(df[\"MntMeatProducts\"] <df['MntMeatProducts'].quantile(0.1), df['MntMeatProducts'].quantile(0.1),df['MntMeatProducts'])\n",
        "df[\"MntMeatProducts\"] = np.where(df[\"MntMeatProducts\"] >df['MntMeatProducts'].quantile(0.99), df['MntMeatProducts'].quantile(0.99),df['MntMeatProducts'])"
      ],
      "id": "h9OnCk2yTFGr",
      "execution_count": null,
      "outputs": []
    },
    {
      "cell_type": "code",
      "metadata": {
        "id": "soCc6bS7TFGr",
        "outputId": "45bdf864-8440-4566-d5a1-e17be212c63c"
      },
      "source": [
        "#After treatment SKewness and distribution of data points through histogram.\n",
        "print(df['MntMeatProducts'].skew())\n",
        "df.MntMeatProducts.hist()"
      ],
      "id": "soCc6bS7TFGr",
      "execution_count": null,
      "outputs": [
        {
          "output_type": "stream",
          "text": [
            "1.7142127637598157\n"
          ],
          "name": "stdout"
        },
        {
          "output_type": "execute_result",
          "data": {
            "text/plain": [
              "<matplotlib.axes._subplots.AxesSubplot at 0x7fcd94db6340>"
            ]
          },
          "metadata": {
            "tags": []
          },
          "execution_count": 34
        },
        {
          "output_type": "display_data",
          "data": {
            "image/png": "[encoded data removed]",
            "text/plain": [
              "<Figure size 432x288 with 1 Axes>"
            ]
          },
          "metadata": {
            "tags": [],
            "needs_background": "light"
          }
        }
      ]
    },
    {
      "cell_type": "code",
      "metadata": {
        "id": "SvJACQ9bTFGr",
        "outputId": "3f95f69c-6eb6-418d-d708-0c50ae9bc350"
      },
      "source": [
        "#Outlier treatment for \"NumWebPurchases\"\n",
        "print(df['NumWebPurchases'].quantile(0.01))\n",
        "print(df['NumWebPurchases'].quantile(0.99))"
      ],
      "id": "SvJACQ9bTFGr",
      "execution_count": null,
      "outputs": [
        {
          "output_type": "stream",
          "text": [
            "0.0\n",
            "11.0\n"
          ],
          "name": "stdout"
        }
      ]
    },
    {
      "cell_type": "code",
      "metadata": {
        "id": "mfAXt_79TFGr"
      },
      "source": [
        "df[\"NumWebPurchases\"] = np.where(df[\"NumWebPurchases\"] <df['NumWebPurchases'].quantile(0.01), df['NumWebPurchases'].quantile(0.01),df['NumWebPurchases'])\n",
        "df[\"NumWebPurchases\"] = np.where(df[\"NumWebPurchases\"] >df['NumWebPurchases'].quantile(0.99), df['NumWebPurchases'].quantile(0.99),df['NumWebPurchases'])"
      ],
      "id": "mfAXt_79TFGr",
      "execution_count": null,
      "outputs": []
    },
    {
      "cell_type": "code",
      "metadata": {
        "id": "gqxDYB6PTFGs",
        "outputId": "ddedfe9e-3c73-4e48-98ea-79c196e697ad"
      },
      "source": [
        "#After treatment SKewness and distribution of data points through histogram.\n",
        "print(df['NumWebPurchases'].skew())\n",
        "df.NumWebPurchases.hist()"
      ],
      "id": "gqxDYB6PTFGs",
      "execution_count": null,
      "outputs": [
        {
          "output_type": "stream",
          "text": [
            "0.7008290253066227\n"
          ],
          "name": "stdout"
        },
        {
          "output_type": "execute_result",
          "data": {
            "text/plain": [
              "<matplotlib.axes._subplots.AxesSubplot at 0x7fcd8ed6e6a0>"
            ]
          },
          "metadata": {
            "tags": []
          },
          "execution_count": 37
        },
        {
          "output_type": "display_data",
          "data": {
            "image/png": "[encoded data removed]",
            "text/plain": [
              "<Figure size 432x288 with 1 Axes>"
            ]
          },
          "metadata": {
            "tags": [],
            "needs_background": "light"
          }
        }
      ]
    },
    {
      "cell_type": "code",
      "metadata": {
        "id": "7LYX9qWiTFGs",
        "outputId": "97d23a7e-f60b-4e0b-9300-4ded238a6fc1"
      },
      "source": [
        "print(df['NumCatalogPurchases'].quantile(0.01))\n",
        "print(df['NumCatalogPurchases'].quantile(0.99))"
      ],
      "id": "7LYX9qWiTFGs",
      "execution_count": null,
      "outputs": [
        {
          "output_type": "stream",
          "text": [
            "0.0\n",
            "10.610000000000127\n"
          ],
          "name": "stdout"
        }
      ]
    },
    {
      "cell_type": "code",
      "metadata": {
        "id": "BlQOHvL-TFGt"
      },
      "source": [
        "df[\"NumCatalogPurchases\"] = np.where(df[\"NumCatalogPurchases\"] <df['NumCatalogPurchases'].quantile(0.01), df['NumCatalogPurchases'].quantile(0.01),df['NumCatalogPurchases'])\n",
        "df[\"NumCatalogPurchases\"] = np.where(df[\"NumCatalogPurchases\"] >df['NumCatalogPurchases'].quantile(0.99), df['NumCatalogPurchases'].quantile(0.99),df['NumCatalogPurchases'])"
      ],
      "id": "BlQOHvL-TFGt",
      "execution_count": null,
      "outputs": []
    },
    {
      "cell_type": "code",
      "metadata": {
        "id": "Fqx91Ce1TFGt",
        "outputId": "ba931ba4-75fc-4e0f-f88b-78a8c131c039"
      },
      "source": [
        "print(df['NumCatalogPurchases'].skew())\n",
        "df.NumCatalogPurchases.hist()"
      ],
      "id": "Fqx91Ce1TFGt",
      "execution_count": null,
      "outputs": [
        {
          "output_type": "stream",
          "text": [
            "1.0979442568805213\n"
          ],
          "name": "stdout"
        },
        {
          "output_type": "execute_result",
          "data": {
            "text/plain": [
              "<matplotlib.axes._subplots.AxesSubplot at 0x7fcd955f5b50>"
            ]
          },
          "metadata": {
            "tags": []
          },
          "execution_count": 40
        },
        {
          "output_type": "display_data",
          "data": {
            "image/png": "[encoded data removed]",
            "text/plain": [
              "<Figure size 432x288 with 1 Axes>"
            ]
          },
          "metadata": {
            "tags": [],
            "needs_background": "light"
          }
        }
      ]
    },
    {
      "cell_type": "code",
      "metadata": {
        "id": "NnBd0w_iTFGt",
        "outputId": "e3848b76-4bb6-4665-9f81-5a5a43d29395"
      },
      "source": [
        "print(df['NumWebVisitsMonth'].quantile(0.01))\n",
        "print(df['NumWebVisitsMonth'].quantile(0.99))"
      ],
      "id": "NnBd0w_iTFGt",
      "execution_count": null,
      "outputs": [
        {
          "output_type": "stream",
          "text": [
            "1.0\n",
            "9.0\n"
          ],
          "name": "stdout"
        }
      ]
    },
    {
      "cell_type": "code",
      "metadata": {
        "id": "HFIyEHWCTFGu"
      },
      "source": [
        "df[\"NumWebVisitsMonth\"] = np.where(df[\"NumWebVisitsMonth\"] <df['NumWebVisitsMonth'].quantile(0.01),df['NumWebVisitsMonth'].quantile(0.01),df['NumWebVisitsMonth'])\n",
        "df[\"NumWebVisitsMonth\"] = np.where(df[\"NumWebVisitsMonth\"] >df['NumWebVisitsMonth'].quantile(0.99), df['NumWebVisitsMonth'].quantile(0.99),df['NumWebVisitsMonth'])"
      ],
      "id": "HFIyEHWCTFGu",
      "execution_count": null,
      "outputs": []
    },
    {
      "cell_type": "code",
      "metadata": {
        "id": "WALe2j2cTFGu",
        "outputId": "bd5473e1-4807-4647-e7b9-7858319a4d21"
      },
      "source": [
        "print(df['NumWebVisitsMonth'].skew())\n",
        "df.NumWebVisitsMonth.hist()"
      ],
      "id": "WALe2j2cTFGu",
      "execution_count": null,
      "outputs": [
        {
          "output_type": "stream",
          "text": [
            "-0.3401723863667043\n"
          ],
          "name": "stdout"
        },
        {
          "output_type": "execute_result",
          "data": {
            "text/plain": [
              "<matplotlib.axes._subplots.AxesSubplot at 0x7fcd8ed1ef70>"
            ]
          },
          "metadata": {
            "tags": []
          },
          "execution_count": 43
        },
        {
          "output_type": "display_data",
          "data": {
            "image/png": "[encoded data removed]",
            "text/plain": [
              "<Figure size 432x288 with 1 Axes>"
            ]
          },
          "metadata": {
            "tags": [],
            "needs_background": "light"
          }
        }
      ]
    },
    {
      "cell_type": "markdown",
      "metadata": {
        "id": "6udF5nJ_TFGu"
      },
      "source": [
        "### Same # of rows before and after Outlier treatment"
      ],
      "id": "6udF5nJ_TFGu"
    },
    {
      "cell_type": "code",
      "metadata": {
        "scrolled": true,
        "id": "F9VSr3fuTFGu",
        "outputId": "fccadee6-fc29-4b62-f654-204edff647b5"
      },
      "source": [
        "df.shape"
      ],
      "id": "F9VSr3fuTFGu",
      "execution_count": null,
      "outputs": [
        {
          "output_type": "execute_result",
          "data": {
            "text/plain": [
              "(2240, 21)"
            ]
          },
          "metadata": {
            "tags": []
          },
          "execution_count": 44
        }
      ]
    },
    {
      "cell_type": "markdown",
      "metadata": {
        "id": "3oi2GzVyTFGv"
      },
      "source": [
        "### To understand the types of marital status in the dataset, listed unique values in the Marital_Status column.\n"
      ],
      "id": "3oi2GzVyTFGv"
    },
    {
      "cell_type": "code",
      "metadata": {
        "id": "zjpE8RchTFGv",
        "outputId": "6b3ae4aa-d01e-42ad-837e-6efe01b19eb9"
      },
      "source": [
        "df.Marital_Status.unique()"
      ],
      "id": "zjpE8RchTFGv",
      "execution_count": null,
      "outputs": [
        {
          "output_type": "execute_result",
          "data": {
            "text/plain": [
              "array(['Single', 'Together', 'Married', 'Divorced', 'Widow', 'Alone',\n",
              "       'Absurd', 'YOLO'], dtype=object)"
            ]
          },
          "metadata": {
            "tags": []
          },
          "execution_count": 45
        }
      ]
    },
    {
      "cell_type": "markdown",
      "metadata": {
        "id": "3Vq1jUUQTFGv"
      },
      "source": [
        "### From Business perspective, accepted Marital Status coule be single, married, together(not married), divorced, and widow. Apart from these marital status, the rest that are 'Alone', 'YOLO', 'Absurd' can be considered as 'Single'. \n",
        "### So replacing the data cells which have 'Alone', 'YOLO', 'Absurd' with 'Single'."
      ],
      "id": "3Vq1jUUQTFGv"
    },
    {
      "cell_type": "code",
      "metadata": {
        "id": "3psIS4vyTFGv"
      },
      "source": [
        "df['Marital_Status'] = df['Marital_Status'].replace(['Absurd','YOLO','Alone'],['Single','Single','Single'])"
      ],
      "id": "3psIS4vyTFGv",
      "execution_count": null,
      "outputs": []
    },
    {
      "cell_type": "code",
      "metadata": {
        "id": "B2b2bMuKTFGw",
        "outputId": "83925fe8-1512-46a7-c91f-005f8bff0d67"
      },
      "source": [
        "df.Marital_Status.unique()"
      ],
      "id": "B2b2bMuKTFGw",
      "execution_count": null,
      "outputs": [
        {
          "output_type": "execute_result",
          "data": {
            "text/plain": [
              "array(['Single', 'Together', 'Married', 'Divorced', 'Widow'], dtype=object)"
            ]
          },
          "metadata": {
            "tags": []
          },
          "execution_count": 47
        }
      ]
    },
    {
      "cell_type": "markdown",
      "metadata": {
        "id": "bRbXgAgeTFGw"
      },
      "source": [
        "### To understand the types of Education that respondents have in the dataset, listed unique values in the 'Eduction' column"
      ],
      "id": "bRbXgAgeTFGw"
    },
    {
      "cell_type": "code",
      "metadata": {
        "id": "d9zDUygNTFGw",
        "outputId": "5d4b7306-86ff-4fb7-e5c1-e7c33e264e92"
      },
      "source": [
        "df.Education.unique()"
      ],
      "id": "d9zDUygNTFGw",
      "execution_count": null,
      "outputs": [
        {
          "output_type": "execute_result",
          "data": {
            "text/plain": [
              "array(['Graduation', 'PhD', 'Master', 'Basic', '2n Cycle'], dtype=object)"
            ]
          },
          "metadata": {
            "tags": []
          },
          "execution_count": 48
        }
      ]
    },
    {
      "cell_type": "markdown",
      "metadata": {
        "id": "VoG47ykeTFGw"
      },
      "source": [
        ""
      ],
      "id": "VoG47ykeTFGw"
    },
    {
      "cell_type": "markdown",
      "metadata": {
        "id": "8ZcoodhHTFGw"
      },
      "source": [
        "### Correlation Matrix after Outlier Treatment"
      ],
      "id": "8ZcoodhHTFGw"
    },
    {
      "cell_type": "code",
      "metadata": {
        "scrolled": false,
        "id": "PgqA-LXkTFGx",
        "outputId": "f1821212-a53f-4634-bfb1-1e6311f2d0f9"
      },
      "source": [
        "df_after = df.iloc[:,:29]\n",
        "correlation_mat = df_small.corr()\n",
        "fig, ax = plt.subplots(figsize=(20,20))\n",
        "sns.heatmap(correlation_mat, annot = True, linewidths=.5)\n",
        "plt.show()"
      ],
      "id": "PgqA-LXkTFGx",
      "execution_count": null,
      "outputs": [
        {
          "output_type": "display_data",
          "data": {
            "image/png": "[encoded data removed]",
            "text/plain": [
              "<Figure size 1440x1440 with 2 Axes>"
            ]
          },
          "metadata": {
            "tags": [],
            "needs_background": "light"
          }
        }
      ]
    },
    {
      "cell_type": "code",
      "metadata": {
        "id": "rm0Py_g9TFGx"
      },
      "source": [
        "# Education has 2n Cycle and Master which means the same so we will change that"
      ],
      "id": "rm0Py_g9TFGx",
      "execution_count": null,
      "outputs": []
    },
    {
      "cell_type": "code",
      "metadata": {
        "id": "Plm4FBKRTFGx",
        "outputId": "3270308f-3dc9-4f55-bc5e-14e0cbb4f98d"
      },
      "source": [
        "df['Education'].value_counts().index.sort_values(ascending=True)"
      ],
      "id": "Plm4FBKRTFGx",
      "execution_count": null,
      "outputs": [
        {
          "output_type": "execute_result",
          "data": {
            "text/plain": [
              "Index(['2n Cycle', 'Basic', 'Graduation', 'Master', 'PhD'], dtype='object')"
            ]
          },
          "metadata": {
            "tags": []
          },
          "execution_count": 51
        }
      ]
    },
    {
      "cell_type": "code",
      "metadata": {
        "id": "oatxxp84TFGx"
      },
      "source": [
        "df['Education'] = df[\"Education\"].replace('2n Cycle', \"Master\")"
      ],
      "id": "oatxxp84TFGx",
      "execution_count": null,
      "outputs": []
    },
    {
      "cell_type": "markdown",
      "metadata": {
        "id": "PknnH-95TFGx"
      },
      "source": [
        "## Baseline Model"
      ],
      "id": "PknnH-95TFGx"
    },
    {
      "cell_type": "code",
      "metadata": {
        "id": "f-RimTDaTFGy",
        "outputId": "14d40f80-59c5-4fb8-c238-6b4e9925bac7"
      },
      "source": [
        "list(df.columns.values)"
      ],
      "id": "f-RimTDaTFGy",
      "execution_count": null,
      "outputs": [
        {
          "output_type": "execute_result",
          "data": {
            "text/plain": [
              "['Year_Birth',\n",
              " 'Education',\n",
              " 'Marital_Status',\n",
              " 'Income',\n",
              " 'Kidhome',\n",
              " 'Teenhome',\n",
              " 'Dt_Customer',\n",
              " 'Recency',\n",
              " 'MntWines',\n",
              " 'MntFruits',\n",
              " 'MntMeatProducts',\n",
              " 'MntFishProducts',\n",
              " 'MntSweetProducts',\n",
              " 'MntGoldProds',\n",
              " 'NumDealsPurchases',\n",
              " 'NumWebPurchases',\n",
              " 'NumCatalogPurchases',\n",
              " 'NumStorePurchases',\n",
              " 'NumWebVisitsMonth',\n",
              " 'Complain',\n",
              " 'Customer_Response']"
            ]
          },
          "metadata": {
            "tags": []
          },
          "execution_count": 53
        }
      ]
    },
    {
      "cell_type": "code",
      "metadata": {
        "id": "jAKx9v_jTFGy"
      },
      "source": [
        "predictors = ['Year_Birth','Education','Income','Kidhome','Teenhome','Recency','MntWines','MntFruits','MntMeatProducts',\n",
        "              'MntFishProducts','MntSweetProducts','MntGoldProds','NumDealsPurchases',\n",
        "              'NumCatalogPurchases','NumStorePurchases','NumWebVisitsMonth','Complain']\n",
        "outcome = 'Customer_Response'"
      ],
      "id": "jAKx9v_jTFGy",
      "execution_count": null,
      "outputs": []
    },
    {
      "cell_type": "code",
      "metadata": {
        "id": "3SIBoFy3TFGy"
      },
      "source": [
        "X = pd.get_dummies(df[predictors], drop_first=True)\n",
        "y = df[outcome]"
      ],
      "id": "3SIBoFy3TFGy",
      "execution_count": null,
      "outputs": []
    },
    {
      "cell_type": "code",
      "metadata": {
        "id": "8Fv82RZnTFGy",
        "outputId": "ac2f4f6c-7415-4267-9068-71cec8f2d8e7"
      },
      "source": [
        "X.shape"
      ],
      "id": "8Fv82RZnTFGy",
      "execution_count": null,
      "outputs": [
        {
          "output_type": "execute_result",
          "data": {
            "text/plain": [
              "(2240, 19)"
            ]
          },
          "metadata": {
            "tags": []
          },
          "execution_count": 56
        }
      ]
    },
    {
      "cell_type": "code",
      "metadata": {
        "id": "09u58qM-TFGz",
        "outputId": "8cd9d40f-ba5e-47d5-b80f-942722701140"
      },
      "source": [
        "X.columns"
      ],
      "id": "09u58qM-TFGz",
      "execution_count": null,
      "outputs": [
        {
          "output_type": "execute_result",
          "data": {
            "text/plain": [
              "Index(['Year_Birth', 'Income', 'Kidhome', 'Teenhome', 'Recency', 'MntWines',\n",
              "       'MntFruits', 'MntMeatProducts', 'MntFishProducts', 'MntSweetProducts',\n",
              "       'MntGoldProds', 'NumDealsPurchases', 'NumCatalogPurchases',\n",
              "       'NumStorePurchases', 'NumWebVisitsMonth', 'Complain',\n",
              "       'Education_Graduation', 'Education_Master', 'Education_PhD'],\n",
              "      dtype='object')"
            ]
          },
          "metadata": {
            "tags": []
          },
          "execution_count": 57
        }
      ]
    },
    {
      "cell_type": "code",
      "metadata": {
        "id": "JecH4GDhTFGz"
      },
      "source": [
        "train_X, valid_X, train_y, valid_y = train_test_split(X, y, test_size=0.4, random_state=1)\n"
      ],
      "id": "JecH4GDhTFGz",
      "execution_count": null,
      "outputs": []
    },
    {
      "cell_type": "markdown",
      "metadata": {
        "id": "gDFkMqPBTFGz"
      },
      "source": [
        "## Logistic Regression\n"
      ],
      "id": "gDFkMqPBTFGz"
    },
    {
      "cell_type": "code",
      "metadata": {
        "id": "-X-1ghcLTFGz",
        "outputId": "201fc66d-ff9f-4dd4-a4cd-68e39d158d89"
      },
      "source": [
        "from sklearn.linear_model import LogisticRegression, LogisticRegressionCV\n",
        "\n",
        "logit = LogisticRegression(penalty=\"l2\", solver='liblinear')\n",
        "logit.fit(train_X, train_y)"
      ],
      "id": "-X-1ghcLTFGz",
      "execution_count": null,
      "outputs": [
        {
          "output_type": "execute_result",
          "data": {
            "text/plain": [
              "LogisticRegression(solver='liblinear')"
            ]
          },
          "metadata": {
            "tags": []
          },
          "execution_count": 59
        }
      ]
    },
    {
      "cell_type": "code",
      "metadata": {
        "id": "IkF5ewZFTFGz",
        "outputId": "f7eecd92-b0d6-4e0b-c350-1693dfaf61b5"
      },
      "source": [
        "print('intercept ', logit.intercept_[0])\n",
        "print(pd.DataFrame({'coefficient': logit.coef_[0]}, index=X.columns).sort_values('coefficient',ascending=False))\n",
        "print()"
      ],
      "id": "IkF5ewZFTFGz",
      "execution_count": null,
      "outputs": [
        {
          "output_type": "stream",
          "text": [
            "intercept  -3.3542211839166094e-06\n",
            "                      coefficient\n",
            "NumWebVisitsMonth        0.003527\n",
            "MntWines                 0.002511\n",
            "MntMeatProducts          0.001428\n",
            "MntGoldProds             0.001181\n",
            "MntSweetProducts         0.000921\n",
            "Kidhome                  0.000382\n",
            "Education_Graduation     0.000096\n",
            "NumCatalogPurchases      0.000023\n",
            "Education_PhD            0.000015\n",
            "Income                   0.000004\n",
            "Complain                -0.000023\n",
            "Education_Master        -0.000147\n",
            "Teenhome                -0.000762\n",
            "NumDealsPurchases       -0.000817\n",
            "Year_Birth              -0.000886\n",
            "MntFishProducts         -0.001724\n",
            "MntFruits               -0.003473\n",
            "NumStorePurchases       -0.005683\n",
            "Recency                 -0.012848\n",
            "\n"
          ],
          "name": "stdout"
        }
      ]
    },
    {
      "cell_type": "code",
      "metadata": {
        "id": "eRszM1lATFG0",
        "outputId": "bcfb567e-44ec-4c52-b9c5-c9f0629e7c9e"
      },
      "source": [
        "from sklearn.metrics import accuracy_score, recall_score, precision_score, f1_score, classification_report\n",
        "print(\"Accuracy:\",accuracy_score(valid_y, logit.predict(valid_X)))\n",
        "print(\"precision score: \", precision_score(valid_y,logit.predict(valid_X)))\n",
        "print(\"recall score: \", recall_score(valid_y,logit.predict(valid_X)))\n",
        "print(\"f1-score: \", f1_score(valid_y,logit.predict(valid_X)))"
      ],
      "id": "eRszM1lATFG0",
      "execution_count": null,
      "outputs": [
        {
          "output_type": "stream",
          "text": [
            "Accuracy: 0.7611607142857143\n",
            "precision score:  0.6356589147286822\n",
            "recall score:  0.3293172690763052\n",
            "f1-score:  0.43386243386243384\n"
          ],
          "name": "stdout"
        }
      ]
    },
    {
      "cell_type": "markdown",
      "metadata": {
        "id": "jD-QVS6NTFG0"
      },
      "source": [
        "## Naive Bayes"
      ],
      "id": "jD-QVS6NTFG0"
    },
    {
      "cell_type": "code",
      "metadata": {
        "id": "JD6_GY-GTFG0",
        "outputId": "9590edc1-7289-46c3-c921-7f44a07bc5b0"
      },
      "source": [
        "from sklearn.naive_bayes import GaussianNB\n",
        "\n",
        "nb = GaussianNB()\n",
        "nb.fit(train_X, train_y)"
      ],
      "id": "JD6_GY-GTFG0",
      "execution_count": null,
      "outputs": [
        {
          "output_type": "execute_result",
          "data": {
            "text/plain": [
              "GaussianNB()"
            ]
          },
          "metadata": {
            "tags": []
          },
          "execution_count": 62
        }
      ]
    },
    {
      "cell_type": "code",
      "metadata": {
        "id": "ZETHNxxETFG0"
      },
      "source": [
        "# predict probabilities\n",
        "predProb_train = nb.predict_proba(train_X)\n",
        "predProb_valid = nb.predict_proba(valid_X)\n",
        "\n",
        "# predict class membership\n",
        "y_valid_pred = nb.predict(valid_X)\n",
        "y_train_pred = nb.predict(train_X)"
      ],
      "id": "ZETHNxxETFG0",
      "execution_count": null,
      "outputs": []
    },
    {
      "cell_type": "code",
      "metadata": {
        "id": "gPw1SUDWTFG1",
        "outputId": "086067ba-0711-4bf6-b10c-f329ad4aaaf1"
      },
      "source": [
        "df['Customer_Response'].value_counts()"
      ],
      "id": "gPw1SUDWTFG1",
      "execution_count": null,
      "outputs": [
        {
          "output_type": "execute_result",
          "data": {
            "text/plain": [
              "0    1631\n",
              "1     609\n",
              "Name: Customer_Response, dtype: int64"
            ]
          },
          "metadata": {
            "tags": []
          },
          "execution_count": 64
        }
      ]
    },
    {
      "cell_type": "code",
      "metadata": {
        "id": "JIu13GMITFG1",
        "outputId": "b2023644-9777-405d-c5e7-042e1335bd14"
      },
      "source": [
        "%matplotlib inline\n",
        "from sklearn.metrics import accuracy_score, recall_score, precision_score, f1_score\n",
        "from dmba import regressionSummary, classificationSummary, liftChart, gainsChart\n",
        "\n",
        "# training\n",
        "classificationSummary(train_y, nb.predict(train_X))\n",
        "\n",
        "#accuracy of model for both training set and validation set\n",
        "print('\\nAccuracy on train is', round(accuracy_score(train_y,y_train_pred),2))\n",
        "print('Precision score on train is', round(precision_score(train_y,y_train_pred, pos_label =1),2))\n",
        "print('Recall score on train is', round(recall_score(train_y,y_train_pred, pos_label = 1),2))\n",
        "print('F1 score on train is', round(f1_score(train_y,y_train_pred, pos_label = 1),2))"
      ],
      "id": "JIu13GMITFG1",
      "execution_count": null,
      "outputs": [
        {
          "output_type": "stream",
          "text": [
            "Confusion Matrix (Accuracy 0.7180)\n",
            "\n",
            "       Prediction\n",
            "Actual   0   1\n",
            "     0 769 215\n",
            "     1 164 196\n",
            "\n",
            "Accuracy on train is 0.72\n",
            "Precision score on train is 0.48\n",
            "Recall score on train is 0.54\n",
            "F1 score on train is 0.51\n"
          ],
          "name": "stdout"
        }
      ]
    },
    {
      "cell_type": "code",
      "metadata": {
        "id": "qiQSrsTYTFG1",
        "outputId": "91948b08-0d49-41f6-c3f2-9d0d024d175b"
      },
      "source": [
        "# validation\n",
        "classificationSummary(valid_y, nb.predict(valid_X))\n",
        "\n",
        "print('\\nAccuracy on validation is', round(accuracy_score(valid_y,y_valid_pred),2))\n",
        "print('Precision score on validation is', round(precision_score(valid_y,y_valid_pred, pos_label = 1),2))\n",
        "print('Recall score on validation is', round(recall_score(valid_y,y_valid_pred, pos_label = 1),2))\n",
        "print('F1 score on validation is', round(f1_score(valid_y,y_valid_pred, pos_label = 1),2))"
      ],
      "id": "qiQSrsTYTFG1",
      "execution_count": null,
      "outputs": [
        {
          "output_type": "stream",
          "text": [
            "Confusion Matrix (Accuracy 0.7076)\n",
            "\n",
            "       Prediction\n",
            "Actual   0   1\n",
            "     0 498 149\n",
            "     1 113 136\n",
            "\n",
            "Accuracy on validation is 0.71\n",
            "Precision score on validation is 0.48\n",
            "Recall score on validation is 0.55\n",
            "F1 score on validation is 0.51\n"
          ],
          "name": "stdout"
        }
      ]
    },
    {
      "cell_type": "code",
      "metadata": {
        "id": "0-cB1AVMTFG2",
        "outputId": "536b91d1-2c69-4ee6-dac3-c6d23fa2773a"
      },
      "source": [
        "NB_varimportance_0 = pd.DataFrame({'attribute': train_X.columns, 'importance': nb.theta_[0]})\n",
        "NB_varimportance_0.sort_values('importance', ascending = False)"
      ],
      "id": "0-cB1AVMTFG2",
      "execution_count": null,
      "outputs": [
        {
          "output_type": "execute_result",
          "data": {
            "text/html": [
              "<div>\n",
              "<style scoped>\n",
              "    .dataframe tbody tr th:only-of-type {\n",
              "        vertical-align: middle;\n",
              "    }\n",
              "\n",
              "    .dataframe tbody tr th {\n",
              "        vertical-align: top;\n",
              "    }\n",
              "\n",
              "    .dataframe thead th {\n",
              "        text-align: right;\n",
              "    }\n",
              "</style>\n",
              "<table border=\"1\" class=\"dataframe\">\n",
              "  <thead>\n",
              "    <tr style=\"text-align: right;\">\n",
              "      <th></th>\n",
              "      <th>attribute</th>\n",
              "      <th>importance</th>\n",
              "    </tr>\n",
              "  </thead>\n",
              "  <tbody>\n",
              "    <tr>\n",
              "      <th>1</th>\n",
              "      <td>Income</td>\n",
              "      <td>58234.777029</td>\n",
              "    </tr>\n",
              "    <tr>\n",
              "      <th>0</th>\n",
              "      <td>Year_Birth</td>\n",
              "      <td>1969.195122</td>\n",
              "    </tr>\n",
              "    <tr>\n",
              "      <th>5</th>\n",
              "      <td>MntWines</td>\n",
              "      <td>217.707317</td>\n",
              "    </tr>\n",
              "    <tr>\n",
              "      <th>7</th>\n",
              "      <td>MntMeatProducts</td>\n",
              "      <td>124.532520</td>\n",
              "    </tr>\n",
              "    <tr>\n",
              "      <th>4</th>\n",
              "      <td>Recency</td>\n",
              "      <td>50.345528</td>\n",
              "    </tr>\n",
              "    <tr>\n",
              "      <th>10</th>\n",
              "      <td>MntGoldProds</td>\n",
              "      <td>38.339431</td>\n",
              "    </tr>\n",
              "    <tr>\n",
              "      <th>8</th>\n",
              "      <td>MntFishProducts</td>\n",
              "      <td>31.025407</td>\n",
              "    </tr>\n",
              "    <tr>\n",
              "      <th>9</th>\n",
              "      <td>MntSweetProducts</td>\n",
              "      <td>22.453252</td>\n",
              "    </tr>\n",
              "    <tr>\n",
              "      <th>6</th>\n",
              "      <td>MntFruits</td>\n",
              "      <td>21.793699</td>\n",
              "    </tr>\n",
              "    <tr>\n",
              "      <th>13</th>\n",
              "      <td>NumStorePurchases</td>\n",
              "      <td>5.509146</td>\n",
              "    </tr>\n",
              "    <tr>\n",
              "      <th>14</th>\n",
              "      <td>NumWebVisitsMonth</td>\n",
              "      <td>5.326220</td>\n",
              "    </tr>\n",
              "    <tr>\n",
              "      <th>11</th>\n",
              "      <td>NumDealsPurchases</td>\n",
              "      <td>2.391260</td>\n",
              "    </tr>\n",
              "    <tr>\n",
              "      <th>12</th>\n",
              "      <td>NumCatalogPurchases</td>\n",
              "      <td>2.113923</td>\n",
              "    </tr>\n",
              "    <tr>\n",
              "      <th>3</th>\n",
              "      <td>Teenhome</td>\n",
              "      <td>0.552846</td>\n",
              "    </tr>\n",
              "    <tr>\n",
              "      <th>16</th>\n",
              "      <td>Education_Graduation</td>\n",
              "      <td>0.500000</td>\n",
              "    </tr>\n",
              "    <tr>\n",
              "      <th>2</th>\n",
              "      <td>Kidhome</td>\n",
              "      <td>0.497967</td>\n",
              "    </tr>\n",
              "    <tr>\n",
              "      <th>17</th>\n",
              "      <td>Education_Master</td>\n",
              "      <td>0.266260</td>\n",
              "    </tr>\n",
              "    <tr>\n",
              "      <th>18</th>\n",
              "      <td>Education_PhD</td>\n",
              "      <td>0.204268</td>\n",
              "    </tr>\n",
              "    <tr>\n",
              "      <th>15</th>\n",
              "      <td>Complain</td>\n",
              "      <td>0.013211</td>\n",
              "    </tr>\n",
              "  </tbody>\n",
              "</table>\n",
              "</div>"
            ],
            "text/plain": [
              "               attribute    importance\n",
              "1                 Income  58234.777029\n",
              "0             Year_Birth   1969.195122\n",
              "5               MntWines    217.707317\n",
              "7        MntMeatProducts    124.532520\n",
              "4                Recency     50.345528\n",
              "10          MntGoldProds     38.339431\n",
              "8        MntFishProducts     31.025407\n",
              "9       MntSweetProducts     22.453252\n",
              "6              MntFruits     21.793699\n",
              "13     NumStorePurchases      5.509146\n",
              "14     NumWebVisitsMonth      5.326220\n",
              "11     NumDealsPurchases      2.391260\n",
              "12   NumCatalogPurchases      2.113923\n",
              "3               Teenhome      0.552846\n",
              "16  Education_Graduation      0.500000\n",
              "2                Kidhome      0.497967\n",
              "17      Education_Master      0.266260\n",
              "18         Education_PhD      0.204268\n",
              "15              Complain      0.013211"
            ]
          },
          "metadata": {
            "tags": []
          },
          "execution_count": 67
        }
      ]
    },
    {
      "cell_type": "code",
      "metadata": {
        "id": "4aFpJwEWTFG2",
        "outputId": "a0c52de3-ccd4-4afa-aae5-0627cc0cbbdf"
      },
      "source": [
        "from sklearn.metrics import roc_curve,auc\n",
        "from matplotlib import pyplot as plt\n",
        "\n",
        "\n",
        "def roc_graph(nb,valid_y,valid_X):\n",
        "    fpr,tpr, _ = roc_curve(valid_y,nb.predict_proba(valid_X)[:,1],pos_label = 1)\n",
        "    roc_auc = auc(fpr,tpr)\n",
        "    \n",
        "    plt.figure(figsize=[5,5])\n",
        "    plt.plot(tpr,fpr,color='red',\n",
        "            lw=2, label=' Naive Bayes (area = %0.2f)' % roc_auc)\n",
        "    plt.plot([0,1],[0,1],color='navy',lw=2,linestyle='--')\n",
        "    plt.xlim([0.0,1.0])\n",
        "    plt.ylim([0.0,1.05])\n",
        "    plt.xlabel('False positive Rate')\n",
        "    plt.ylabel('True Positive Rate')\n",
        "    plt.title('Receiver operating characteristic (ROC)')\n",
        "    plt.legend(loc=\"lower right\")\n",
        "    plt.show()\n",
        "    \n",
        "    \n",
        "roc_graph(nb,valid_y,valid_X)"
      ],
      "id": "4aFpJwEWTFG2",
      "execution_count": null,
      "outputs": [
        {
          "output_type": "display_data",
          "data": {
            "image/png": "[encoded data removed]",
            "text/plain": [
              "<Figure size 360x360 with 1 Axes>"
            ]
          },
          "metadata": {
            "tags": [],
            "needs_background": "light"
          }
        }
      ]
    },
    {
      "cell_type": "markdown",
      "metadata": {
        "id": "5TxlLaqATFG3"
      },
      "source": [
        "## Feature engineering\n",
        "\n",
        "#### This will help improve the performance of our models. It will increase the predictive power of our algorithm"
      ],
      "id": "5TxlLaqATFG3"
    },
    {
      "cell_type": "markdown",
      "metadata": {
        "id": "i3oNA9JfTFG3"
      },
      "source": [
        "#### Adding age of the customer to better undnerstand the demographics "
      ],
      "id": "i3oNA9JfTFG3"
    },
    {
      "cell_type": "code",
      "metadata": {
        "id": "MCVQQgvyTFG3"
      },
      "source": [
        "df['Age'] = 2021 - df['Year_Birth']"
      ],
      "id": "MCVQQgvyTFG3",
      "execution_count": null,
      "outputs": []
    },
    {
      "cell_type": "code",
      "metadata": {
        "id": "zx8N8ipoTFG3",
        "outputId": "75f5e78e-0cd8-43f1-bacf-dd3ed369f174"
      },
      "source": [
        "df.head()"
      ],
      "id": "zx8N8ipoTFG3",
      "execution_count": null,
      "outputs": [
        {
          "output_type": "execute_result",
          "data": {
            "text/html": [
              "<div>\n",
              "<style scoped>\n",
              "    .dataframe tbody tr th:only-of-type {\n",
              "        vertical-align: middle;\n",
              "    }\n",
              "\n",
              "    .dataframe tbody tr th {\n",
              "        vertical-align: top;\n",
              "    }\n",
              "\n",
              "    .dataframe thead th {\n",
              "        text-align: right;\n",
              "    }\n",
              "</style>\n",
              "<table border=\"1\" class=\"dataframe\">\n",
              "  <thead>\n",
              "    <tr style=\"text-align: right;\">\n",
              "      <th></th>\n",
              "      <th>Year_Birth</th>\n",
              "      <th>Education</th>\n",
              "      <th>Marital_Status</th>\n",
              "      <th>Income</th>\n",
              "      <th>Kidhome</th>\n",
              "      <th>Teenhome</th>\n",
              "      <th>Dt_Customer</th>\n",
              "      <th>Recency</th>\n",
              "      <th>MntWines</th>\n",
              "      <th>MntFruits</th>\n",
              "      <th>...</th>\n",
              "      <th>MntSweetProducts</th>\n",
              "      <th>MntGoldProds</th>\n",
              "      <th>NumDealsPurchases</th>\n",
              "      <th>NumWebPurchases</th>\n",
              "      <th>NumCatalogPurchases</th>\n",
              "      <th>NumStorePurchases</th>\n",
              "      <th>NumWebVisitsMonth</th>\n",
              "      <th>Complain</th>\n",
              "      <th>Customer_Response</th>\n",
              "      <th>Age</th>\n",
              "    </tr>\n",
              "  </thead>\n",
              "  <tbody>\n",
              "    <tr>\n",
              "      <th>0</th>\n",
              "      <td>1957</td>\n",
              "      <td>Graduation</td>\n",
              "      <td>Single</td>\n",
              "      <td>58138.0</td>\n",
              "      <td>0</td>\n",
              "      <td>0</td>\n",
              "      <td>9/4/2012</td>\n",
              "      <td>58</td>\n",
              "      <td>635</td>\n",
              "      <td>88</td>\n",
              "      <td>...</td>\n",
              "      <td>88</td>\n",
              "      <td>88</td>\n",
              "      <td>3</td>\n",
              "      <td>8.0</td>\n",
              "      <td>10.0</td>\n",
              "      <td>4</td>\n",
              "      <td>7.0</td>\n",
              "      <td>0</td>\n",
              "      <td>1</td>\n",
              "      <td>64</td>\n",
              "    </tr>\n",
              "    <tr>\n",
              "      <th>1</th>\n",
              "      <td>1954</td>\n",
              "      <td>Graduation</td>\n",
              "      <td>Single</td>\n",
              "      <td>51741.5</td>\n",
              "      <td>1</td>\n",
              "      <td>1</td>\n",
              "      <td>3/8/2014</td>\n",
              "      <td>38</td>\n",
              "      <td>11</td>\n",
              "      <td>1</td>\n",
              "      <td>...</td>\n",
              "      <td>1</td>\n",
              "      <td>6</td>\n",
              "      <td>2</td>\n",
              "      <td>1.0</td>\n",
              "      <td>1.0</td>\n",
              "      <td>2</td>\n",
              "      <td>5.0</td>\n",
              "      <td>0</td>\n",
              "      <td>0</td>\n",
              "      <td>67</td>\n",
              "    </tr>\n",
              "    <tr>\n",
              "      <th>2</th>\n",
              "      <td>1965</td>\n",
              "      <td>Graduation</td>\n",
              "      <td>Together</td>\n",
              "      <td>71613.0</td>\n",
              "      <td>0</td>\n",
              "      <td>0</td>\n",
              "      <td>8/21/2013</td>\n",
              "      <td>26</td>\n",
              "      <td>426</td>\n",
              "      <td>49</td>\n",
              "      <td>...</td>\n",
              "      <td>21</td>\n",
              "      <td>42</td>\n",
              "      <td>1</td>\n",
              "      <td>8.0</td>\n",
              "      <td>2.0</td>\n",
              "      <td>10</td>\n",
              "      <td>4.0</td>\n",
              "      <td>0</td>\n",
              "      <td>0</td>\n",
              "      <td>56</td>\n",
              "    </tr>\n",
              "    <tr>\n",
              "      <th>3</th>\n",
              "      <td>1984</td>\n",
              "      <td>Graduation</td>\n",
              "      <td>Together</td>\n",
              "      <td>51741.5</td>\n",
              "      <td>1</td>\n",
              "      <td>0</td>\n",
              "      <td>2/10/2014</td>\n",
              "      <td>26</td>\n",
              "      <td>11</td>\n",
              "      <td>4</td>\n",
              "      <td>...</td>\n",
              "      <td>3</td>\n",
              "      <td>5</td>\n",
              "      <td>2</td>\n",
              "      <td>2.0</td>\n",
              "      <td>0.0</td>\n",
              "      <td>4</td>\n",
              "      <td>6.0</td>\n",
              "      <td>0</td>\n",
              "      <td>0</td>\n",
              "      <td>37</td>\n",
              "    </tr>\n",
              "    <tr>\n",
              "      <th>4</th>\n",
              "      <td>1981</td>\n",
              "      <td>PhD</td>\n",
              "      <td>Married</td>\n",
              "      <td>58293.0</td>\n",
              "      <td>1</td>\n",
              "      <td>0</td>\n",
              "      <td>1/19/2014</td>\n",
              "      <td>94</td>\n",
              "      <td>173</td>\n",
              "      <td>43</td>\n",
              "      <td>...</td>\n",
              "      <td>27</td>\n",
              "      <td>15</td>\n",
              "      <td>5</td>\n",
              "      <td>5.0</td>\n",
              "      <td>3.0</td>\n",
              "      <td>6</td>\n",
              "      <td>5.0</td>\n",
              "      <td>0</td>\n",
              "      <td>0</td>\n",
              "      <td>40</td>\n",
              "    </tr>\n",
              "  </tbody>\n",
              "</table>\n",
              "<p>5 rows × 22 columns</p>\n",
              "</div>"
            ],
            "text/plain": [
              "   Year_Birth   Education Marital_Status   Income  Kidhome  Teenhome  \\\n",
              "0        1957  Graduation         Single  58138.0        0         0   \n",
              "1        1954  Graduation         Single  51741.5        1         1   \n",
              "2        1965  Graduation       Together  71613.0        0         0   \n",
              "3        1984  Graduation       Together  51741.5        1         0   \n",
              "4        1981         PhD        Married  58293.0        1         0   \n",
              "\n",
              "  Dt_Customer  Recency  MntWines  MntFruits  ...  MntSweetProducts  \\\n",
              "0    9/4/2012       58       635         88  ...                88   \n",
              "1    3/8/2014       38        11          1  ...                 1   \n",
              "2   8/21/2013       26       426         49  ...                21   \n",
              "3   2/10/2014       26        11          4  ...                 3   \n",
              "4   1/19/2014       94       173         43  ...                27   \n",
              "\n",
              "   MntGoldProds  NumDealsPurchases  NumWebPurchases  NumCatalogPurchases  \\\n",
              "0            88                  3              8.0                 10.0   \n",
              "1             6                  2              1.0                  1.0   \n",
              "2            42                  1              8.0                  2.0   \n",
              "3             5                  2              2.0                  0.0   \n",
              "4            15                  5              5.0                  3.0   \n",
              "\n",
              "   NumStorePurchases  NumWebVisitsMonth  Complain  Customer_Response  Age  \n",
              "0                  4                7.0         0                  1   64  \n",
              "1                  2                5.0         0                  0   67  \n",
              "2                 10                4.0         0                  0   56  \n",
              "3                  4                6.0         0                  0   37  \n",
              "4                  6                5.0         0                  0   40  \n",
              "\n",
              "[5 rows x 22 columns]"
            ]
          },
          "metadata": {
            "tags": []
          },
          "execution_count": 70
        }
      ]
    },
    {
      "cell_type": "markdown",
      "metadata": {
        "id": "XsSpTD-qTFG3"
      },
      "source": [
        "#### dropping the Year_Birth col since we now have age"
      ],
      "id": "XsSpTD-qTFG3"
    },
    {
      "cell_type": "code",
      "metadata": {
        "id": "rlLzSMQ1TFG4"
      },
      "source": [
        "df.drop('Year_Birth', axis=1, inplace=True)"
      ],
      "id": "rlLzSMQ1TFG4",
      "execution_count": null,
      "outputs": []
    },
    {
      "cell_type": "markdown",
      "metadata": {
        "id": "I4i2K-R1TFG4"
      },
      "source": [
        "#### Dt_Customer represents the date since the customer has been with the company"
      ],
      "id": "I4i2K-R1TFG4"
    },
    {
      "cell_type": "code",
      "metadata": {
        "id": "F5tmAkQ5TFG4"
      },
      "source": [
        "import datetime\n",
        "from datetime import datetime, date"
      ],
      "id": "F5tmAkQ5TFG4",
      "execution_count": null,
      "outputs": []
    },
    {
      "cell_type": "code",
      "metadata": {
        "id": "0Kj6w2NGTFG4"
      },
      "source": [
        "df['Dt_Customer'] = pd.to_datetime(df['Dt_Customer'], format=\"%m/%d/%Y\")"
      ],
      "id": "0Kj6w2NGTFG4",
      "execution_count": null,
      "outputs": []
    },
    {
      "cell_type": "code",
      "metadata": {
        "id": "qMYe1tSnTFG4"
      },
      "source": [
        "for i in range(0, len(df)):\n",
        "    df['Customer_w_Company'] = datetime.today().date()-df['Dt_Customer'].dt.date"
      ],
      "id": "qMYe1tSnTFG4",
      "execution_count": null,
      "outputs": []
    },
    {
      "cell_type": "code",
      "metadata": {
        "id": "2ff4jek3TFG4",
        "outputId": "3eec50fa-0e49-48a0-c93c-4e42b6ed0e78"
      },
      "source": [
        "df['Customer_w_Company'].dtype"
      ],
      "id": "2ff4jek3TFG4",
      "execution_count": null,
      "outputs": [
        {
          "output_type": "execute_result",
          "data": {
            "text/plain": [
              "dtype('<m8[ns]')"
            ]
          },
          "metadata": {
            "tags": []
          },
          "execution_count": 75
        }
      ]
    },
    {
      "cell_type": "markdown",
      "metadata": {
        "id": "KgppVEjvTFG5"
      },
      "source": [
        "#### Customer Spending - Sum of all products\n",
        "\n",
        "##### We should remove all the other cols, since the aggregate spending should be enough. Unless we want to analyse spending on each product "
      ],
      "id": "KgppVEjvTFG5"
    },
    {
      "cell_type": "code",
      "metadata": {
        "id": "h29LGGamTFG5"
      },
      "source": [
        "df['Spending']=df['MntWines']+df['MntFruits']+df['MntMeatProducts']+df['MntFishProducts']+df['MntSweetProducts']+df['MntGoldProds']"
      ],
      "id": "h29LGGamTFG5",
      "execution_count": null,
      "outputs": []
    },
    {
      "cell_type": "markdown",
      "metadata": {
        "id": "7EMRSuk4TFG5"
      },
      "source": [
        "#### Added a Martial Status to indicate if the person is Alone, Couple or Married"
      ],
      "id": "7EMRSuk4TFG5"
    },
    {
      "cell_type": "code",
      "metadata": {
        "id": "ROX4NILQTFG5"
      },
      "source": [
        "df['Marital_Status']=df['Marital_Status'].replace({'Divorced':'Alone','Single':'Alone','Married':'In couple','Together':'In couple','Absurd':'Alone','Widow':'Alone'})"
      ],
      "id": "ROX4NILQTFG5",
      "execution_count": null,
      "outputs": []
    },
    {
      "cell_type": "markdown",
      "metadata": {
        "id": "MWAYu2WXTFG6"
      },
      "source": [
        "#### Added Any_Child col to show if the customer has any children"
      ],
      "id": "MWAYu2WXTFG6"
    },
    {
      "cell_type": "code",
      "metadata": {
        "id": "hcPysnBgTFG6"
      },
      "source": [
        "df['Any_Child'] = np.where(df.Kidhome+df.Teenhome > 0, 'Yes', 'No')"
      ],
      "id": "hcPysnBgTFG6",
      "execution_count": null,
      "outputs": []
    },
    {
      "cell_type": "markdown",
      "metadata": {
        "id": "GbFqY7sqTFG6"
      },
      "source": [
        "#### Dropping Kid Home and Teen Home as they are replaced with Any_Child"
      ],
      "id": "GbFqY7sqTFG6"
    },
    {
      "cell_type": "code",
      "metadata": {
        "id": "rfTHFUcCTFG6"
      },
      "source": [
        "df.drop('Kidhome', axis=1, inplace=True)"
      ],
      "id": "rfTHFUcCTFG6",
      "execution_count": null,
      "outputs": []
    },
    {
      "cell_type": "code",
      "metadata": {
        "id": "Yalcud8GTFG6"
      },
      "source": [
        "df.drop('Teenhome', axis=1, inplace=True)"
      ],
      "id": "Yalcud8GTFG6",
      "execution_count": null,
      "outputs": []
    },
    {
      "cell_type": "code",
      "metadata": {
        "id": "49OqT-3nTFG6"
      },
      "source": [
        ""
      ],
      "id": "49OqT-3nTFG6",
      "execution_count": null,
      "outputs": []
    },
    {
      "cell_type": "code",
      "metadata": {
        "id": "yUbROrdZTFG7"
      },
      "source": [
        ""
      ],
      "id": "yUbROrdZTFG7",
      "execution_count": null,
      "outputs": []
    }
  ]
}