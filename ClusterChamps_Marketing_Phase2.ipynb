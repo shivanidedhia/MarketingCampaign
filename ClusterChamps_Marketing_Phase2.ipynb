{
 "cells": [
  {
   "cell_type": "markdown",
   "metadata": {},
   "source": [
    "### Group Cluster Champs Final Project Phase 2\n",
    "#### Topic- Marketing Campaign Analysis\n",
    "#### Team Members- \n",
    "Daniel Huang, \n",
    "Akhila Pamukuntla,\n",
    "Shilpa Paidighantom,\n",
    "Shivani Dedhia\n"
   ]
  },
  {
   "cell_type": "markdown",
   "metadata": {
    "id": "ZA0sNtn1ykAs"
   },
   "source": [
    "### Table of Contents"
   ]
  },
  {
   "cell_type": "markdown",
   "metadata": {
    "id": "Jg17DOmvybgK"
   },
   "source": [
    "1. [Exploratory Data Analysis](#eda)\n",
    "2. [Baseline Model](#base)\n",
    "3. [Feature Engineering](#fe)\n",
    "4. [Feature Importance](#FeatureImportance)\n",
    "6. [Model Building](#finalmodels)\n",
    "6. [Parameter Optimization](#opt)"
   ]
  },
  {
   "cell_type": "markdown",
   "metadata": {
    "id": "cwLUY8JbTFGU"
   },
   "source": [
    "### Import Libraries and Dataset <a id = 'import'></a>"
   ]
  },
  {
   "cell_type": "code",
   "execution_count": 1,
   "metadata": {
    "id": "tAtfOFwKTFGX",
    "outputId": "752f7e57-47d6-46d7-ebdc-af89d30742fb"
   },
   "outputs": [
    {
     "name": "stdout",
     "output_type": "stream",
     "text": [
      "no display found. Using non-interactive Agg backend\n"
     ]
    }
   ],
   "source": [
    "import os\n",
    "import pandas as pd\n",
    "import numpy as np\n",
    "from sklearn.tree import DecisionTreeClassifier\n",
    "from sklearn.model_selection import train_test_split, cross_val_score, GridSearchCV\n",
    "import matplotlib.pylab as plt\n",
    "import matplotlib.pyplot as plt\n",
    "from dmba import plotDecisionTree, classificationSummary, regressionSummary\n",
    "from sklearn.linear_model import LinearRegression, Lasso, Ridge, LassoCV, BayesianRidge\n",
    "import matplotlib.pylab as plt\n",
    "import seaborn as sns\n",
    "from pathlib import Path\n",
    "import statsmodels.formula.api as sm\n",
    "from sklearn import linear_model\n",
    "from sklearn import metrics\n",
    "from sklearn.naive_bayes import GaussianNB\n",
    "from sklearn.impute import KNNImputer\n",
    "%matplotlib inline\n",
    "from pathlib import Path\n",
    "from scipy import stats"
   ]
  },
  {
   "cell_type": "code",
   "execution_count": 2,
   "metadata": {
    "id": "bLBYFJhBTFGZ"
   },
   "outputs": [
    {
     "data": {
      "text/html": [
       "<div>\n",
       "<style scoped>\n",
       "    .dataframe tbody tr th:only-of-type {\n",
       "        vertical-align: middle;\n",
       "    }\n",
       "\n",
       "    .dataframe tbody tr th {\n",
       "        vertical-align: top;\n",
       "    }\n",
       "\n",
       "    .dataframe thead th {\n",
       "        text-align: right;\n",
       "    }\n",
       "</style>\n",
       "<table border=\"1\" class=\"dataframe\">\n",
       "  <thead>\n",
       "    <tr style=\"text-align: right;\">\n",
       "      <th></th>\n",
       "      <th>ID</th>\n",
       "      <th>Year_Birth</th>\n",
       "      <th>Education</th>\n",
       "      <th>Marital_Status</th>\n",
       "      <th>Income</th>\n",
       "      <th>Kidhome</th>\n",
       "      <th>Teenhome</th>\n",
       "      <th>Dt_Customer</th>\n",
       "      <th>Recency</th>\n",
       "      <th>MntWines</th>\n",
       "      <th>...</th>\n",
       "      <th>NumWebVisitsMonth</th>\n",
       "      <th>AcceptedCmp3</th>\n",
       "      <th>AcceptedCmp4</th>\n",
       "      <th>AcceptedCmp5</th>\n",
       "      <th>AcceptedCmp1</th>\n",
       "      <th>AcceptedCmp2</th>\n",
       "      <th>Complain</th>\n",
       "      <th>Z_CostContact</th>\n",
       "      <th>Z_Revenue</th>\n",
       "      <th>Response</th>\n",
       "    </tr>\n",
       "  </thead>\n",
       "  <tbody>\n",
       "    <tr>\n",
       "      <th>0</th>\n",
       "      <td>5524</td>\n",
       "      <td>1957</td>\n",
       "      <td>Graduation</td>\n",
       "      <td>Single</td>\n",
       "      <td>58138.0</td>\n",
       "      <td>0</td>\n",
       "      <td>0</td>\n",
       "      <td>2012-09-04</td>\n",
       "      <td>58</td>\n",
       "      <td>635</td>\n",
       "      <td>...</td>\n",
       "      <td>7</td>\n",
       "      <td>0</td>\n",
       "      <td>0</td>\n",
       "      <td>0</td>\n",
       "      <td>0</td>\n",
       "      <td>0</td>\n",
       "      <td>0</td>\n",
       "      <td>3</td>\n",
       "      <td>11</td>\n",
       "      <td>1</td>\n",
       "    </tr>\n",
       "    <tr>\n",
       "      <th>1</th>\n",
       "      <td>2174</td>\n",
       "      <td>1954</td>\n",
       "      <td>Graduation</td>\n",
       "      <td>Single</td>\n",
       "      <td>46344.0</td>\n",
       "      <td>1</td>\n",
       "      <td>1</td>\n",
       "      <td>2014-03-08</td>\n",
       "      <td>38</td>\n",
       "      <td>11</td>\n",
       "      <td>...</td>\n",
       "      <td>5</td>\n",
       "      <td>0</td>\n",
       "      <td>0</td>\n",
       "      <td>0</td>\n",
       "      <td>0</td>\n",
       "      <td>0</td>\n",
       "      <td>0</td>\n",
       "      <td>3</td>\n",
       "      <td>11</td>\n",
       "      <td>0</td>\n",
       "    </tr>\n",
       "    <tr>\n",
       "      <th>2</th>\n",
       "      <td>4141</td>\n",
       "      <td>1965</td>\n",
       "      <td>Graduation</td>\n",
       "      <td>Together</td>\n",
       "      <td>71613.0</td>\n",
       "      <td>0</td>\n",
       "      <td>0</td>\n",
       "      <td>2013-08-21</td>\n",
       "      <td>26</td>\n",
       "      <td>426</td>\n",
       "      <td>...</td>\n",
       "      <td>4</td>\n",
       "      <td>0</td>\n",
       "      <td>0</td>\n",
       "      <td>0</td>\n",
       "      <td>0</td>\n",
       "      <td>0</td>\n",
       "      <td>0</td>\n",
       "      <td>3</td>\n",
       "      <td>11</td>\n",
       "      <td>0</td>\n",
       "    </tr>\n",
       "    <tr>\n",
       "      <th>3</th>\n",
       "      <td>6182</td>\n",
       "      <td>1984</td>\n",
       "      <td>Graduation</td>\n",
       "      <td>Together</td>\n",
       "      <td>26646.0</td>\n",
       "      <td>1</td>\n",
       "      <td>0</td>\n",
       "      <td>2014-02-10</td>\n",
       "      <td>26</td>\n",
       "      <td>11</td>\n",
       "      <td>...</td>\n",
       "      <td>6</td>\n",
       "      <td>0</td>\n",
       "      <td>0</td>\n",
       "      <td>0</td>\n",
       "      <td>0</td>\n",
       "      <td>0</td>\n",
       "      <td>0</td>\n",
       "      <td>3</td>\n",
       "      <td>11</td>\n",
       "      <td>0</td>\n",
       "    </tr>\n",
       "    <tr>\n",
       "      <th>4</th>\n",
       "      <td>5324</td>\n",
       "      <td>1981</td>\n",
       "      <td>PhD</td>\n",
       "      <td>Married</td>\n",
       "      <td>58293.0</td>\n",
       "      <td>1</td>\n",
       "      <td>0</td>\n",
       "      <td>2014-01-19</td>\n",
       "      <td>94</td>\n",
       "      <td>173</td>\n",
       "      <td>...</td>\n",
       "      <td>5</td>\n",
       "      <td>0</td>\n",
       "      <td>0</td>\n",
       "      <td>0</td>\n",
       "      <td>0</td>\n",
       "      <td>0</td>\n",
       "      <td>0</td>\n",
       "      <td>3</td>\n",
       "      <td>11</td>\n",
       "      <td>0</td>\n",
       "    </tr>\n",
       "    <tr>\n",
       "      <th>5</th>\n",
       "      <td>7446</td>\n",
       "      <td>1967</td>\n",
       "      <td>Master</td>\n",
       "      <td>Together</td>\n",
       "      <td>62513.0</td>\n",
       "      <td>0</td>\n",
       "      <td>1</td>\n",
       "      <td>2013-09-09</td>\n",
       "      <td>16</td>\n",
       "      <td>520</td>\n",
       "      <td>...</td>\n",
       "      <td>6</td>\n",
       "      <td>0</td>\n",
       "      <td>0</td>\n",
       "      <td>0</td>\n",
       "      <td>0</td>\n",
       "      <td>0</td>\n",
       "      <td>0</td>\n",
       "      <td>3</td>\n",
       "      <td>11</td>\n",
       "      <td>0</td>\n",
       "    </tr>\n",
       "    <tr>\n",
       "      <th>6</th>\n",
       "      <td>965</td>\n",
       "      <td>1971</td>\n",
       "      <td>Graduation</td>\n",
       "      <td>Divorced</td>\n",
       "      <td>55635.0</td>\n",
       "      <td>0</td>\n",
       "      <td>1</td>\n",
       "      <td>2012-11-13</td>\n",
       "      <td>34</td>\n",
       "      <td>235</td>\n",
       "      <td>...</td>\n",
       "      <td>6</td>\n",
       "      <td>0</td>\n",
       "      <td>0</td>\n",
       "      <td>0</td>\n",
       "      <td>0</td>\n",
       "      <td>0</td>\n",
       "      <td>0</td>\n",
       "      <td>3</td>\n",
       "      <td>11</td>\n",
       "      <td>0</td>\n",
       "    </tr>\n",
       "    <tr>\n",
       "      <th>7</th>\n",
       "      <td>6177</td>\n",
       "      <td>1985</td>\n",
       "      <td>PhD</td>\n",
       "      <td>Married</td>\n",
       "      <td>33454.0</td>\n",
       "      <td>1</td>\n",
       "      <td>0</td>\n",
       "      <td>2013-05-08</td>\n",
       "      <td>32</td>\n",
       "      <td>76</td>\n",
       "      <td>...</td>\n",
       "      <td>8</td>\n",
       "      <td>0</td>\n",
       "      <td>0</td>\n",
       "      <td>0</td>\n",
       "      <td>0</td>\n",
       "      <td>0</td>\n",
       "      <td>0</td>\n",
       "      <td>3</td>\n",
       "      <td>11</td>\n",
       "      <td>0</td>\n",
       "    </tr>\n",
       "    <tr>\n",
       "      <th>8</th>\n",
       "      <td>4855</td>\n",
       "      <td>1974</td>\n",
       "      <td>PhD</td>\n",
       "      <td>Together</td>\n",
       "      <td>30351.0</td>\n",
       "      <td>1</td>\n",
       "      <td>0</td>\n",
       "      <td>2013-06-06</td>\n",
       "      <td>19</td>\n",
       "      <td>14</td>\n",
       "      <td>...</td>\n",
       "      <td>9</td>\n",
       "      <td>0</td>\n",
       "      <td>0</td>\n",
       "      <td>0</td>\n",
       "      <td>0</td>\n",
       "      <td>0</td>\n",
       "      <td>0</td>\n",
       "      <td>3</td>\n",
       "      <td>11</td>\n",
       "      <td>1</td>\n",
       "    </tr>\n",
       "    <tr>\n",
       "      <th>9</th>\n",
       "      <td>5899</td>\n",
       "      <td>1950</td>\n",
       "      <td>PhD</td>\n",
       "      <td>Together</td>\n",
       "      <td>5648.0</td>\n",
       "      <td>1</td>\n",
       "      <td>1</td>\n",
       "      <td>2014-03-13</td>\n",
       "      <td>68</td>\n",
       "      <td>28</td>\n",
       "      <td>...</td>\n",
       "      <td>20</td>\n",
       "      <td>1</td>\n",
       "      <td>0</td>\n",
       "      <td>0</td>\n",
       "      <td>0</td>\n",
       "      <td>0</td>\n",
       "      <td>0</td>\n",
       "      <td>3</td>\n",
       "      <td>11</td>\n",
       "      <td>0</td>\n",
       "    </tr>\n",
       "  </tbody>\n",
       "</table>\n",
       "<p>10 rows × 29 columns</p>\n",
       "</div>"
      ],
      "text/plain": [
       "     ID  Year_Birth   Education Marital_Status   Income  Kidhome  Teenhome  \\\n",
       "0  5524        1957  Graduation         Single  58138.0        0         0   \n",
       "1  2174        1954  Graduation         Single  46344.0        1         1   \n",
       "2  4141        1965  Graduation       Together  71613.0        0         0   \n",
       "3  6182        1984  Graduation       Together  26646.0        1         0   \n",
       "4  5324        1981         PhD        Married  58293.0        1         0   \n",
       "5  7446        1967      Master       Together  62513.0        0         1   \n",
       "6   965        1971  Graduation       Divorced  55635.0        0         1   \n",
       "7  6177        1985         PhD        Married  33454.0        1         0   \n",
       "8  4855        1974         PhD       Together  30351.0        1         0   \n",
       "9  5899        1950         PhD       Together   5648.0        1         1   \n",
       "\n",
       "  Dt_Customer  Recency  MntWines  ...  NumWebVisitsMonth  AcceptedCmp3  \\\n",
       "0  2012-09-04       58       635  ...                  7             0   \n",
       "1  2014-03-08       38        11  ...                  5             0   \n",
       "2  2013-08-21       26       426  ...                  4             0   \n",
       "3  2014-02-10       26        11  ...                  6             0   \n",
       "4  2014-01-19       94       173  ...                  5             0   \n",
       "5  2013-09-09       16       520  ...                  6             0   \n",
       "6  2012-11-13       34       235  ...                  6             0   \n",
       "7  2013-05-08       32        76  ...                  8             0   \n",
       "8  2013-06-06       19        14  ...                  9             0   \n",
       "9  2014-03-13       68        28  ...                 20             1   \n",
       "\n",
       "   AcceptedCmp4  AcceptedCmp5  AcceptedCmp1  AcceptedCmp2  Complain  \\\n",
       "0             0             0             0             0         0   \n",
       "1             0             0             0             0         0   \n",
       "2             0             0             0             0         0   \n",
       "3             0             0             0             0         0   \n",
       "4             0             0             0             0         0   \n",
       "5             0             0             0             0         0   \n",
       "6             0             0             0             0         0   \n",
       "7             0             0             0             0         0   \n",
       "8             0             0             0             0         0   \n",
       "9             0             0             0             0         0   \n",
       "\n",
       "   Z_CostContact  Z_Revenue  Response  \n",
       "0              3         11         1  \n",
       "1              3         11         0  \n",
       "2              3         11         0  \n",
       "3              3         11         0  \n",
       "4              3         11         0  \n",
       "5              3         11         0  \n",
       "6              3         11         0  \n",
       "7              3         11         0  \n",
       "8              3         11         1  \n",
       "9              3         11         0  \n",
       "\n",
       "[10 rows x 29 columns]"
      ]
     },
     "execution_count": 2,
     "metadata": {},
     "output_type": "execute_result"
    }
   ],
   "source": [
    "# read data file\n",
    "df= pd.read_csv('marketing_campaign.csv', delimiter = ';')\n",
    "df.head(10)"
   ]
  },
  {
   "cell_type": "code",
   "execution_count": 3,
   "metadata": {
    "id": "X-3dICzJTFGa",
    "outputId": "f31540a4-cf18-4a02-d588-7937a8ea7229"
   },
   "outputs": [
    {
     "data": {
      "text/plain": [
       "(2240, 29)"
      ]
     },
     "execution_count": 3,
     "metadata": {},
     "output_type": "execute_result"
    }
   ],
   "source": [
    "# Get total number of rows and columns\n",
    "df.shape"
   ]
  },
  {
   "cell_type": "markdown",
   "metadata": {
    "id": "HFZk3kg6TFGl"
   },
   "source": [
    "### Drop 'ID' column <a id = 'id'></a>"
   ]
  },
  {
   "cell_type": "markdown",
   "metadata": {},
   "source": [
    "The ID column will not give us any useful information so we will drop it. "
   ]
  },
  {
   "cell_type": "code",
   "execution_count": 4,
   "metadata": {
    "id": "t6MSocvzTFGl"
   },
   "outputs": [],
   "source": [
    "# drop ID coloumn\n",
    "df = df.drop(['ID'], axis = 1)"
   ]
  },
  {
   "cell_type": "markdown",
   "metadata": {
    "id": "AF4vYWMnTFGZ"
   },
   "source": [
    "# 1. Exploratory Data Analysis <a id = 'eda'></a>"
   ]
  },
  {
   "cell_type": "markdown",
   "metadata": {},
   "source": [
    "We will do an exploratory analysis on the dataset, to summarize it and also get an understanding of what we are working with."
   ]
  },
  {
   "cell_type": "markdown",
   "metadata": {
    "id": "yOr7BTI7TFGf"
   },
   "source": [
    "### 1 a.  Target Variable "
   ]
  },
  {
   "cell_type": "markdown",
   "metadata": {
    "id": "1qGbPXDFTFGe"
   },
   "source": [
    "As per the dataset, the column Response (target) in itself is one of the campaigns (last campaign). So, in total there are 6 campaigns.\n",
    "\n",
    "Let's create a target variable called 'Customer_Response' where the value will be 1 if the customer responds to any of the 6 campaigns and 0 if the customer has not responded to any campaign. "
   ]
  },
  {
   "cell_type": "code",
   "execution_count": 5,
   "metadata": {
    "id": "a1R5dogwTFGe"
   },
   "outputs": [],
   "source": [
    "df['Customer_Response'] = np.where(df[['AcceptedCmp1', 'AcceptedCmp2', 'AcceptedCmp3', 'AcceptedCmp4', 'AcceptedCmp5', 'Response']].sum(axis=1) >= 1, 1, 0)"
   ]
  },
  {
   "cell_type": "code",
   "execution_count": 6,
   "metadata": {
    "id": "2QYMFYRETFGe"
   },
   "outputs": [],
   "source": [
    "# Renaming the 6th campaign name to intuitive column name \n",
    "df.rename(columns={'Response': 'AcceptedCmp6'}, inplace=True)"
   ]
  },
  {
   "cell_type": "markdown",
   "metadata": {},
   "source": [
    "### Frequency of the target variable."
   ]
  },
  {
   "cell_type": "code",
   "execution_count": 7,
   "metadata": {
    "id": "lpMyH5YQTFGf",
    "outputId": "4d0d4fd5-d079-4f6d-92bb-0d858ff45800",
    "scrolled": true
   },
   "outputs": [
    {
     "data": {
      "text/plain": [
       "0    1631\n",
       "1     609\n",
       "Name: Customer_Response, dtype: int64"
      ]
     },
     "execution_count": 7,
     "metadata": {},
     "output_type": "execute_result"
    }
   ],
   "source": [
    "df['Customer_Response'].value_counts()"
   ]
  },
  {
   "cell_type": "markdown",
   "metadata": {
    "id": "KsYdyX7wTFGf"
   },
   "source": [
    "#### Explanation:\n",
    "1631 is the number of instances for 0, which tells that there are 1631 customers who have not responded to the any of the campaign.\n",
    "\n",
    "609 is the number of instances for 1, which tells that there are 609 customers who have responded to atleast one of the campaign.\n",
    "\n",
    "We can also see that creating the 'Customer_Reponse' variable reduced the number of '0's and provides a holoistic view if the customers ever accepted the offers through the campaigns.\n",
    "\n",
    "As new target variable i.e 'Customer_response' is created from the 6 campaigns , there is no more use of the 6 campaign columns, so we can drop it.\n",
    "\n",
    "Also dropping column 'Z_CostContact' & 'Z_Revenue' as they are constant variables."
   ]
  },
  {
   "cell_type": "code",
   "execution_count": 8,
   "metadata": {
    "id": "7qbls4YoTFGg",
    "scrolled": true
   },
   "outputs": [],
   "source": [
    "df = df.drop(['AcceptedCmp1', 'AcceptedCmp2', 'AcceptedCmp3', 'AcceptedCmp4', 'AcceptedCmp5', 'AcceptedCmp6', 'Z_CostContact', 'Z_Revenue'], axis = 1)"
   ]
  },
  {
   "cell_type": "markdown",
   "metadata": {
    "id": "jM16m32sTFGg"
   },
   "source": [
    "### 1 b. Missing Values "
   ]
  },
  {
   "cell_type": "markdown",
   "metadata": {
    "id": "zybrdH4eTFGc"
   },
   "source": [
    "Checking the type of data to understand what all columns it contains and of what types and whether they contain any value or not."
   ]
  },
  {
   "cell_type": "code",
   "execution_count": 9,
   "metadata": {
    "id": "zx5-VwSKTFGd",
    "outputId": "5beed178-8e72-4d83-c61b-507dfa0b0fc6",
    "scrolled": false
   },
   "outputs": [
    {
     "name": "stdout",
     "output_type": "stream",
     "text": [
      "<class 'pandas.core.frame.DataFrame'>\n",
      "RangeIndex: 2240 entries, 0 to 2239\n",
      "Data columns (total 21 columns):\n",
      " #   Column               Non-Null Count  Dtype  \n",
      "---  ------               --------------  -----  \n",
      " 0   Year_Birth           2240 non-null   int64  \n",
      " 1   Education            2240 non-null   object \n",
      " 2   Marital_Status       2240 non-null   object \n",
      " 3   Income               2216 non-null   float64\n",
      " 4   Kidhome              2240 non-null   int64  \n",
      " 5   Teenhome             2240 non-null   int64  \n",
      " 6   Dt_Customer          2240 non-null   object \n",
      " 7   Recency              2240 non-null   int64  \n",
      " 8   MntWines             2240 non-null   int64  \n",
      " 9   MntFruits            2240 non-null   int64  \n",
      " 10  MntMeatProducts      2240 non-null   int64  \n",
      " 11  MntFishProducts      2240 non-null   int64  \n",
      " 12  MntSweetProducts     2240 non-null   int64  \n",
      " 13  MntGoldProds         2240 non-null   int64  \n",
      " 14  NumDealsPurchases    2240 non-null   int64  \n",
      " 15  NumWebPurchases      2240 non-null   int64  \n",
      " 16  NumCatalogPurchases  2240 non-null   int64  \n",
      " 17  NumStorePurchases    2240 non-null   int64  \n",
      " 18  NumWebVisitsMonth    2240 non-null   int64  \n",
      " 19  Complain             2240 non-null   int64  \n",
      " 20  Customer_Response    2240 non-null   int64  \n",
      "dtypes: float64(1), int64(17), object(3)\n",
      "memory usage: 367.6+ KB\n"
     ]
    }
   ],
   "source": [
    "df.info()"
   ]
  },
  {
   "cell_type": "markdown",
   "metadata": {
    "id": "ZYMdyJfGTFGd"
   },
   "source": [
    "So we see that we have 3 categorical variables and 26 numerical variables. We can also see that there are missing values in the column 'Income'. We will do missing value treatment later. "
   ]
  },
  {
   "cell_type": "code",
   "execution_count": 10,
   "metadata": {
    "id": "k1rbRG19TFGh",
    "outputId": "827db249-e87b-4c25-c0b1-e7246c875e22",
    "scrolled": false
   },
   "outputs": [
    {
     "data": {
      "text/plain": [
       "Year_Birth              0\n",
       "Education               0\n",
       "Marital_Status          0\n",
       "Income                 24\n",
       "Kidhome                 0\n",
       "Teenhome                0\n",
       "Dt_Customer             0\n",
       "Recency                 0\n",
       "MntWines                0\n",
       "MntFruits               0\n",
       "MntMeatProducts         0\n",
       "MntFishProducts         0\n",
       "MntSweetProducts        0\n",
       "MntGoldProds            0\n",
       "NumDealsPurchases       0\n",
       "NumWebPurchases         0\n",
       "NumCatalogPurchases     0\n",
       "NumStorePurchases       0\n",
       "NumWebVisitsMonth       0\n",
       "Complain                0\n",
       "Customer_Response       0\n",
       "dtype: int64"
      ]
     },
     "execution_count": 10,
     "metadata": {},
     "output_type": "execute_result"
    }
   ],
   "source": [
    "# Recalculating the missing values in the dataset\n",
    "df.isnull().sum()"
   ]
  },
  {
   "cell_type": "markdown",
   "metadata": {
    "id": "oWTzTp6nTFGh"
   },
   "source": [
    "Only 'Income' valriable has missing values. There are 24 missing values for the 'Income' variable. \n",
    "Let's understand more about column 'Income'."
   ]
  },
  {
   "cell_type": "code",
   "execution_count": 11,
   "metadata": {
    "id": "M-4Qq_VMTFGh",
    "outputId": "b67f1124-25f2-48f7-a296-c8baf8bf99f1",
    "scrolled": true
   },
   "outputs": [
    {
     "data": {
      "text/plain": [
       "count      2216.000000\n",
       "mean      52247.251354\n",
       "std       25173.076661\n",
       "min        1730.000000\n",
       "25%       35303.000000\n",
       "50%       51381.500000\n",
       "75%       68522.000000\n",
       "max      666666.000000\n",
       "Name: Income, dtype: float64"
      ]
     },
     "execution_count": 11,
     "metadata": {},
     "output_type": "execute_result"
    }
   ],
   "source": [
    " df[\"Income\"].describe()"
   ]
  },
  {
   "cell_type": "markdown",
   "metadata": {
    "id": "I0nOoO2xTFGi"
   },
   "source": [
    "#### Explanation:\n",
    "Handling missing values can be done in few ways- \n",
    "\n",
    "We can delete the entire column containing null-values.\n",
    "\n",
    "Delete the rows containing null-values or can impute the mean value.\n",
    "\n",
    "So, here we are treating the missing values in 'Income' column by Imputation method.\n",
    "Imputation fills in the missing value with some number. The imputed value won't be exactly right in most cases, but it usually gives more accurate models than dropping the column entirely."
   ]
  },
  {
   "cell_type": "code",
   "execution_count": 12,
   "metadata": {
    "id": "ridjcCTwTFGi"
   },
   "outputs": [],
   "source": [
    "missing_col = ['Income']\n",
    "#Technique : Using mean to impute the missing values\n",
    "for i in missing_col:\n",
    "    df.loc[df.loc[:,i].isnull(),i]=df.loc[:,i].mean()"
   ]
  },
  {
   "cell_type": "code",
   "execution_count": 13,
   "metadata": {
    "id": "GMPgjBEQTFGi",
    "outputId": "439d11b8-09bd-4f72-b0a8-c6663cbe70dc"
   },
   "outputs": [
    {
     "name": "stdout",
     "output_type": "stream",
     "text": [
      "count of NULL values after imputation\n",
      "\n"
     ]
    },
    {
     "data": {
      "text/plain": [
       "Year_Birth             0\n",
       "Education              0\n",
       "Marital_Status         0\n",
       "Income                 0\n",
       "Kidhome                0\n",
       "Teenhome               0\n",
       "Dt_Customer            0\n",
       "Recency                0\n",
       "MntWines               0\n",
       "MntFruits              0\n",
       "MntMeatProducts        0\n",
       "MntFishProducts        0\n",
       "MntSweetProducts       0\n",
       "MntGoldProds           0\n",
       "NumDealsPurchases      0\n",
       "NumWebPurchases        0\n",
       "NumCatalogPurchases    0\n",
       "NumStorePurchases      0\n",
       "NumWebVisitsMonth      0\n",
       "Complain               0\n",
       "Customer_Response      0\n",
       "dtype: int64"
      ]
     },
     "execution_count": 13,
     "metadata": {},
     "output_type": "execute_result"
    }
   ],
   "source": [
    "print(\"count of NULL values after imputation\\n\")\n",
    "df.isnull().sum()"
   ]
  },
  {
   "cell_type": "markdown",
   "metadata": {
    "id": "qJwKUmfMTFGj"
   },
   "source": [
    "Now there are no null values after imputation"
   ]
  },
  {
   "cell_type": "code",
   "execution_count": 14,
   "metadata": {
    "id": "8kBYZa62TFGk",
    "outputId": "f77be216-c7fd-4353-e505-4da5554b8c29",
    "scrolled": false
   },
   "outputs": [
    {
     "data": {
      "text/plain": [
       "Year_Birth                0\n",
       "Education                 0\n",
       "Marital_Status            0\n",
       "Income                    0\n",
       "Kidhome                1293\n",
       "Teenhome               1158\n",
       "Dt_Customer               0\n",
       "Recency                  28\n",
       "MntWines                 13\n",
       "MntFruits               400\n",
       "MntMeatProducts           1\n",
       "MntFishProducts         384\n",
       "MntSweetProducts        419\n",
       "MntGoldProds             61\n",
       "NumDealsPurchases        46\n",
       "NumWebPurchases          49\n",
       "NumCatalogPurchases     586\n",
       "NumStorePurchases        15\n",
       "NumWebVisitsMonth        11\n",
       "Complain               2219\n",
       "Customer_Response      1631\n",
       "dtype: int64"
      ]
     },
     "execution_count": 14,
     "metadata": {},
     "output_type": "execute_result"
    }
   ],
   "source": [
    "# Calculating number of Zeroes in each of the columns to find anomalies if any (such as high number of zeroes in Year_Birth)\n",
    "df.isin([0]).sum()"
   ]
  },
  {
   "cell_type": "markdown",
   "metadata": {
    "id": "0n7yy9D1TFGk"
   },
   "source": [
    "Based on above table, there are no anomalies found in terms of '0's in the variables"
   ]
  },
  {
   "cell_type": "markdown",
   "metadata": {
    "id": "M7ibwx3FTFGj"
   },
   "source": [
    "### 1 b. Checking for duplicates"
   ]
  },
  {
   "cell_type": "markdown",
   "metadata": {},
   "source": [
    "Let's check for duplicate rows and drop them if necessary. Then we'll do a recount of duplicates to double check that they were dropped."
   ]
  },
  {
   "cell_type": "code",
   "execution_count": 15,
   "metadata": {},
   "outputs": [
    {
     "data": {
      "text/plain": [
       "189"
      ]
     },
     "execution_count": 15,
     "metadata": {},
     "output_type": "execute_result"
    }
   ],
   "source": [
    "# duplicate count\n",
    "df.duplicated().sum()"
   ]
  },
  {
   "cell_type": "code",
   "execution_count": 16,
   "metadata": {
    "id": "LPSMvU2TTFGj",
    "outputId": "e7ed4369-8a5b-4230-8e33-74c0d0a3d402",
    "scrolled": false
   },
   "outputs": [],
   "source": [
    "# drop duplicates and reset index\n",
    "df = df.drop_duplicates().reset_index(drop = True)"
   ]
  },
  {
   "cell_type": "code",
   "execution_count": 17,
   "metadata": {
    "id": "HfOWZNMgTFGj",
    "outputId": "a6ec16d2-a479-4770-d465-53b75435665a",
    "scrolled": false
   },
   "outputs": [
    {
     "data": {
      "text/plain": [
       "0"
      ]
     },
     "execution_count": 17,
     "metadata": {},
     "output_type": "execute_result"
    }
   ],
   "source": [
    "# The duplicated values are indicated as True values in the resulting Series\n",
    "df.duplicated().sum()"
   ]
  },
  {
   "cell_type": "markdown",
   "metadata": {
    "id": "8vPAyhvnTFGk"
   },
   "source": [
    "#### Explanation\n",
    "After performing the action to remove duplicates the total number of rows are still 2240 which tells that there are no duplicate values in the dataset."
   ]
  },
  {
   "cell_type": "markdown",
   "metadata": {
    "id": "0KLXJ1jxTFGl"
   },
   "source": [
    "### 1 c. Variable Relationships "
   ]
  },
  {
   "cell_type": "code",
   "execution_count": 18,
   "metadata": {},
   "outputs": [
    {
     "data": {
      "text/plain": [
       "(2051, 21)"
      ]
     },
     "execution_count": 18,
     "metadata": {},
     "output_type": "execute_result"
    }
   ],
   "source": [
    "df.shape"
   ]
  },
  {
   "cell_type": "code",
   "execution_count": 19,
   "metadata": {
    "id": "RRCEEgIKTFGl",
    "outputId": "a31cb95e-e66b-4416-8833-92ccd9c8fa6d",
    "scrolled": true
   },
   "outputs": [
    {
     "data": {
      "text/html": [
       "<div>\n",
       "<style scoped>\n",
       "    .dataframe tbody tr th:only-of-type {\n",
       "        vertical-align: middle;\n",
       "    }\n",
       "\n",
       "    .dataframe tbody tr th {\n",
       "        vertical-align: top;\n",
       "    }\n",
       "\n",
       "    .dataframe thead th {\n",
       "        text-align: right;\n",
       "    }\n",
       "</style>\n",
       "<table border=\"1\" class=\"dataframe\">\n",
       "  <thead>\n",
       "    <tr style=\"text-align: right;\">\n",
       "      <th></th>\n",
       "      <th>Year_Birth</th>\n",
       "      <th>Income</th>\n",
       "      <th>Kidhome</th>\n",
       "      <th>Teenhome</th>\n",
       "      <th>Recency</th>\n",
       "      <th>MntWines</th>\n",
       "      <th>MntFruits</th>\n",
       "      <th>MntMeatProducts</th>\n",
       "      <th>MntFishProducts</th>\n",
       "      <th>MntSweetProducts</th>\n",
       "      <th>MntGoldProds</th>\n",
       "      <th>NumDealsPurchases</th>\n",
       "      <th>NumWebPurchases</th>\n",
       "      <th>NumCatalogPurchases</th>\n",
       "      <th>NumStorePurchases</th>\n",
       "      <th>NumWebVisitsMonth</th>\n",
       "      <th>Complain</th>\n",
       "      <th>Customer_Response</th>\n",
       "    </tr>\n",
       "  </thead>\n",
       "  <tbody>\n",
       "    <tr>\n",
       "      <th>count</th>\n",
       "      <td>2051.000000</td>\n",
       "      <td>2051.000000</td>\n",
       "      <td>2051.000000</td>\n",
       "      <td>2051.000000</td>\n",
       "      <td>2051.000000</td>\n",
       "      <td>2051.000000</td>\n",
       "      <td>2051.000000</td>\n",
       "      <td>2051.000000</td>\n",
       "      <td>2051.000000</td>\n",
       "      <td>2051.000000</td>\n",
       "      <td>2051.000000</td>\n",
       "      <td>2051.000000</td>\n",
       "      <td>2051.000000</td>\n",
       "      <td>2051.000000</td>\n",
       "      <td>2051.000000</td>\n",
       "      <td>2051.000000</td>\n",
       "      <td>2051.000000</td>\n",
       "      <td>2051.000000</td>\n",
       "    </tr>\n",
       "    <tr>\n",
       "      <th>mean</th>\n",
       "      <td>1968.798147</td>\n",
       "      <td>52337.652381</td>\n",
       "      <td>0.445636</td>\n",
       "      <td>0.508532</td>\n",
       "      <td>48.972696</td>\n",
       "      <td>302.902974</td>\n",
       "      <td>26.227694</td>\n",
       "      <td>167.313506</td>\n",
       "      <td>37.300341</td>\n",
       "      <td>27.128230</td>\n",
       "      <td>43.893223</td>\n",
       "      <td>2.333496</td>\n",
       "      <td>4.098489</td>\n",
       "      <td>2.657728</td>\n",
       "      <td>5.767918</td>\n",
       "      <td>5.319844</td>\n",
       "      <td>0.009751</td>\n",
       "      <td>0.274013</td>\n",
       "    </tr>\n",
       "    <tr>\n",
       "      <th>std</th>\n",
       "      <td>11.970297</td>\n",
       "      <td>25382.967842</td>\n",
       "      <td>0.537695</td>\n",
       "      <td>0.546653</td>\n",
       "      <td>29.005100</td>\n",
       "      <td>335.657543</td>\n",
       "      <td>39.743769</td>\n",
       "      <td>227.513616</td>\n",
       "      <td>54.591382</td>\n",
       "      <td>41.621742</td>\n",
       "      <td>52.186942</td>\n",
       "      <td>1.934272</td>\n",
       "      <td>2.799138</td>\n",
       "      <td>2.936044</td>\n",
       "      <td>3.238302</td>\n",
       "      <td>2.440130</td>\n",
       "      <td>0.098290</td>\n",
       "      <td>0.446124</td>\n",
       "    </tr>\n",
       "    <tr>\n",
       "      <th>min</th>\n",
       "      <td>1893.000000</td>\n",
       "      <td>1730.000000</td>\n",
       "      <td>0.000000</td>\n",
       "      <td>0.000000</td>\n",
       "      <td>0.000000</td>\n",
       "      <td>0.000000</td>\n",
       "      <td>0.000000</td>\n",
       "      <td>0.000000</td>\n",
       "      <td>0.000000</td>\n",
       "      <td>0.000000</td>\n",
       "      <td>0.000000</td>\n",
       "      <td>0.000000</td>\n",
       "      <td>0.000000</td>\n",
       "      <td>0.000000</td>\n",
       "      <td>0.000000</td>\n",
       "      <td>0.000000</td>\n",
       "      <td>0.000000</td>\n",
       "      <td>0.000000</td>\n",
       "    </tr>\n",
       "    <tr>\n",
       "      <th>1%</th>\n",
       "      <td>1945.000000</td>\n",
       "      <td>7500.000000</td>\n",
       "      <td>0.000000</td>\n",
       "      <td>0.000000</td>\n",
       "      <td>0.000000</td>\n",
       "      <td>1.000000</td>\n",
       "      <td>0.000000</td>\n",
       "      <td>2.000000</td>\n",
       "      <td>0.000000</td>\n",
       "      <td>0.000000</td>\n",
       "      <td>0.000000</td>\n",
       "      <td>0.000000</td>\n",
       "      <td>0.000000</td>\n",
       "      <td>0.000000</td>\n",
       "      <td>1.000000</td>\n",
       "      <td>1.000000</td>\n",
       "      <td>0.000000</td>\n",
       "      <td>0.000000</td>\n",
       "    </tr>\n",
       "    <tr>\n",
       "      <th>10%</th>\n",
       "      <td>1952.000000</td>\n",
       "      <td>24336.000000</td>\n",
       "      <td>0.000000</td>\n",
       "      <td>0.000000</td>\n",
       "      <td>9.000000</td>\n",
       "      <td>6.000000</td>\n",
       "      <td>0.000000</td>\n",
       "      <td>7.000000</td>\n",
       "      <td>0.000000</td>\n",
       "      <td>0.000000</td>\n",
       "      <td>3.000000</td>\n",
       "      <td>1.000000</td>\n",
       "      <td>1.000000</td>\n",
       "      <td>0.000000</td>\n",
       "      <td>2.000000</td>\n",
       "      <td>2.000000</td>\n",
       "      <td>0.000000</td>\n",
       "      <td>0.000000</td>\n",
       "    </tr>\n",
       "    <tr>\n",
       "      <th>20%</th>\n",
       "      <td>1957.000000</td>\n",
       "      <td>32313.000000</td>\n",
       "      <td>0.000000</td>\n",
       "      <td>0.000000</td>\n",
       "      <td>19.000000</td>\n",
       "      <td>16.000000</td>\n",
       "      <td>1.000000</td>\n",
       "      <td>12.000000</td>\n",
       "      <td>2.000000</td>\n",
       "      <td>1.000000</td>\n",
       "      <td>6.000000</td>\n",
       "      <td>1.000000</td>\n",
       "      <td>2.000000</td>\n",
       "      <td>0.000000</td>\n",
       "      <td>3.000000</td>\n",
       "      <td>3.000000</td>\n",
       "      <td>0.000000</td>\n",
       "      <td>0.000000</td>\n",
       "    </tr>\n",
       "    <tr>\n",
       "      <th>30%</th>\n",
       "      <td>1962.000000</td>\n",
       "      <td>38547.000000</td>\n",
       "      <td>0.000000</td>\n",
       "      <td>0.000000</td>\n",
       "      <td>29.000000</td>\n",
       "      <td>34.000000</td>\n",
       "      <td>2.000000</td>\n",
       "      <td>20.000000</td>\n",
       "      <td>3.000000</td>\n",
       "      <td>2.000000</td>\n",
       "      <td>11.000000</td>\n",
       "      <td>1.000000</td>\n",
       "      <td>2.000000</td>\n",
       "      <td>1.000000</td>\n",
       "      <td>3.000000</td>\n",
       "      <td>4.000000</td>\n",
       "      <td>0.000000</td>\n",
       "      <td>0.000000</td>\n",
       "    </tr>\n",
       "    <tr>\n",
       "      <th>40%</th>\n",
       "      <td>1966.000000</td>\n",
       "      <td>45072.000000</td>\n",
       "      <td>0.000000</td>\n",
       "      <td>0.000000</td>\n",
       "      <td>39.000000</td>\n",
       "      <td>84.000000</td>\n",
       "      <td>4.000000</td>\n",
       "      <td>35.000000</td>\n",
       "      <td>7.000000</td>\n",
       "      <td>5.000000</td>\n",
       "      <td>16.000000</td>\n",
       "      <td>1.000000</td>\n",
       "      <td>3.000000</td>\n",
       "      <td>1.000000</td>\n",
       "      <td>4.000000</td>\n",
       "      <td>5.000000</td>\n",
       "      <td>0.000000</td>\n",
       "      <td>0.000000</td>\n",
       "    </tr>\n",
       "    <tr>\n",
       "      <th>50%</th>\n",
       "      <td>1970.000000</td>\n",
       "      <td>52034.000000</td>\n",
       "      <td>0.000000</td>\n",
       "      <td>0.000000</td>\n",
       "      <td>49.000000</td>\n",
       "      <td>173.000000</td>\n",
       "      <td>8.000000</td>\n",
       "      <td>67.000000</td>\n",
       "      <td>12.000000</td>\n",
       "      <td>8.000000</td>\n",
       "      <td>24.000000</td>\n",
       "      <td>2.000000</td>\n",
       "      <td>4.000000</td>\n",
       "      <td>2.000000</td>\n",
       "      <td>5.000000</td>\n",
       "      <td>6.000000</td>\n",
       "      <td>0.000000</td>\n",
       "      <td>0.000000</td>\n",
       "    </tr>\n",
       "    <tr>\n",
       "      <th>60%</th>\n",
       "      <td>1973.000000</td>\n",
       "      <td>58025.000000</td>\n",
       "      <td>1.000000</td>\n",
       "      <td>1.000000</td>\n",
       "      <td>59.000000</td>\n",
       "      <td>283.000000</td>\n",
       "      <td>14.000000</td>\n",
       "      <td>108.000000</td>\n",
       "      <td>20.000000</td>\n",
       "      <td>14.000000</td>\n",
       "      <td>34.000000</td>\n",
       "      <td>2.000000</td>\n",
       "      <td>4.000000</td>\n",
       "      <td>2.000000</td>\n",
       "      <td>6.000000</td>\n",
       "      <td>6.000000</td>\n",
       "      <td>0.000000</td>\n",
       "      <td>0.000000</td>\n",
       "    </tr>\n",
       "    <tr>\n",
       "      <th>70%</th>\n",
       "      <td>1976.000000</td>\n",
       "      <td>65031.000000</td>\n",
       "      <td>1.000000</td>\n",
       "      <td>1.000000</td>\n",
       "      <td>70.000000</td>\n",
       "      <td>415.000000</td>\n",
       "      <td>25.000000</td>\n",
       "      <td>175.000000</td>\n",
       "      <td>37.000000</td>\n",
       "      <td>26.000000</td>\n",
       "      <td>46.000000</td>\n",
       "      <td>3.000000</td>\n",
       "      <td>5.000000</td>\n",
       "      <td>4.000000</td>\n",
       "      <td>7.000000</td>\n",
       "      <td>7.000000</td>\n",
       "      <td>0.000000</td>\n",
       "      <td>0.000000</td>\n",
       "    </tr>\n",
       "    <tr>\n",
       "      <th>80%</th>\n",
       "      <td>1979.000000</td>\n",
       "      <td>71670.000000</td>\n",
       "      <td>1.000000</td>\n",
       "      <td>1.000000</td>\n",
       "      <td>79.000000</td>\n",
       "      <td>576.000000</td>\n",
       "      <td>44.000000</td>\n",
       "      <td>292.000000</td>\n",
       "      <td>65.000000</td>\n",
       "      <td>44.000000</td>\n",
       "      <td>72.000000</td>\n",
       "      <td>3.000000</td>\n",
       "      <td>6.000000</td>\n",
       "      <td>5.000000</td>\n",
       "      <td>9.000000</td>\n",
       "      <td>7.000000</td>\n",
       "      <td>0.000000</td>\n",
       "      <td>1.000000</td>\n",
       "    </tr>\n",
       "    <tr>\n",
       "      <th>90%</th>\n",
       "      <td>1984.000000</td>\n",
       "      <td>79761.000000</td>\n",
       "      <td>1.000000</td>\n",
       "      <td>1.000000</td>\n",
       "      <td>89.000000</td>\n",
       "      <td>817.000000</td>\n",
       "      <td>82.000000</td>\n",
       "      <td>501.000000</td>\n",
       "      <td>120.000000</td>\n",
       "      <td>89.000000</td>\n",
       "      <td>122.000000</td>\n",
       "      <td>5.000000</td>\n",
       "      <td>8.000000</td>\n",
       "      <td>7.000000</td>\n",
       "      <td>11.000000</td>\n",
       "      <td>8.000000</td>\n",
       "      <td>0.000000</td>\n",
       "      <td>1.000000</td>\n",
       "    </tr>\n",
       "    <tr>\n",
       "      <th>99%</th>\n",
       "      <td>1992.000000</td>\n",
       "      <td>94557.000000</td>\n",
       "      <td>2.000000</td>\n",
       "      <td>2.000000</td>\n",
       "      <td>98.000000</td>\n",
       "      <td>1285.000000</td>\n",
       "      <td>172.000000</td>\n",
       "      <td>923.000000</td>\n",
       "      <td>226.000000</td>\n",
       "      <td>178.500000</td>\n",
       "      <td>228.000000</td>\n",
       "      <td>10.000000</td>\n",
       "      <td>11.000000</td>\n",
       "      <td>11.000000</td>\n",
       "      <td>13.000000</td>\n",
       "      <td>9.000000</td>\n",
       "      <td>0.000000</td>\n",
       "      <td>1.000000</td>\n",
       "    </tr>\n",
       "    <tr>\n",
       "      <th>max</th>\n",
       "      <td>1996.000000</td>\n",
       "      <td>666666.000000</td>\n",
       "      <td>2.000000</td>\n",
       "      <td>2.000000</td>\n",
       "      <td>99.000000</td>\n",
       "      <td>1493.000000</td>\n",
       "      <td>199.000000</td>\n",
       "      <td>1725.000000</td>\n",
       "      <td>259.000000</td>\n",
       "      <td>263.000000</td>\n",
       "      <td>362.000000</td>\n",
       "      <td>15.000000</td>\n",
       "      <td>27.000000</td>\n",
       "      <td>28.000000</td>\n",
       "      <td>13.000000</td>\n",
       "      <td>20.000000</td>\n",
       "      <td>1.000000</td>\n",
       "      <td>1.000000</td>\n",
       "    </tr>\n",
       "  </tbody>\n",
       "</table>\n",
       "</div>"
      ],
      "text/plain": [
       "        Year_Birth         Income      Kidhome     Teenhome      Recency  \\\n",
       "count  2051.000000    2051.000000  2051.000000  2051.000000  2051.000000   \n",
       "mean   1968.798147   52337.652381     0.445636     0.508532    48.972696   \n",
       "std      11.970297   25382.967842     0.537695     0.546653    29.005100   \n",
       "min    1893.000000    1730.000000     0.000000     0.000000     0.000000   \n",
       "1%     1945.000000    7500.000000     0.000000     0.000000     0.000000   \n",
       "10%    1952.000000   24336.000000     0.000000     0.000000     9.000000   \n",
       "20%    1957.000000   32313.000000     0.000000     0.000000    19.000000   \n",
       "30%    1962.000000   38547.000000     0.000000     0.000000    29.000000   \n",
       "40%    1966.000000   45072.000000     0.000000     0.000000    39.000000   \n",
       "50%    1970.000000   52034.000000     0.000000     0.000000    49.000000   \n",
       "60%    1973.000000   58025.000000     1.000000     1.000000    59.000000   \n",
       "70%    1976.000000   65031.000000     1.000000     1.000000    70.000000   \n",
       "80%    1979.000000   71670.000000     1.000000     1.000000    79.000000   \n",
       "90%    1984.000000   79761.000000     1.000000     1.000000    89.000000   \n",
       "99%    1992.000000   94557.000000     2.000000     2.000000    98.000000   \n",
       "max    1996.000000  666666.000000     2.000000     2.000000    99.000000   \n",
       "\n",
       "          MntWines    MntFruits  MntMeatProducts  MntFishProducts  \\\n",
       "count  2051.000000  2051.000000      2051.000000      2051.000000   \n",
       "mean    302.902974    26.227694       167.313506        37.300341   \n",
       "std     335.657543    39.743769       227.513616        54.591382   \n",
       "min       0.000000     0.000000         0.000000         0.000000   \n",
       "1%        1.000000     0.000000         2.000000         0.000000   \n",
       "10%       6.000000     0.000000         7.000000         0.000000   \n",
       "20%      16.000000     1.000000        12.000000         2.000000   \n",
       "30%      34.000000     2.000000        20.000000         3.000000   \n",
       "40%      84.000000     4.000000        35.000000         7.000000   \n",
       "50%     173.000000     8.000000        67.000000        12.000000   \n",
       "60%     283.000000    14.000000       108.000000        20.000000   \n",
       "70%     415.000000    25.000000       175.000000        37.000000   \n",
       "80%     576.000000    44.000000       292.000000        65.000000   \n",
       "90%     817.000000    82.000000       501.000000       120.000000   \n",
       "99%    1285.000000   172.000000       923.000000       226.000000   \n",
       "max    1493.000000   199.000000      1725.000000       259.000000   \n",
       "\n",
       "       MntSweetProducts  MntGoldProds  NumDealsPurchases  NumWebPurchases  \\\n",
       "count       2051.000000   2051.000000        2051.000000      2051.000000   \n",
       "mean          27.128230     43.893223           2.333496         4.098489   \n",
       "std           41.621742     52.186942           1.934272         2.799138   \n",
       "min            0.000000      0.000000           0.000000         0.000000   \n",
       "1%             0.000000      0.000000           0.000000         0.000000   \n",
       "10%            0.000000      3.000000           1.000000         1.000000   \n",
       "20%            1.000000      6.000000           1.000000         2.000000   \n",
       "30%            2.000000     11.000000           1.000000         2.000000   \n",
       "40%            5.000000     16.000000           1.000000         3.000000   \n",
       "50%            8.000000     24.000000           2.000000         4.000000   \n",
       "60%           14.000000     34.000000           2.000000         4.000000   \n",
       "70%           26.000000     46.000000           3.000000         5.000000   \n",
       "80%           44.000000     72.000000           3.000000         6.000000   \n",
       "90%           89.000000    122.000000           5.000000         8.000000   \n",
       "99%          178.500000    228.000000          10.000000        11.000000   \n",
       "max          263.000000    362.000000          15.000000        27.000000   \n",
       "\n",
       "       NumCatalogPurchases  NumStorePurchases  NumWebVisitsMonth     Complain  \\\n",
       "count          2051.000000        2051.000000        2051.000000  2051.000000   \n",
       "mean              2.657728           5.767918           5.319844     0.009751   \n",
       "std               2.936044           3.238302           2.440130     0.098290   \n",
       "min               0.000000           0.000000           0.000000     0.000000   \n",
       "1%                0.000000           1.000000           1.000000     0.000000   \n",
       "10%               0.000000           2.000000           2.000000     0.000000   \n",
       "20%               0.000000           3.000000           3.000000     0.000000   \n",
       "30%               1.000000           3.000000           4.000000     0.000000   \n",
       "40%               1.000000           4.000000           5.000000     0.000000   \n",
       "50%               2.000000           5.000000           6.000000     0.000000   \n",
       "60%               2.000000           6.000000           6.000000     0.000000   \n",
       "70%               4.000000           7.000000           7.000000     0.000000   \n",
       "80%               5.000000           9.000000           7.000000     0.000000   \n",
       "90%               7.000000          11.000000           8.000000     0.000000   \n",
       "99%              11.000000          13.000000           9.000000     0.000000   \n",
       "max              28.000000          13.000000          20.000000     1.000000   \n",
       "\n",
       "       Customer_Response  \n",
       "count        2051.000000  \n",
       "mean            0.274013  \n",
       "std             0.446124  \n",
       "min             0.000000  \n",
       "1%              0.000000  \n",
       "10%             0.000000  \n",
       "20%             0.000000  \n",
       "30%             0.000000  \n",
       "40%             0.000000  \n",
       "50%             0.000000  \n",
       "60%             0.000000  \n",
       "70%             0.000000  \n",
       "80%             1.000000  \n",
       "90%             1.000000  \n",
       "99%             1.000000  \n",
       "max             1.000000  "
      ]
     },
     "execution_count": 19,
     "metadata": {},
     "output_type": "execute_result"
    }
   ],
   "source": [
    "# Statistical summary of data frame\n",
    "df.describe([.01,.1,.2,.3,.4,.5,.6,.7,.8,.9,.99])"
   ]
  },
  {
   "cell_type": "markdown",
   "metadata": {
    "id": "IPcJ6I9YTFGm"
   },
   "source": [
    "To understand the relationship between dependent variable and independent variables, here creating plot and heatmap."
   ]
  },
  {
   "cell_type": "code",
   "execution_count": 20,
   "metadata": {
    "id": "2ZLWIr6mTFGm"
   },
   "outputs": [],
   "source": [
    "predictors = [ 'Year_Birth', 'Education', 'Marital_Status', 'Income', 'Kidhome',\n",
    "       'Teenhome', 'Dt_Customer', 'Recency', 'MntWines', 'MntFruits',\n",
    "       'MntMeatProducts', 'MntFishProducts', 'MntSweetProducts',\n",
    "       'MntGoldProds', 'NumDealsPurchases', 'NumWebPurchases',\n",
    "       'NumCatalogPurchases', 'NumStorePurchases', 'NumWebVisitsMonth', 'Complain']\n",
    "\n",
    "outcome = 'Customer_Response'\n"
   ]
  },
  {
   "cell_type": "code",
   "execution_count": 21,
   "metadata": {
    "id": "tx1y06E2TFGm",
    "outputId": "f4e802cf-6a40-4c42-ba53-a3334ade422e",
    "scrolled": false
   },
   "outputs": [
    {
     "data": {
      "text/plain": [
       "<matplotlib.axes._subplots.AxesSubplot at 0x7fa4eca00ee0>"
      ]
     },
     "execution_count": 21,
     "metadata": {},
     "output_type": "execute_result"
    },
    {
     "data": {
      "image/png": "[encoded data removed]",
      "text/plain": [
       "<Figure size 432x288 with 1 Axes>"
      ]
     },
     "metadata": {
      "needs_background": "light"
     },
     "output_type": "display_data"
    }
   ],
   "source": [
    "sns.distplot(df['Customer_Response'])"
   ]
  },
  {
   "cell_type": "markdown",
   "metadata": {
    "id": "nGjR2M4cTFGm"
   },
   "source": [
    "Above graph shows the ratio between the customers who responded to any of the campaigns and those who never responded to any campaign"
   ]
  },
  {
   "cell_type": "code",
   "execution_count": 22,
   "metadata": {
    "id": "FO8trIZWTFGn",
    "outputId": "efc34747-efa0-4861-c1df-75323e321600"
   },
   "outputs": [
    {
     "data": {
      "text/plain": [
       "562"
      ]
     },
     "execution_count": 22,
     "metadata": {},
     "output_type": "execute_result"
    }
   ],
   "source": [
    "df['Customer_Response'].sum()"
   ]
  },
  {
   "cell_type": "markdown",
   "metadata": {},
   "source": [
    "#### Heatmap"
   ]
  },
  {
   "cell_type": "code",
   "execution_count": 23,
   "metadata": {
    "id": "tWg8RCYfTFGn",
    "outputId": "6afdc118-ccb2-4427-f6fa-26ee67d7bbc4"
   },
   "outputs": [
    {
     "data": {
      "image/png": "[encoded data removed]",
      "text/plain": [
       "<Figure size 1440x1440 with 2 Axes>"
      ]
     },
     "metadata": {
      "needs_background": "light"
     },
     "output_type": "display_data"
    }
   ],
   "source": [
    "df_small = df.iloc[:,:29]\n",
    "correlation_mat = df_small.corr()\n",
    "fig, ax = plt.subplots(figsize=(20,20))\n",
    "sns.heatmap(correlation_mat, annot = True, linewidths=.5)\n",
    "plt.show()"
   ]
  },
  {
   "cell_type": "markdown",
   "metadata": {
    "id": "D-zDIcpvTFGn"
   },
   "source": [
    "#### Explanation\n",
    "Each square of the heatmap shows correlation between the variables on each axis. Values closer to zero means there is no linear trend between the two variables. The close to 1 correlation is positively correlated. Taking positive 0.4 as the benchmark, we can check, which variables have more postive corelarion with other variables."
   ]
  },
  {
   "cell_type": "markdown",
   "metadata": {
    "id": "2nhCfSvcTFGn"
   },
   "source": [
    "### 1 d. Outliers:\n",
    " Here identifying the outliers with interquartile range"
   ]
  },
  {
   "cell_type": "code",
   "execution_count": 24,
   "metadata": {
    "id": "Aqwbp4dnTFGo",
    "outputId": "bb3710e1-6a14-4825-c89a-f8813805f2e3"
   },
   "outputs": [
    {
     "name": "stdout",
     "output_type": "stream",
     "text": [
      "Year_Birth                18.0\n",
      "Income                 32516.5\n",
      "Kidhome                    1.0\n",
      "Teenhome                   1.0\n",
      "Recency                   50.0\n",
      "MntWines                 479.5\n",
      "MntFruits                 31.5\n",
      "MntMeatProducts          213.0\n",
      "MntFishProducts           47.0\n",
      "MntSweetProducts          32.5\n",
      "MntGoldProds              47.0\n",
      "NumDealsPurchases          2.0\n",
      "NumWebPurchases            4.0\n",
      "NumCatalogPurchases        4.0\n",
      "NumStorePurchases          5.0\n",
      "NumWebVisitsMonth          4.0\n",
      "Complain                   0.0\n",
      "Customer_Response          1.0\n",
      "dtype: float64\n"
     ]
    }
   ],
   "source": [
    "#Sorting the dataset\n",
    "# 50th percentile is median\n",
    "sorted(df)\n",
    "Q1=df.quantile(0.25)\n",
    "Q3=df.quantile(0.75)\n",
    "IQR=Q3-Q1\n",
    "print(IQR)"
   ]
  },
  {
   "cell_type": "code",
   "execution_count": 25,
   "metadata": {
    "id": "YDCCgSPuTFGo",
    "outputId": "2ae25e1b-5f02-4028-c8e8-55d8e14eb974",
    "scrolled": false
   },
   "outputs": [
    {
     "data": {
      "text/plain": [
       "Complain                20\n",
       "Customer_Response        0\n",
       "Dt_Customer              0\n",
       "Education                0\n",
       "Income                   8\n",
       "Kidhome                  0\n",
       "Marital_Status           0\n",
       "MntFishProducts        202\n",
       "MntFruits              211\n",
       "MntGoldProds           187\n",
       "MntMeatProducts        174\n",
       "MntSweetProducts       223\n",
       "MntWines                34\n",
       "NumCatalogPurchases     22\n",
       "NumDealsPurchases       77\n",
       "NumStorePurchases        0\n",
       "NumWebPurchases          4\n",
       "NumWebVisitsMonth        8\n",
       "Recency                  0\n",
       "Teenhome                 0\n",
       "Year_Birth               3\n",
       "dtype: int64"
      ]
     },
     "execution_count": 25,
     "metadata": {},
     "output_type": "execute_result"
    }
   ],
   "source": [
    "((df < (Q1 - 1.5 * IQR)) | (df > (Q3 + 1.5 * IQR))).sum()"
   ]
  },
  {
   "cell_type": "markdown",
   "metadata": {
    "id": "2UBs5mhaTFGo"
   },
   "source": [
    "####  Explanation:\n",
    "There are different outlier treatments like by calculating mean and median, but one of the most commonly used approach is calculating percentile value and replacing the outliers with that percentile value. \n",
    "\n",
    "Here the complain variable do not require an outlier treatment as it has binary values(1, 0).\n",
    "\n",
    "As the next step, will understand the outliers with visualization starting with 'Income' variable. And after doing the outlier treatment we will again find the relationship between variables."
   ]
  },
  {
   "cell_type": "code",
   "execution_count": 26,
   "metadata": {
    "id": "5WHepXbVTFGp",
    "outputId": "6af88daf-79b3-48da-86ff-f1d1c6ca60a2"
   },
   "outputs": [
    {
     "name": "stdout",
     "output_type": "stream",
     "text": [
      "7.120444939794689\n"
     ]
    },
    {
     "data": {
      "text/plain": [
       "count      2051.000000\n",
       "mean      52337.652381\n",
       "std       25382.967842\n",
       "min        1730.000000\n",
       "1%         7500.000000\n",
       "10%       24336.000000\n",
       "20%       32313.000000\n",
       "30%       38547.000000\n",
       "40%       45072.000000\n",
       "50%       52034.000000\n",
       "60%       58025.000000\n",
       "70%       65031.000000\n",
       "80%       71670.000000\n",
       "90%       79761.000000\n",
       "99%       94557.000000\n",
       "max      666666.000000\n",
       "Name: Income, dtype: float64"
      ]
     },
     "execution_count": 26,
     "metadata": {},
     "output_type": "execute_result"
    }
   ],
   "source": [
    "#Shows the skewness value of Income and also summary statistics\n",
    "print(df['Income'].skew())\n",
    "df['Income'].describe([.01,.1,.2,.3,.4,.5,.6,.7,.8,.9,.99])"
   ]
  },
  {
   "cell_type": "markdown",
   "metadata": {
    "id": "r-4WxGrpTFGp"
   },
   "source": [
    "#### Explanation:\n",
    "The skewness value of 7.12 shows that the variable 'Income' has right-skewes distribution, indicating the presence of extreme values. \n",
    "\n",
    "Based on research, skewness value greater than 3.5 shows skewness.\n",
    "https://stats.stackexchange.com/questions/436274/performing-t-test-on-highly-skewed-financial-data-outlier-treatment#:~:text=After%20treating%20for%20outliers%2C%20most,and%20%2B1.5%20max%20is%203.5."
   ]
  },
  {
   "cell_type": "markdown",
   "metadata": {
    "id": "5KUbrTc_TFGp"
   },
   "source": [
    "###  Outliers Treatment\n",
    " Quantile-based Flooring and Capping"
   ]
  },
  {
   "cell_type": "code",
   "execution_count": 27,
   "metadata": {
    "id": "HoK3tU1hTFGq",
    "outputId": "99c2c7b7-9843-428a-84f2-757a7fff162d",
    "scrolled": true
   },
   "outputs": [
    {
     "name": "stdout",
     "output_type": "stream",
     "text": [
      "52034.0\n",
      "94557.0\n"
     ]
    }
   ],
   "source": [
    "print(df['Income'].quantile(0.5))\n",
    "print(df['Income'].quantile(0.99))"
   ]
  },
  {
   "cell_type": "code",
   "execution_count": 28,
   "metadata": {
    "id": "TE0PjykiTFGq",
    "outputId": "9fa6283b-b68c-4d38-95c9-b3584557e5cd",
    "scrolled": true
   },
   "outputs": [
    {
     "name": "stdout",
     "output_type": "stream",
     "text": [
      "1.1653097906825942\n"
     ]
    },
    {
     "data": {
      "text/plain": [
       "<matplotlib.axes._subplots.AxesSubplot at 0x7fa4ed7a4970>"
      ]
     },
     "execution_count": 28,
     "metadata": {},
     "output_type": "execute_result"
    },
    {
     "data": {
      "image/png": "[encoded data removed]",
      "text/plain": [
       "<Figure size 432x288 with 1 Axes>"
      ]
     },
     "metadata": {
      "needs_background": "light"
     },
     "output_type": "display_data"
    }
   ],
   "source": [
    "# Now we will remove the outliers of 'Income' and calculate the skewness value again\n",
    "df[\"Income\"] = np.where(df[\"Income\"] <df['Income'].quantile(0.5), df['Income'].quantile(0.5),df['Income'])\n",
    "df[\"Income\"] = np.where(df[\"Income\"] >df['Income'].quantile(0.99), df['Income'].quantile(0.99),df['Income'])\n",
    "print(df['Income'].skew())\n",
    "df.Income.hist()"
   ]
  },
  {
   "cell_type": "code",
   "execution_count": 29,
   "metadata": {
    "id": "rTvf5woWTFGq",
    "outputId": "ed45ef90-0772-45f7-94d9-b822ac330c46",
    "scrolled": true
   },
   "outputs": [
    {
     "name": "stdout",
     "output_type": "stream",
     "text": [
      "7.0\n",
      "923.0\n"
     ]
    }
   ],
   "source": [
    "#Outlier treatment for \"MntMeatProducts\"\n",
    "print(df['MntMeatProducts'].quantile(0.1))\n",
    "print(df['MntMeatProducts'].quantile(0.99))"
   ]
  },
  {
   "cell_type": "code",
   "execution_count": 30,
   "metadata": {
    "id": "h9OnCk2yTFGr"
   },
   "outputs": [],
   "source": [
    "df[\"MntMeatProducts\"] = np.where(df[\"MntMeatProducts\"] <df['MntMeatProducts'].quantile(0.1), df['MntMeatProducts'].quantile(0.1),df['MntMeatProducts'])\n",
    "df[\"MntMeatProducts\"] = np.where(df[\"MntMeatProducts\"] >df['MntMeatProducts'].quantile(0.99), df['MntMeatProducts'].quantile(0.99),df['MntMeatProducts'])"
   ]
  },
  {
   "cell_type": "code",
   "execution_count": 31,
   "metadata": {
    "id": "soCc6bS7TFGr",
    "outputId": "45bdf864-8440-4566-d5a1-e17be212c63c"
   },
   "outputs": [
    {
     "name": "stdout",
     "output_type": "stream",
     "text": [
      "1.7238773596047992\n"
     ]
    },
    {
     "data": {
      "text/plain": [
       "<matplotlib.axes._subplots.AxesSubplot at 0x7fa4eded58b0>"
      ]
     },
     "execution_count": 31,
     "metadata": {},
     "output_type": "execute_result"
    },
    {
     "data": {
      "image/png": "[encoded data removed]",
      "text/plain": [
       "<Figure size 432x288 with 1 Axes>"
      ]
     },
     "metadata": {
      "needs_background": "light"
     },
     "output_type": "display_data"
    }
   ],
   "source": [
    "#After treatment SKewness and distribution of data points through histogram.\n",
    "print(df['MntMeatProducts'].skew())\n",
    "df.MntMeatProducts.hist()"
   ]
  },
  {
   "cell_type": "code",
   "execution_count": 32,
   "metadata": {
    "id": "SvJACQ9bTFGr",
    "outputId": "3f95f69c-6eb6-418d-d708-0c50ae9bc350"
   },
   "outputs": [
    {
     "name": "stdout",
     "output_type": "stream",
     "text": [
      "0.0\n",
      "11.0\n"
     ]
    }
   ],
   "source": [
    "#Outlier treatment for \"NumWebPurchases\"\n",
    "print(df['NumWebPurchases'].quantile(0.01))\n",
    "print(df['NumWebPurchases'].quantile(0.99))"
   ]
  },
  {
   "cell_type": "code",
   "execution_count": 33,
   "metadata": {
    "id": "mfAXt_79TFGr"
   },
   "outputs": [],
   "source": [
    "df[\"NumWebPurchases\"] = np.where(df[\"NumWebPurchases\"] <df['NumWebPurchases'].quantile(0.01), df['NumWebPurchases'].quantile(0.01),df['NumWebPurchases'])\n",
    "df[\"NumWebPurchases\"] = np.where(df[\"NumWebPurchases\"] >df['NumWebPurchases'].quantile(0.99), df['NumWebPurchases'].quantile(0.99),df['NumWebPurchases'])"
   ]
  },
  {
   "cell_type": "code",
   "execution_count": 34,
   "metadata": {
    "id": "gqxDYB6PTFGs",
    "outputId": "ddedfe9e-3c73-4e48-98ea-79c196e697ad"
   },
   "outputs": [
    {
     "name": "stdout",
     "output_type": "stream",
     "text": [
      "0.70144368248077\n"
     ]
    },
    {
     "data": {
      "text/plain": [
       "<matplotlib.axes._subplots.AxesSubplot at 0x7fa4e74f8850>"
      ]
     },
     "execution_count": 34,
     "metadata": {},
     "output_type": "execute_result"
    },
    {
     "data": {
      "image/png": "[encoded data removed]",
      "text/plain": [
       "<Figure size 432x288 with 1 Axes>"
      ]
     },
     "metadata": {
      "needs_background": "light"
     },
     "output_type": "display_data"
    }
   ],
   "source": [
    "#After treatment SKewness and distribution of data points through histogram.\n",
    "print(df['NumWebPurchases'].skew())\n",
    "df.NumWebPurchases.hist()"
   ]
  },
  {
   "cell_type": "code",
   "execution_count": 35,
   "metadata": {
    "id": "7LYX9qWiTFGs",
    "outputId": "97d23a7e-f60b-4e0b-9300-4ded238a6fc1"
   },
   "outputs": [
    {
     "name": "stdout",
     "output_type": "stream",
     "text": [
      "0.0\n",
      "11.0\n"
     ]
    }
   ],
   "source": [
    "print(df['NumCatalogPurchases'].quantile(0.01))\n",
    "print(df['NumCatalogPurchases'].quantile(0.99))"
   ]
  },
  {
   "cell_type": "code",
   "execution_count": 36,
   "metadata": {
    "id": "BlQOHvL-TFGt"
   },
   "outputs": [],
   "source": [
    "df[\"NumCatalogPurchases\"] = np.where(df[\"NumCatalogPurchases\"] <df['NumCatalogPurchases'].quantile(0.01), df['NumCatalogPurchases'].quantile(0.01),df['NumCatalogPurchases'])\n",
    "df[\"NumCatalogPurchases\"] = np.where(df[\"NumCatalogPurchases\"] >df['NumCatalogPurchases'].quantile(0.99), df['NumCatalogPurchases'].quantile(0.99),df['NumCatalogPurchases'])"
   ]
  },
  {
   "cell_type": "code",
   "execution_count": 37,
   "metadata": {
    "id": "Fqx91Ce1TFGt",
    "outputId": "ba931ba4-75fc-4e0f-f88b-78a8c131c039"
   },
   "outputs": [
    {
     "name": "stdout",
     "output_type": "stream",
     "text": [
      "1.1344367713369197\n"
     ]
    },
    {
     "data": {
      "text/plain": [
       "<matplotlib.axes._subplots.AxesSubplot at 0x7fa4ede319a0>"
      ]
     },
     "execution_count": 37,
     "metadata": {},
     "output_type": "execute_result"
    },
    {
     "data": {
      "image/png": "[encoded data removed]",
      "text/plain": [
       "<Figure size 432x288 with 1 Axes>"
      ]
     },
     "metadata": {
      "needs_background": "light"
     },
     "output_type": "display_data"
    }
   ],
   "source": [
    "print(df['NumCatalogPurchases'].skew())\n",
    "df.NumCatalogPurchases.hist()"
   ]
  },
  {
   "cell_type": "code",
   "execution_count": 38,
   "metadata": {
    "id": "NnBd0w_iTFGt",
    "outputId": "e3848b76-4bb6-4665-9f81-5a5a43d29395"
   },
   "outputs": [
    {
     "name": "stdout",
     "output_type": "stream",
     "text": [
      "1.0\n",
      "9.0\n"
     ]
    }
   ],
   "source": [
    "print(df['NumWebVisitsMonth'].quantile(0.01))\n",
    "print(df['NumWebVisitsMonth'].quantile(0.99))"
   ]
  },
  {
   "cell_type": "code",
   "execution_count": 39,
   "metadata": {
    "id": "HFIyEHWCTFGu"
   },
   "outputs": [],
   "source": [
    "df[\"NumWebVisitsMonth\"] = np.where(df[\"NumWebVisitsMonth\"] <df['NumWebVisitsMonth'].quantile(0.01),df['NumWebVisitsMonth'].quantile(0.01),df['NumWebVisitsMonth'])\n",
    "df[\"NumWebVisitsMonth\"] = np.where(df[\"NumWebVisitsMonth\"] >df['NumWebVisitsMonth'].quantile(0.99), df['NumWebVisitsMonth'].quantile(0.99),df['NumWebVisitsMonth'])"
   ]
  },
  {
   "cell_type": "code",
   "execution_count": 40,
   "metadata": {
    "id": "WALe2j2cTFGu",
    "outputId": "bd5473e1-4807-4647-e7b9-7858319a4d21"
   },
   "outputs": [
    {
     "name": "stdout",
     "output_type": "stream",
     "text": [
      "-0.3320145683081151\n"
     ]
    },
    {
     "data": {
      "text/plain": [
       "<matplotlib.axes._subplots.AxesSubplot at 0x7fa4eb3e0490>"
      ]
     },
     "execution_count": 40,
     "metadata": {},
     "output_type": "execute_result"
    },
    {
     "data": {
      "image/png": "[encoded data removed]",
      "text/plain": [
       "<Figure size 432x288 with 1 Axes>"
      ]
     },
     "metadata": {
      "needs_background": "light"
     },
     "output_type": "display_data"
    }
   ],
   "source": [
    "print(df['NumWebVisitsMonth'].skew())\n",
    "df.NumWebVisitsMonth.hist()"
   ]
  },
  {
   "cell_type": "markdown",
   "metadata": {
    "id": "6udF5nJ_TFGu"
   },
   "source": [
    "#### Explanation:\n",
    "So, after the outlier treatment the number of rows are same as before."
   ]
  },
  {
   "cell_type": "code",
   "execution_count": 41,
   "metadata": {
    "id": "F9VSr3fuTFGu",
    "outputId": "fccadee6-fc29-4b62-f654-204edff647b5",
    "scrolled": true
   },
   "outputs": [
    {
     "data": {
      "text/plain": [
       "(2051, 21)"
      ]
     },
     "execution_count": 41,
     "metadata": {},
     "output_type": "execute_result"
    }
   ],
   "source": [
    "df.shape"
   ]
  },
  {
   "cell_type": "markdown",
   "metadata": {},
   "source": [
    "### Correlation Matrix after Outlier Treatment"
   ]
  },
  {
   "cell_type": "code",
   "execution_count": 42,
   "metadata": {},
   "outputs": [
    {
     "data": {
      "image/png": "[encoded data removed]",
      "text/plain": [
       "<Figure size 1440x1440 with 2 Axes>"
      ]
     },
     "metadata": {
      "needs_background": "light"
     },
     "output_type": "display_data"
    }
   ],
   "source": [
    "df_after = df.iloc[:,:29]\n",
    "correlation_mat = df_after.corr()\n",
    "fig, ax = plt.subplots(figsize=(20,20))\n",
    "sns.heatmap(correlation_mat, annot = True, linewidths=.5)\n",
    "plt.show()"
   ]
  },
  {
   "cell_type": "markdown",
   "metadata": {
    "id": "3oi2GzVyTFGv"
   },
   "source": [
    "### Understanding columns of dataset\n",
    "Listed unique values in the column 'Marital_Status', to understand the types of it. \n"
   ]
  },
  {
   "cell_type": "code",
   "execution_count": 43,
   "metadata": {
    "id": "zjpE8RchTFGv",
    "outputId": "6b3ae4aa-d01e-42ad-837e-6efe01b19eb9"
   },
   "outputs": [
    {
     "data": {
      "text/plain": [
       "array(['Single', 'Together', 'Married', 'Divorced', 'Widow', 'Alone',\n",
       "       'Absurd', 'YOLO'], dtype=object)"
      ]
     },
     "execution_count": 43,
     "metadata": {},
     "output_type": "execute_result"
    }
   ],
   "source": [
    "df.Marital_Status.unique()"
   ]
  },
  {
   "cell_type": "markdown",
   "metadata": {
    "id": "3Vq1jUUQTFGv"
   },
   "source": [
    "From Business perspective, accepted Marital Status coule be single, married, together(not married), divorced, and widow. \n",
    "Apart from these marital status, the rest 'Alone', 'YOLO', 'Absurd' can be considered as 'Single'. \n",
    "\n",
    "So replacing the data cells which have 'Alone', 'YOLO', 'Absurd' with 'Single'."
   ]
  },
  {
   "cell_type": "code",
   "execution_count": 44,
   "metadata": {
    "id": "3psIS4vyTFGv"
   },
   "outputs": [],
   "source": [
    "df['Marital_Status'] = df['Marital_Status'].replace(['Absurd','YOLO','Alone'],['Single','Single','Single'])"
   ]
  },
  {
   "cell_type": "code",
   "execution_count": 45,
   "metadata": {
    "id": "B2b2bMuKTFGw",
    "outputId": "83925fe8-1512-46a7-c91f-005f8bff0d67"
   },
   "outputs": [
    {
     "data": {
      "text/plain": [
       "array(['Single', 'Together', 'Married', 'Divorced', 'Widow'], dtype=object)"
      ]
     },
     "execution_count": 45,
     "metadata": {},
     "output_type": "execute_result"
    }
   ],
   "source": [
    "df.Marital_Status.unique()"
   ]
  },
  {
   "cell_type": "markdown",
   "metadata": {
    "id": "bRbXgAgeTFGw"
   },
   "source": [
    "Now, to understand the types of Education that respondents have in the dataset, listed unique values in the 'Education' column"
   ]
  },
  {
   "cell_type": "code",
   "execution_count": 46,
   "metadata": {
    "id": "d9zDUygNTFGw",
    "outputId": "5d4b7306-86ff-4fb7-e5c1-e7c33e264e92"
   },
   "outputs": [
    {
     "data": {
      "text/plain": [
       "array(['Graduation', 'PhD', 'Master', 'Basic', '2n Cycle'], dtype=object)"
      ]
     },
     "execution_count": 46,
     "metadata": {},
     "output_type": "execute_result"
    }
   ],
   "source": [
    "df.Education.unique()"
   ]
  },
  {
   "cell_type": "markdown",
   "metadata": {
    "id": "rm0Py_g9TFGx"
   },
   "source": [
    " Education has degree '2n Cycle' and 'Masters' which means the same so we will change that"
   ]
  },
  {
   "cell_type": "code",
   "execution_count": 47,
   "metadata": {
    "id": "Plm4FBKRTFGx",
    "outputId": "3270308f-3dc9-4f55-bc5e-14e0cbb4f98d"
   },
   "outputs": [
    {
     "data": {
      "text/plain": [
       "Index(['2n Cycle', 'Basic', 'Graduation', 'Master', 'PhD'], dtype='object')"
      ]
     },
     "execution_count": 47,
     "metadata": {},
     "output_type": "execute_result"
    }
   ],
   "source": [
    "df['Education'].value_counts().index.sort_values(ascending=True)"
   ]
  },
  {
   "cell_type": "code",
   "execution_count": 48,
   "metadata": {
    "id": "oatxxp84TFGx"
   },
   "outputs": [],
   "source": [
    "df['Education'] = df[\"Education\"].replace('2n Cycle', \"Master\")"
   ]
  },
  {
   "cell_type": "markdown",
   "metadata": {
    "id": "PknnH-95TFGx"
   },
   "source": [
    "# 2. Baseline Model<a id = 'base'></a>"
   ]
  },
  {
   "cell_type": "markdown",
   "metadata": {},
   "source": [
    "### Explanation\n",
    "Here we'll run a baseline model without feature engineering to get an idea of the predictive power of some models. We decided to use a variety of models to compare and contrast. The models are Logistic Regression, Support Vector Machines, Stoachasic Gradient Descent, K-nearest neighbor Classifer, Decision Trees, Multi-Layer Perception Classifier, and Naive Bayes. We will run them all at the same time and compare the performence metrics of each."
   ]
  },
  {
   "cell_type": "code",
   "execution_count": 49,
   "metadata": {
    "id": "jAKx9v_jTFGy"
   },
   "outputs": [],
   "source": [
    "# specify attributes and target column\n",
    "predictors = ['Year_Birth','Education','Income','Kidhome','Teenhome','Recency','MntWines','MntFruits','MntMeatProducts',\n",
    "              'MntFishProducts','MntSweetProducts','MntGoldProds','NumDealsPurchases',\n",
    "              'NumCatalogPurchases','NumStorePurchases','NumWebVisitsMonth','Complain']\n",
    "outcome = 'Customer_Response'"
   ]
  },
  {
   "cell_type": "code",
   "execution_count": 50,
   "metadata": {
    "id": "3SIBoFy3TFGy"
   },
   "outputs": [],
   "source": [
    "X = pd.get_dummies(df[predictors], drop_first=True)\n",
    "y = df[outcome]"
   ]
  },
  {
   "cell_type": "code",
   "execution_count": 51,
   "metadata": {},
   "outputs": [],
   "source": [
    "# Import all models\n",
    "from sklearn.linear_model import LogisticRegression\n",
    "from sklearn.svm import SVC\n",
    "from sklearn.linear_model import SGDClassifier\n",
    "from sklearn.neighbors import KNeighborsClassifier\n",
    "from sklearn.tree import DecisionTreeClassifier\n",
    "from sklearn.neural_network import MLPClassifier\n",
    "from sklearn.naive_bayes import GaussianNB\n",
    "\n",
    "# List all the models to be fitted\n",
    "models_store = [LogisticRegression(random_state=0, max_iter=1000),\n",
    "                SVC(gamma='auto'),\n",
    "                SGDClassifier(max_iter=1000, tol=1e-3),\n",
    "                KNeighborsClassifier(n_neighbors=3),\n",
    "                DecisionTreeClassifier(random_state=0),\n",
    "                MLPClassifier(random_state=1, max_iter=1000),\n",
    "                GaussianNB()]\n",
    "\n",
    "# String values of the models\n",
    "models_names = ['LogisticRegression', \n",
    "                'SVC', \n",
    "                'SGD', \n",
    "                'KNNClassifer', \n",
    "                'DecisionTree', \n",
    "                'MLPClassifer',\n",
    "                'GaussianNB']"
   ]
  },
  {
   "cell_type": "code",
   "execution_count": 52,
   "metadata": {},
   "outputs": [
    {
     "name": "stderr",
     "output_type": "stream",
     "text": [
      "/Applications/anaconda3/lib/python3.8/site-packages/sklearn/metrics/_classification.py:1221: UndefinedMetricWarning: Precision is ill-defined and being set to 0.0 due to no predicted samples. Use `zero_division` parameter to control this behavior.\n",
      "  _warn_prf(average, modifier, msg_start, len(result))\n",
      "/Applications/anaconda3/lib/python3.8/site-packages/sklearn/metrics/_classification.py:1221: UndefinedMetricWarning: Precision is ill-defined and being set to 0.0 due to no predicted samples. Use `zero_division` parameter to control this behavior.\n",
      "  _warn_prf(average, modifier, msg_start, len(result))\n",
      "/Applications/anaconda3/lib/python3.8/site-packages/sklearn/metrics/_classification.py:1221: UndefinedMetricWarning: Precision is ill-defined and being set to 0.0 due to no predicted samples. Use `zero_division` parameter to control this behavior.\n",
      "  _warn_prf(average, modifier, msg_start, len(result))\n"
     ]
    },
    {
     "data": {
      "text/html": [
       "<div>\n",
       "<style scoped>\n",
       "    .dataframe tbody tr th:only-of-type {\n",
       "        vertical-align: middle;\n",
       "    }\n",
       "\n",
       "    .dataframe tbody tr th {\n",
       "        vertical-align: top;\n",
       "    }\n",
       "\n",
       "    .dataframe thead th {\n",
       "        text-align: right;\n",
       "    }\n",
       "</style>\n",
       "<table border=\"1\" class=\"dataframe\">\n",
       "  <thead>\n",
       "    <tr style=\"text-align: right;\">\n",
       "      <th></th>\n",
       "      <th>Models</th>\n",
       "      <th>accuracy</th>\n",
       "      <th>precision</th>\n",
       "      <th>recall</th>\n",
       "      <th>f1</th>\n",
       "    </tr>\n",
       "  </thead>\n",
       "  <tbody>\n",
       "    <tr>\n",
       "      <th>0</th>\n",
       "      <td>LogisticRegression</td>\n",
       "      <td>0.78157 +/- 0.0079</td>\n",
       "      <td>0.68212 +/- 0.04645</td>\n",
       "      <td>0.38784 +/- 0.02351</td>\n",
       "      <td>0.49311 +/- 0.00467</td>\n",
       "    </tr>\n",
       "    <tr>\n",
       "      <th>2</th>\n",
       "      <td>SGD</td>\n",
       "      <td>0.73963 +/- 0.04009</td>\n",
       "      <td>0.17361 +/- 0.52083</td>\n",
       "      <td>0.08865 +/- 0.26596</td>\n",
       "      <td>0.11737 +/- 0.35211</td>\n",
       "    </tr>\n",
       "    <tr>\n",
       "      <th>3</th>\n",
       "      <td>KNNClassifer</td>\n",
       "      <td>0.7333 +/- 0.01524</td>\n",
       "      <td>0.51934 +/- 0.03855</td>\n",
       "      <td>0.40918 +/- 0.03053</td>\n",
       "      <td>0.45669 +/- 0.02393</td>\n",
       "    </tr>\n",
       "    <tr>\n",
       "      <th>1</th>\n",
       "      <td>SVC</td>\n",
       "      <td>0.72257 +/- 0.00452</td>\n",
       "      <td>0.3625 +/- 0.6375</td>\n",
       "      <td>0.00533 +/- 0.00181</td>\n",
       "      <td>0.01042 +/- 0.00367</td>\n",
       "    </tr>\n",
       "    <tr>\n",
       "      <th>6</th>\n",
       "      <td>GaussianNB</td>\n",
       "      <td>0.71331 +/- 0.01574</td>\n",
       "      <td>0.48091 +/- 0.02259</td>\n",
       "      <td>0.54977 +/- 0.03179</td>\n",
       "      <td>0.51234 +/- 0.00339</td>\n",
       "    </tr>\n",
       "    <tr>\n",
       "      <th>4</th>\n",
       "      <td>DecisionTree</td>\n",
       "      <td>0.71039 +/- 0.01476</td>\n",
       "      <td>0.47214 +/- 0.02786</td>\n",
       "      <td>0.49107 +/- 0.04794</td>\n",
       "      <td>0.48127 +/- 0.0375</td>\n",
       "    </tr>\n",
       "    <tr>\n",
       "      <th>5</th>\n",
       "      <td>MLPClassifer</td>\n",
       "      <td>0.63877 +/- 0.13122</td>\n",
       "      <td>0.5299 +/- 0.12725</td>\n",
       "      <td>0.46017 +/- 0.51855</td>\n",
       "      <td>0.39884 +/- 0.03925</td>\n",
       "    </tr>\n",
       "  </tbody>\n",
       "</table>\n",
       "</div>"
      ],
      "text/plain": [
       "               Models             accuracy            precision  \\\n",
       "0  LogisticRegression   0.78157 +/- 0.0079  0.68212 +/- 0.04645   \n",
       "2                 SGD  0.73963 +/- 0.04009  0.17361 +/- 0.52083   \n",
       "3        KNNClassifer   0.7333 +/- 0.01524  0.51934 +/- 0.03855   \n",
       "1                 SVC  0.72257 +/- 0.00452    0.3625 +/- 0.6375   \n",
       "6          GaussianNB  0.71331 +/- 0.01574  0.48091 +/- 0.02259   \n",
       "4        DecisionTree  0.71039 +/- 0.01476  0.47214 +/- 0.02786   \n",
       "5        MLPClassifer  0.63877 +/- 0.13122   0.5299 +/- 0.12725   \n",
       "\n",
       "                recall                   f1  \n",
       "0  0.38784 +/- 0.02351  0.49311 +/- 0.00467  \n",
       "2  0.08865 +/- 0.26596  0.11737 +/- 0.35211  \n",
       "3  0.40918 +/- 0.03053  0.45669 +/- 0.02393  \n",
       "1  0.00533 +/- 0.00181  0.01042 +/- 0.00367  \n",
       "6  0.54977 +/- 0.03179  0.51234 +/- 0.00339  \n",
       "4  0.49107 +/- 0.04794   0.48127 +/- 0.0375  \n",
       "5  0.46017 +/- 0.51855  0.39884 +/- 0.03925  "
      ]
     },
     "execution_count": 52,
     "metadata": {},
     "output_type": "execute_result"
    }
   ],
   "source": [
    "from sklearn.model_selection import cross_validate\n",
    "\n",
    "#empty array to hold peformance of all model\n",
    "acc_storage = []\n",
    "prec_storage = []\n",
    "recall_storage = []\n",
    "f1_storage = []\n",
    "\n",
    "#loop through all models and run each one according to the pipeline steps\n",
    "for model in models_store:\n",
    "    \n",
    "    #performance metrics\n",
    "    # get mean of each performance metric during cross validation\n",
    "    scores = cross_validate(model, X, y, cv = 4, scoring = ('accuracy', 'precision', 'recall', 'f1'))\n",
    "    acc_avg_score = scores['test_accuracy'].mean()\n",
    "    prec_avg_score = scores['test_precision'].mean()\n",
    "    recall_avg_score = scores['test_recall'].mean()\n",
    "    f1_avg_score = scores['test_f1'].mean()\n",
    "\n",
    "    # get the ranges\n",
    "    acc_performance = str(round(acc_avg_score,5)) + ' +/- ' + str(round((scores['test_accuracy'].max()-acc_avg_score),5))\n",
    "    prec_performance = str(round(prec_avg_score,5)) + ' +/- ' + str(round((scores['test_precision'].max()-prec_avg_score),5))\n",
    "    recall_performance = str(round(recall_avg_score,5)) + ' +/- ' + str(round((scores['test_recall'].max()-recall_avg_score),5))\n",
    "    f1_performance = str(round(f1_avg_score,5)) + ' +/- ' + str(round((scores['test_f1'].max()-f1_avg_score),5))\n",
    "\n",
    "    acc_storage.append(acc_performance)\n",
    "    prec_storage.append(prec_performance)\n",
    "    recall_storage.append(recall_performance)\n",
    "    f1_storage.append(f1_performance)\n",
    "\n",
    "#display performance \n",
    "df_metric = pd.DataFrame(data = {'Models' : models_names, \n",
    "                                 'accuracy' : acc_storage,\n",
    "                                 'precision' : prec_storage,\n",
    "                                 'recall' : recall_storage,\n",
    "                                 'f1': f1_storage})\n",
    "\n",
    "df_metric.sort_values(by = 'accuracy', ascending = False)"
   ]
  },
  {
   "cell_type": "markdown",
   "metadata": {},
   "source": [
    "\n",
    "#### So far, it looks like logistic regression is the best. "
   ]
  },
  {
   "cell_type": "markdown",
   "metadata": {
    "id": "5TxlLaqATFG3"
   },
   "source": [
    "# 3. Feature engineering<a id = 'fe'></a>"
   ]
  },
  {
   "cell_type": "markdown",
   "metadata": {},
   "source": [
    "This will help improve the performance of our models. It will increase the predictive power of our algorithm"
   ]
  },
  {
   "cell_type": "markdown",
   "metadata": {},
   "source": [
    "### Column Adjustments for ML"
   ]
  },
  {
   "cell_type": "markdown",
   "metadata": {},
   "source": [
    "Reset the indexing of the dataset to avoid any issues when using loops."
   ]
  },
  {
   "cell_type": "code",
   "execution_count": 53,
   "metadata": {},
   "outputs": [],
   "source": [
    "df = df.reset_index(drop = True)"
   ]
  },
  {
   "cell_type": "markdown",
   "metadata": {
    "id": "i3oNA9JfTFG3"
   },
   "source": [
    "Adding age of the customer to better undnerstand the demographics, dropping the Year_Birth col since we now have age"
   ]
  },
  {
   "cell_type": "code",
   "execution_count": 54,
   "metadata": {
    "id": "MCVQQgvyTFG3"
   },
   "outputs": [],
   "source": [
    "df['Age'] = 2021 - df['Year_Birth']\n",
    "\n",
    "df.drop('Year_Birth', axis=1, inplace=True)"
   ]
  },
  {
   "cell_type": "markdown",
   "metadata": {
    "id": "I4i2K-R1TFG4"
   },
   "source": [
    "Dt_Customer represents the date since the customer has been with the company"
   ]
  },
  {
   "cell_type": "code",
   "execution_count": 55,
   "metadata": {
    "id": "F5tmAkQ5TFG4"
   },
   "outputs": [],
   "source": [
    "import datetime as dt\n",
    "\n",
    "# Change Dt_Customer to Num_days_cust\n",
    "# Get todays date\n",
    "df['DateTimeToday'] = dt.datetime.today()\n",
    "\n",
    "# convert date string to DateTime format\n",
    "df['DateTimeConvert'] = pd.to_datetime(df['Dt_Customer'],format='%Y-%m-%d')\n",
    "\n",
    "# Get difference in days\n",
    "df['DateTimeDifference'] = df['DateTimeToday'] - df['DateTimeConvert']\n",
    "\n",
    "# Initialize difference in int column\n",
    "df['DaysCustomer'] = 0\n",
    "\n",
    "# Convert days difference to int\n",
    "for x in range(len(df)):\n",
    "    df.at[x, 'DaysCustomer'] = df['DateTimeDifference'][x].days"
   ]
  },
  {
   "cell_type": "markdown",
   "metadata": {
    "id": "KgppVEjvTFG5"
   },
   "source": [
    "Customer Spending - Sum of all products\n",
    "\n",
    "We should remove all the other cols, since the aggregate spending should be enough. Unless we want to analyse spending on each product "
   ]
  },
  {
   "cell_type": "code",
   "execution_count": 56,
   "metadata": {
    "id": "h29LGGamTFG5"
   },
   "outputs": [],
   "source": [
    "df['Spending']=df['MntWines']+df['MntFruits']+df['MntMeatProducts']+df['MntFishProducts']+df['MntSweetProducts']+df['MntGoldProds']"
   ]
  },
  {
   "cell_type": "markdown",
   "metadata": {
    "id": "7EMRSuk4TFG5"
   },
   "source": [
    "Added a Martial Status to indicate if the person is Alone, Couple or Married"
   ]
  },
  {
   "cell_type": "code",
   "execution_count": 57,
   "metadata": {
    "id": "ROX4NILQTFG5"
   },
   "outputs": [],
   "source": [
    "df['Marital_Status']=df['Marital_Status'].replace({'Divorced':'Alone','Single':'Alone','Married':'In couple','Together':'In couple','Absurd':'Alone','Widow':'Alone'})"
   ]
  },
  {
   "cell_type": "markdown",
   "metadata": {},
   "source": [
    "### Dummy Code"
   ]
  },
  {
   "cell_type": "markdown",
   "metadata": {},
   "source": [
    "### Explanation\n",
    "ML models do not handle categorical data in text form well. We need to transform the categorical columns into multiple true/false columns for the domains in each column."
   ]
  },
  {
   "cell_type": "code",
   "execution_count": 58,
   "metadata": {},
   "outputs": [
    {
     "data": {
      "text/html": [
       "<div>\n",
       "<style scoped>\n",
       "    .dataframe tbody tr th:only-of-type {\n",
       "        vertical-align: middle;\n",
       "    }\n",
       "\n",
       "    .dataframe tbody tr th {\n",
       "        vertical-align: top;\n",
       "    }\n",
       "\n",
       "    .dataframe thead th {\n",
       "        text-align: right;\n",
       "    }\n",
       "</style>\n",
       "<table border=\"1\" class=\"dataframe\">\n",
       "  <thead>\n",
       "    <tr style=\"text-align: right;\">\n",
       "      <th></th>\n",
       "      <th>Income</th>\n",
       "      <th>Kidhome</th>\n",
       "      <th>Teenhome</th>\n",
       "      <th>Dt_Customer</th>\n",
       "      <th>Recency</th>\n",
       "      <th>MntWines</th>\n",
       "      <th>MntFruits</th>\n",
       "      <th>MntMeatProducts</th>\n",
       "      <th>MntFishProducts</th>\n",
       "      <th>MntSweetProducts</th>\n",
       "      <th>...</th>\n",
       "      <th>Age</th>\n",
       "      <th>DateTimeToday</th>\n",
       "      <th>DateTimeConvert</th>\n",
       "      <th>DateTimeDifference</th>\n",
       "      <th>DaysCustomer</th>\n",
       "      <th>Spending</th>\n",
       "      <th>Education_Graduation</th>\n",
       "      <th>Education_Master</th>\n",
       "      <th>Education_PhD</th>\n",
       "      <th>Marital_Status_In couple</th>\n",
       "    </tr>\n",
       "  </thead>\n",
       "  <tbody>\n",
       "    <tr>\n",
       "      <th>0</th>\n",
       "      <td>58138.0</td>\n",
       "      <td>0</td>\n",
       "      <td>0</td>\n",
       "      <td>2012-09-04</td>\n",
       "      <td>58</td>\n",
       "      <td>635</td>\n",
       "      <td>88</td>\n",
       "      <td>546.0</td>\n",
       "      <td>172</td>\n",
       "      <td>88</td>\n",
       "      <td>...</td>\n",
       "      <td>64</td>\n",
       "      <td>2021-05-03 17:40:05.745122</td>\n",
       "      <td>2012-09-04</td>\n",
       "      <td>3163 days 17:40:05.745122</td>\n",
       "      <td>3163</td>\n",
       "      <td>1617.0</td>\n",
       "      <td>1</td>\n",
       "      <td>0</td>\n",
       "      <td>0</td>\n",
       "      <td>0</td>\n",
       "    </tr>\n",
       "    <tr>\n",
       "      <th>1</th>\n",
       "      <td>52034.0</td>\n",
       "      <td>1</td>\n",
       "      <td>1</td>\n",
       "      <td>2014-03-08</td>\n",
       "      <td>38</td>\n",
       "      <td>11</td>\n",
       "      <td>1</td>\n",
       "      <td>7.0</td>\n",
       "      <td>2</td>\n",
       "      <td>1</td>\n",
       "      <td>...</td>\n",
       "      <td>67</td>\n",
       "      <td>2021-05-03 17:40:05.745122</td>\n",
       "      <td>2014-03-08</td>\n",
       "      <td>2613 days 17:40:05.745122</td>\n",
       "      <td>2613</td>\n",
       "      <td>28.0</td>\n",
       "      <td>1</td>\n",
       "      <td>0</td>\n",
       "      <td>0</td>\n",
       "      <td>0</td>\n",
       "    </tr>\n",
       "    <tr>\n",
       "      <th>2</th>\n",
       "      <td>71613.0</td>\n",
       "      <td>0</td>\n",
       "      <td>0</td>\n",
       "      <td>2013-08-21</td>\n",
       "      <td>26</td>\n",
       "      <td>426</td>\n",
       "      <td>49</td>\n",
       "      <td>127.0</td>\n",
       "      <td>111</td>\n",
       "      <td>21</td>\n",
       "      <td>...</td>\n",
       "      <td>56</td>\n",
       "      <td>2021-05-03 17:40:05.745122</td>\n",
       "      <td>2013-08-21</td>\n",
       "      <td>2812 days 17:40:05.745122</td>\n",
       "      <td>2812</td>\n",
       "      <td>776.0</td>\n",
       "      <td>1</td>\n",
       "      <td>0</td>\n",
       "      <td>0</td>\n",
       "      <td>1</td>\n",
       "    </tr>\n",
       "    <tr>\n",
       "      <th>3</th>\n",
       "      <td>52034.0</td>\n",
       "      <td>1</td>\n",
       "      <td>0</td>\n",
       "      <td>2014-02-10</td>\n",
       "      <td>26</td>\n",
       "      <td>11</td>\n",
       "      <td>4</td>\n",
       "      <td>20.0</td>\n",
       "      <td>10</td>\n",
       "      <td>3</td>\n",
       "      <td>...</td>\n",
       "      <td>37</td>\n",
       "      <td>2021-05-03 17:40:05.745122</td>\n",
       "      <td>2014-02-10</td>\n",
       "      <td>2639 days 17:40:05.745122</td>\n",
       "      <td>2639</td>\n",
       "      <td>53.0</td>\n",
       "      <td>1</td>\n",
       "      <td>0</td>\n",
       "      <td>0</td>\n",
       "      <td>1</td>\n",
       "    </tr>\n",
       "    <tr>\n",
       "      <th>4</th>\n",
       "      <td>58293.0</td>\n",
       "      <td>1</td>\n",
       "      <td>0</td>\n",
       "      <td>2014-01-19</td>\n",
       "      <td>94</td>\n",
       "      <td>173</td>\n",
       "      <td>43</td>\n",
       "      <td>118.0</td>\n",
       "      <td>46</td>\n",
       "      <td>27</td>\n",
       "      <td>...</td>\n",
       "      <td>40</td>\n",
       "      <td>2021-05-03 17:40:05.745122</td>\n",
       "      <td>2014-01-19</td>\n",
       "      <td>2661 days 17:40:05.745122</td>\n",
       "      <td>2661</td>\n",
       "      <td>422.0</td>\n",
       "      <td>0</td>\n",
       "      <td>0</td>\n",
       "      <td>1</td>\n",
       "      <td>1</td>\n",
       "    </tr>\n",
       "  </tbody>\n",
       "</table>\n",
       "<p>5 rows × 28 columns</p>\n",
       "</div>"
      ],
      "text/plain": [
       "    Income  Kidhome  Teenhome Dt_Customer  Recency  MntWines  MntFruits  \\\n",
       "0  58138.0        0         0  2012-09-04       58       635         88   \n",
       "1  52034.0        1         1  2014-03-08       38        11          1   \n",
       "2  71613.0        0         0  2013-08-21       26       426         49   \n",
       "3  52034.0        1         0  2014-02-10       26        11          4   \n",
       "4  58293.0        1         0  2014-01-19       94       173         43   \n",
       "\n",
       "   MntMeatProducts  MntFishProducts  MntSweetProducts  ...  Age  \\\n",
       "0            546.0              172                88  ...   64   \n",
       "1              7.0                2                 1  ...   67   \n",
       "2            127.0              111                21  ...   56   \n",
       "3             20.0               10                 3  ...   37   \n",
       "4            118.0               46                27  ...   40   \n",
       "\n",
       "               DateTimeToday  DateTimeConvert        DateTimeDifference  \\\n",
       "0 2021-05-03 17:40:05.745122       2012-09-04 3163 days 17:40:05.745122   \n",
       "1 2021-05-03 17:40:05.745122       2014-03-08 2613 days 17:40:05.745122   \n",
       "2 2021-05-03 17:40:05.745122       2013-08-21 2812 days 17:40:05.745122   \n",
       "3 2021-05-03 17:40:05.745122       2014-02-10 2639 days 17:40:05.745122   \n",
       "4 2021-05-03 17:40:05.745122       2014-01-19 2661 days 17:40:05.745122   \n",
       "\n",
       "   DaysCustomer  Spending  Education_Graduation  Education_Master  \\\n",
       "0          3163    1617.0                     1                 0   \n",
       "1          2613      28.0                     1                 0   \n",
       "2          2812     776.0                     1                 0   \n",
       "3          2639      53.0                     1                 0   \n",
       "4          2661     422.0                     0                 0   \n",
       "\n",
       "   Education_PhD Marital_Status_In couple  \n",
       "0              0                        0  \n",
       "1              0                        0  \n",
       "2              0                        1  \n",
       "3              0                        1  \n",
       "4              1                        1  \n",
       "\n",
       "[5 rows x 28 columns]"
      ]
     },
     "execution_count": 58,
     "metadata": {},
     "output_type": "execute_result"
    }
   ],
   "source": [
    "# dummy code\n",
    "df_dummied = pd.get_dummies(df, columns=['Education', 'Marital_Status'], prefix_sep='_', drop_first=True)\n",
    "df_dummied.head(5)"
   ]
  },
  {
   "cell_type": "markdown",
   "metadata": {},
   "source": [
    "### Standard Scale"
   ]
  },
  {
   "cell_type": "markdown",
   "metadata": {},
   "source": [
    "Sometimes large values or small values in numerical data can have exponential effects on the outcome. We can normalize the numerical columns to overcome them."
   ]
  },
  {
   "cell_type": "code",
   "execution_count": 59,
   "metadata": {
    "id": "49OqT-3nTFG6"
   },
   "outputs": [],
   "source": [
    "from sklearn import preprocessing\n",
    "\n",
    "# Specify columns, exclude categorical and target variable\n",
    "df_numerical = df_dummied[['Income',\n",
    "       'Recency', 'MntWines', 'MntFruits', 'MntMeatProducts',\n",
    "       'MntFishProducts', 'MntSweetProducts', 'MntGoldProds',\n",
    "       'NumDealsPurchases', 'NumWebPurchases', 'NumCatalogPurchases',\n",
    "       'NumStorePurchases', 'NumWebVisitsMonth', 'Complain',\n",
    "       'Age', 'DaysCustomer', 'Spending']]\n",
    "\n",
    "# Column names\n",
    "names = df_numerical.columns\n",
    "\n",
    "# Initialize scaler\n",
    "scaler = preprocessing.StandardScaler()\n",
    "\n",
    "# Fit data\n",
    "scaled_num_df = scaler.fit_transform(df_numerical)\n",
    "scaled_num_df = pd.DataFrame(scaled_num_df, columns=names)"
   ]
  },
  {
   "cell_type": "code",
   "execution_count": 60,
   "metadata": {},
   "outputs": [],
   "source": [
    "# add back in categorical and target variables\n",
    "\n",
    "df_add = df_dummied[['Kidhome', 'Teenhome', 'Customer_Response',\n",
    "       'Education_Graduation', 'Education_Master', 'Education_PhD',\n",
    "       'Marital_Status_In couple']]\n",
    "\n",
    "df_scaled = pd.concat([scaled_num_df, df_add], axis=1)"
   ]
  },
  {
   "cell_type": "markdown",
   "metadata": {},
   "source": [
    "### Add Cluster Column"
   ]
  },
  {
   "cell_type": "markdown",
   "metadata": {},
   "source": [
    "We want to try to incorporate unsupervised machine learning into our supervised machine learning problem. We can use clustering to create a new column and predicts the cluster of customers who have similar behaviour. This will be additional information in our end supervised machine learning models. "
   ]
  },
  {
   "cell_type": "code",
   "execution_count": 61,
   "metadata": {},
   "outputs": [],
   "source": [
    "# add clustering column\n",
    "# remove target label\n",
    "df_for_cluster = df_scaled[['Income', 'Recency', 'MntWines', 'MntFruits', 'MntMeatProducts',\n",
    "       'MntFishProducts', 'MntSweetProducts', 'MntGoldProds',\n",
    "       'NumDealsPurchases', 'NumWebPurchases', 'NumCatalogPurchases',\n",
    "       'NumStorePurchases', 'NumWebVisitsMonth', 'Complain', 'Age',\n",
    "       'DaysCustomer', 'Spending', 'Kidhome', 'Teenhome',\n",
    "       'Education_Graduation', 'Education_Master', 'Education_PhD',\n",
    "       'Marital_Status_In couple']]"
   ]
  },
  {
   "cell_type": "code",
   "execution_count": 69,
   "metadata": {},
   "outputs": [
    {
     "name": "stdout",
     "output_type": "stream",
     "text": [
      "Init: initializing centroids\n",
      "Init: initializing clusters\n",
      "Starting iterations...\n",
      "Run 1, iteration: 1/100, moves: 89, cost: 31070.0\n",
      "Run 1, iteration: 2/100, moves: 5, cost: 31070.0\n",
      "Init: initializing centroids\n",
      "Init: initializing clusters\n",
      "Starting iterations...\n",
      "Run 1, iteration: 1/100, moves: 235, cost: 30445.0\n",
      "Run 1, iteration: 2/100, moves: 10, cost: 30445.0\n",
      "Init: initializing centroids\n",
      "Init: initializing clusters\n",
      "Starting iterations...\n",
      "Run 1, iteration: 1/100, moves: 339, cost: 29729.0\n",
      "Run 1, iteration: 2/100, moves: 17, cost: 29729.0\n"
     ]
    },
    {
     "name": "stderr",
     "output_type": "stream",
     "text": [
      "/Users/shivani/.local/lib/python3.8/site-packages/yellowbrick/utils/kneed.py:155: YellowbrickWarning: No 'knee' or 'elbow point' detected This could be due to bad clustering, no actual clusters being formed etc.\n",
      "  warnings.warn(warning_message, YellowbrickWarning)\n",
      "/Users/shivani/.local/lib/python3.8/site-packages/yellowbrick/cluster/elbow.py:343: YellowbrickWarning: No 'knee' or 'elbow' point detected, pass `locate_elbow=False` to remove the warning\n",
      "  warnings.warn(warning_message, YellowbrickWarning)\n"
     ]
    },
    {
     "data": {
      "image/png": "[encoded data removed]",
      "text/plain": [
       "<Figure size 576x396 with 2 Axes>"
      ]
     },
     "metadata": {},
     "output_type": "display_data"
    },
    {
     "data": {
      "text/plain": [
       "<matplotlib.axes._subplots.AxesSubplot at 0x7fa4ec654fa0>"
      ]
     },
     "execution_count": 69,
     "metadata": {},
     "output_type": "execute_result"
    }
   ],
   "source": [
    "# Elbow Method for K modes to select optimal number of clusters\n",
    "from yellowbrick.cluster import KElbowVisualizer\n",
    "from kmodes.kmodes import KModes\n",
    "\n",
    "model = KModes( init = 'Cao', n_init = 1, verbose=1)\n",
    "# k is range of number of clusters.\n",
    "visualizer = KElbowVisualizer(model, k=(2,5), timings= True)\n",
    "visualizer.fit(df_for_cluster)        # Fit data to visualizer\n",
    "visualizer.show()        # Finalize and render figure"
   ]
  },
  {
   "cell_type": "code",
   "execution_count": 70,
   "metadata": {},
   "outputs": [
    {
     "name": "stdout",
     "output_type": "stream",
     "text": [
      "Init: initializing centroids\n",
      "Init: initializing clusters\n",
      "Starting iterations...\n",
      "Run 1, iteration: 1/100, moves: 182, cost: 31103.0\n",
      "Run 1, iteration: 2/100, moves: 87, cost: 31074.0\n",
      "Run 1, iteration: 3/100, moves: 7, cost: 31074.0\n"
     ]
    },
    {
     "data": {
      "text/html": [
       "<div>\n",
       "<style scoped>\n",
       "    .dataframe tbody tr th:only-of-type {\n",
       "        vertical-align: middle;\n",
       "    }\n",
       "\n",
       "    .dataframe tbody tr th {\n",
       "        vertical-align: top;\n",
       "    }\n",
       "\n",
       "    .dataframe thead th {\n",
       "        text-align: right;\n",
       "    }\n",
       "</style>\n",
       "<table border=\"1\" class=\"dataframe\">\n",
       "  <thead>\n",
       "    <tr style=\"text-align: right;\">\n",
       "      <th></th>\n",
       "      <th>Income</th>\n",
       "      <th>Recency</th>\n",
       "      <th>MntWines</th>\n",
       "      <th>MntFruits</th>\n",
       "      <th>MntMeatProducts</th>\n",
       "      <th>MntFishProducts</th>\n",
       "      <th>MntSweetProducts</th>\n",
       "      <th>MntGoldProds</th>\n",
       "      <th>NumDealsPurchases</th>\n",
       "      <th>NumWebPurchases</th>\n",
       "      <th>NumCatalogPurchases</th>\n",
       "      <th>NumStorePurchases</th>\n",
       "      <th>NumWebVisitsMonth</th>\n",
       "      <th>Complain</th>\n",
       "      <th>Age</th>\n",
       "      <th>DaysCustomer</th>\n",
       "      <th>Spending</th>\n",
       "      <th>Kidhome</th>\n",
       "      <th>Teenhome</th>\n",
       "      <th>Customer_Response</th>\n",
       "      <th>Education_Graduation</th>\n",
       "      <th>Education_Master</th>\n",
       "      <th>Education_PhD</th>\n",
       "      <th>Marital_Status_In couple</th>\n",
       "    </tr>\n",
       "  </thead>\n",
       "  <tbody>\n",
       "    <tr>\n",
       "      <th>0</th>\n",
       "      <td>-0.736286</td>\n",
       "      <td>0.242337</td>\n",
       "      <td>-0.887737</td>\n",
       "      <td>-0.660081</td>\n",
       "      <td>-0.729027</td>\n",
       "      <td>-0.683431</td>\n",
       "      <td>-0.651939</td>\n",
       "      <td>-0.822115</td>\n",
       "      <td>-0.689573</td>\n",
       "      <td>-0.781083</td>\n",
       "      <td>-0.951271</td>\n",
       "      <td>-0.854952</td>\n",
       "      <td>0.310237</td>\n",
       "      <td>-0.099234</td>\n",
       "      <td>-0.601790</td>\n",
       "      <td>-1.507249</td>\n",
       "      <td>-0.974584</td>\n",
       "      <td>0.0</td>\n",
       "      <td>1.0</td>\n",
       "      <td>0.0</td>\n",
       "      <td>1.0</td>\n",
       "      <td>0.0</td>\n",
       "      <td>0.0</td>\n",
       "      <td>1.0</td>\n",
       "    </tr>\n",
       "    <tr>\n",
       "      <th>1</th>\n",
       "      <td>-0.736286</td>\n",
       "      <td>-1.309492</td>\n",
       "      <td>-0.893697</td>\n",
       "      <td>-0.584579</td>\n",
       "      <td>-0.729027</td>\n",
       "      <td>-0.683431</td>\n",
       "      <td>-0.651939</td>\n",
       "      <td>-0.611283</td>\n",
       "      <td>-0.172456</td>\n",
       "      <td>-0.781083</td>\n",
       "      <td>-0.589227</td>\n",
       "      <td>-0.546073</td>\n",
       "      <td>0.745460</td>\n",
       "      <td>-0.099234</td>\n",
       "      <td>-0.518230</td>\n",
       "      <td>-0.536404</td>\n",
       "      <td>-0.909398</td>\n",
       "      <td>1.0</td>\n",
       "      <td>0.0</td>\n",
       "      <td>0.0</td>\n",
       "      <td>0.0</td>\n",
       "      <td>1.0</td>\n",
       "      <td>0.0</td>\n",
       "      <td>0.0</td>\n",
       "    </tr>\n",
       "    <tr>\n",
       "      <th>2</th>\n",
       "      <td>-0.736286</td>\n",
       "      <td>0.897554</td>\n",
       "      <td>-0.896677</td>\n",
       "      <td>-0.660081</td>\n",
       "      <td>-0.729027</td>\n",
       "      <td>-0.646786</td>\n",
       "      <td>-0.627907</td>\n",
       "      <td>-0.707116</td>\n",
       "      <td>-0.689573</td>\n",
       "      <td>-0.403786</td>\n",
       "      <td>-0.589227</td>\n",
       "      <td>-1.163831</td>\n",
       "      <td>0.745460</td>\n",
       "      <td>-0.099234</td>\n",
       "      <td>-0.434669</td>\n",
       "      <td>-1.536969</td>\n",
       "      <td>-0.961212</td>\n",
       "      <td>1.0</td>\n",
       "      <td>0.0</td>\n",
       "      <td>0.0</td>\n",
       "      <td>1.0</td>\n",
       "      <td>0.0</td>\n",
       "      <td>0.0</td>\n",
       "      <td>1.0</td>\n",
       "    </tr>\n",
       "  </tbody>\n",
       "</table>\n",
       "</div>"
      ],
      "text/plain": [
       "     Income   Recency  MntWines  MntFruits  MntMeatProducts  MntFishProducts  \\\n",
       "0 -0.736286  0.242337 -0.887737  -0.660081        -0.729027        -0.683431   \n",
       "1 -0.736286 -1.309492 -0.893697  -0.584579        -0.729027        -0.683431   \n",
       "2 -0.736286  0.897554 -0.896677  -0.660081        -0.729027        -0.646786   \n",
       "\n",
       "   MntSweetProducts  MntGoldProds  NumDealsPurchases  NumWebPurchases  \\\n",
       "0         -0.651939     -0.822115          -0.689573        -0.781083   \n",
       "1         -0.651939     -0.611283          -0.172456        -0.781083   \n",
       "2         -0.627907     -0.707116          -0.689573        -0.403786   \n",
       "\n",
       "   NumCatalogPurchases  NumStorePurchases  NumWebVisitsMonth  Complain  \\\n",
       "0            -0.951271          -0.854952           0.310237 -0.099234   \n",
       "1            -0.589227          -0.546073           0.745460 -0.099234   \n",
       "2            -0.589227          -1.163831           0.745460 -0.099234   \n",
       "\n",
       "        Age  DaysCustomer  Spending  Kidhome  Teenhome  Customer_Response  \\\n",
       "0 -0.601790     -1.507249 -0.974584      0.0       1.0                0.0   \n",
       "1 -0.518230     -0.536404 -0.909398      1.0       0.0                0.0   \n",
       "2 -0.434669     -1.536969 -0.961212      1.0       0.0                0.0   \n",
       "\n",
       "   Education_Graduation  Education_Master  Education_PhD  \\\n",
       "0                   1.0               0.0            0.0   \n",
       "1                   0.0               1.0            0.0   \n",
       "2                   1.0               0.0            0.0   \n",
       "\n",
       "   Marital_Status_In couple  \n",
       "0                       1.0  \n",
       "1                       0.0  \n",
       "2                       1.0  "
      ]
     },
     "execution_count": 70,
     "metadata": {},
     "output_type": "execute_result"
    }
   ],
   "source": [
    "# Take a look at the clusters\n",
    "# K-Modes with optimal number of clusters\n",
    "km_cao = KModes(n_clusters=3, init = 'Cao', n_init = 1, verbose=1)\n",
    "fitClusters_cao = km_cao.fit_predict(df_scaled) # predict cluster\n",
    "\n",
    "clusterCentroidsDf = pd.DataFrame(km_cao.cluster_centroids_)\n",
    "clusterCentroidsDf.columns = df_scaled.columns\n",
    "pd.options.display.max_columns = None\n",
    "\n",
    "clusterCentroidsDf"
   ]
  },
  {
   "cell_type": "code",
   "execution_count": 71,
   "metadata": {},
   "outputs": [],
   "source": [
    "# Combine df and predicted cluter to one df\n",
    "pred_df = df_scaled.reset_index()\n",
    "clustersDf = pd.DataFrame(fitClusters_cao)\n",
    "clustersDf.columns = ['cluster_predicted']\n",
    "combinedDf = pd.concat([pred_df, clustersDf], axis = 1).reset_index()\n",
    "combinedDf = combinedDf.drop(['index', 'level_0'], axis = 1)"
   ]
  },
  {
   "cell_type": "markdown",
   "metadata": {},
   "source": [
    "### Adjust Unbalanced Target Variable Values"
   ]
  },
  {
   "cell_type": "markdown",
   "metadata": {},
   "source": [
    "As we seen in the exploratory data analysis, our target variable is highly skewed and contains mostly 0 values. This will not be enough information to predict the 1 values. We can upscale the 1 values to match the 0 values. Using Synethic Memory Oversampling Technique, we can create more 1 values. This technique does not simply duplicate more 1 values but synethizes them or creates 1 values that are similar to existing 1 values. "
   ]
  },
  {
   "cell_type": "code",
   "execution_count": 72,
   "metadata": {
    "scrolled": true
   },
   "outputs": [
    {
     "data": {
      "text/plain": [
       "Index(['Income', 'Recency', 'MntWines', 'MntFruits', 'MntMeatProducts',\n",
       "       'MntFishProducts', 'MntSweetProducts', 'MntGoldProds',\n",
       "       'NumDealsPurchases', 'NumWebPurchases', 'NumCatalogPurchases',\n",
       "       'NumStorePurchases', 'NumWebVisitsMonth', 'Complain', 'Age',\n",
       "       'DaysCustomer', 'Spending', 'Kidhome', 'Teenhome', 'Customer_Response',\n",
       "       'Education_Graduation', 'Education_Master', 'Education_PhD',\n",
       "       'Marital_Status_In couple', 'cluster_predicted'],\n",
       "      dtype='object')"
      ]
     },
     "execution_count": 72,
     "metadata": {},
     "output_type": "execute_result"
    }
   ],
   "source": [
    "combinedDf.columns"
   ]
  },
  {
   "cell_type": "code",
   "execution_count": 75,
   "metadata": {},
   "outputs": [],
   "source": [
    "# adjust unbalanced dataset using SMOTE\n",
    "from imblearn.over_sampling import SMOTE\n",
    "smt = SMOTE()\n",
    "\n",
    "X_b4_sampling = combinedDf[['Income', 'Recency', 'MntWines', 'MntFruits', 'MntMeatProducts',\n",
    "       'MntFishProducts', 'MntSweetProducts', 'MntGoldProds',\n",
    "       'NumDealsPurchases', 'NumWebPurchases', 'NumCatalogPurchases',\n",
    "       'NumStorePurchases', 'NumWebVisitsMonth', 'Complain', 'Age',\n",
    "       'DaysCustomer', 'Spending', 'Kidhome', 'Teenhome',\n",
    "       'Education_Graduation', 'Education_Master', 'Education_PhD',\n",
    "       'Marital_Status_In couple', 'cluster_predicted']]\n",
    "y_b4_sampling = combinedDf['Customer_Response']\n",
    "\n",
    "X_upsampled, y_upsampled = smt.fit_resample(X_b4_sampling, y_b4_sampling)"
   ]
  },
  {
   "cell_type": "markdown",
   "metadata": {},
   "source": [
    "# 4. Feature Importance"
   ]
  },
  {
   "cell_type": "markdown",
   "metadata": {},
   "source": [
    "A feature importance ranking method we can use is Recursive Feature Elimination where the model is initially run with all the variables. Then an importance coefficient is obtained for each variable. Then the least important features are removed from the model. We can specify how many features we want to keep. Since Logistic Regression was our top performing model, we will use that as the base of RFE.\n"
   ]
  },
  {
   "cell_type": "code",
   "execution_count": 76,
   "metadata": {},
   "outputs": [
    {
     "name": "stderr",
     "output_type": "stream",
     "text": [
      "/Applications/anaconda3/lib/python3.8/site-packages/sklearn/utils/validation.py:68: FutureWarning: Pass n_features_to_select=1 as keyword args. From version 0.25 passing these as positional arguments will result in an error\n",
      "  warnings.warn(\"Pass {} as keyword args. From version 0.25 \"\n"
     ]
    },
    {
     "data": {
      "text/html": [
       "<div>\n",
       "<style scoped>\n",
       "    .dataframe tbody tr th:only-of-type {\n",
       "        vertical-align: middle;\n",
       "    }\n",
       "\n",
       "    .dataframe tbody tr th {\n",
       "        vertical-align: top;\n",
       "    }\n",
       "\n",
       "    .dataframe thead th {\n",
       "        text-align: right;\n",
       "    }\n",
       "</style>\n",
       "<table border=\"1\" class=\"dataframe\">\n",
       "  <thead>\n",
       "    <tr style=\"text-align: right;\">\n",
       "      <th></th>\n",
       "      <th>Variables</th>\n",
       "      <th>Ranking</th>\n",
       "    </tr>\n",
       "  </thead>\n",
       "  <tbody>\n",
       "    <tr>\n",
       "      <th>20</th>\n",
       "      <td>Education_Master</td>\n",
       "      <td>1</td>\n",
       "    </tr>\n",
       "    <tr>\n",
       "      <th>19</th>\n",
       "      <td>Education_Graduation</td>\n",
       "      <td>2</td>\n",
       "    </tr>\n",
       "    <tr>\n",
       "      <th>21</th>\n",
       "      <td>Education_PhD</td>\n",
       "      <td>3</td>\n",
       "    </tr>\n",
       "    <tr>\n",
       "      <th>2</th>\n",
       "      <td>MntWines</td>\n",
       "      <td>4</td>\n",
       "    </tr>\n",
       "    <tr>\n",
       "      <th>18</th>\n",
       "      <td>Teenhome</td>\n",
       "      <td>5</td>\n",
       "    </tr>\n",
       "    <tr>\n",
       "      <th>22</th>\n",
       "      <td>Marital_Status_In couple</td>\n",
       "      <td>6</td>\n",
       "    </tr>\n",
       "    <tr>\n",
       "      <th>11</th>\n",
       "      <td>NumStorePurchases</td>\n",
       "      <td>7</td>\n",
       "    </tr>\n",
       "    <tr>\n",
       "      <th>10</th>\n",
       "      <td>NumCatalogPurchases</td>\n",
       "      <td>8</td>\n",
       "    </tr>\n",
       "    <tr>\n",
       "      <th>12</th>\n",
       "      <td>NumWebVisitsMonth</td>\n",
       "      <td>9</td>\n",
       "    </tr>\n",
       "    <tr>\n",
       "      <th>0</th>\n",
       "      <td>Income</td>\n",
       "      <td>10</td>\n",
       "    </tr>\n",
       "    <tr>\n",
       "      <th>1</th>\n",
       "      <td>Recency</td>\n",
       "      <td>11</td>\n",
       "    </tr>\n",
       "    <tr>\n",
       "      <th>16</th>\n",
       "      <td>Spending</td>\n",
       "      <td>12</td>\n",
       "    </tr>\n",
       "    <tr>\n",
       "      <th>5</th>\n",
       "      <td>MntFishProducts</td>\n",
       "      <td>13</td>\n",
       "    </tr>\n",
       "    <tr>\n",
       "      <th>17</th>\n",
       "      <td>Kidhome</td>\n",
       "      <td>14</td>\n",
       "    </tr>\n",
       "    <tr>\n",
       "      <th>3</th>\n",
       "      <td>MntFruits</td>\n",
       "      <td>15</td>\n",
       "    </tr>\n",
       "    <tr>\n",
       "      <th>15</th>\n",
       "      <td>DaysCustomer</td>\n",
       "      <td>16</td>\n",
       "    </tr>\n",
       "    <tr>\n",
       "      <th>7</th>\n",
       "      <td>MntGoldProds</td>\n",
       "      <td>17</td>\n",
       "    </tr>\n",
       "    <tr>\n",
       "      <th>4</th>\n",
       "      <td>MntMeatProducts</td>\n",
       "      <td>18</td>\n",
       "    </tr>\n",
       "    <tr>\n",
       "      <th>13</th>\n",
       "      <td>Complain</td>\n",
       "      <td>19</td>\n",
       "    </tr>\n",
       "    <tr>\n",
       "      <th>14</th>\n",
       "      <td>Age</td>\n",
       "      <td>20</td>\n",
       "    </tr>\n",
       "    <tr>\n",
       "      <th>23</th>\n",
       "      <td>cluster_predicted</td>\n",
       "      <td>21</td>\n",
       "    </tr>\n",
       "    <tr>\n",
       "      <th>8</th>\n",
       "      <td>NumDealsPurchases</td>\n",
       "      <td>22</td>\n",
       "    </tr>\n",
       "    <tr>\n",
       "      <th>9</th>\n",
       "      <td>NumWebPurchases</td>\n",
       "      <td>23</td>\n",
       "    </tr>\n",
       "    <tr>\n",
       "      <th>6</th>\n",
       "      <td>MntSweetProducts</td>\n",
       "      <td>24</td>\n",
       "    </tr>\n",
       "  </tbody>\n",
       "</table>\n",
       "</div>"
      ],
      "text/plain": [
       "                   Variables  Ranking\n",
       "20          Education_Master        1\n",
       "19      Education_Graduation        2\n",
       "21             Education_PhD        3\n",
       "2                   MntWines        4\n",
       "18                  Teenhome        5\n",
       "22  Marital_Status_In couple        6\n",
       "11         NumStorePurchases        7\n",
       "10       NumCatalogPurchases        8\n",
       "12         NumWebVisitsMonth        9\n",
       "0                     Income       10\n",
       "1                    Recency       11\n",
       "16                  Spending       12\n",
       "5            MntFishProducts       13\n",
       "17                   Kidhome       14\n",
       "3                  MntFruits       15\n",
       "15              DaysCustomer       16\n",
       "7               MntGoldProds       17\n",
       "4            MntMeatProducts       18\n",
       "13                  Complain       19\n",
       "14                       Age       20\n",
       "23         cluster_predicted       21\n",
       "8          NumDealsPurchases       22\n",
       "9            NumWebPurchases       23\n",
       "6           MntSweetProducts       24"
      ]
     },
     "execution_count": 76,
     "metadata": {},
     "output_type": "execute_result"
    }
   ],
   "source": [
    "from sklearn.feature_selection import RFE\n",
    "\n",
    "# the model\n",
    "model = LogisticRegression(max_iter=1000)\n",
    "\n",
    "#run RFE\n",
    "rfe = RFE(model, 1)\n",
    "rfe = rfe.fit(X_upsampled, y_upsampled)\n",
    "\n",
    "#display the ranking of each variable\n",
    "series1 = pd.Series(X_upsampled.columns.values)\n",
    "series2 = pd.Series(rfe.ranking_)\n",
    "\n",
    "rank = pd.DataFrame(data={'Variables': series1, 'Ranking' : series2})\n",
    "rank.sort_values(by='Ranking')\n"
   ]
  },
  {
   "cell_type": "markdown",
   "metadata": {},
   "source": [
    "### Explanation:\n",
    "If we specify that we want to the 20 most important variables, we can see that the following columns are of least importance: NumDealsPurchases, NumWebPurchases, MntSweetProducts, and cluster_predicted."
   ]
  },
  {
   "cell_type": "markdown",
   "metadata": {
    "id": "yUbROrdZTFG7"
   },
   "source": [
    "# 5. Model Building<a id = 'finalmodels'></a>"
   ]
  },
  {
   "cell_type": "markdown",
   "metadata": {},
   "source": [
    " ### Explanation\n",
    " Here we will run the model again with adjustments made through feature engineering. "
   ]
  },
  {
   "cell_type": "code",
   "execution_count": 77,
   "metadata": {},
   "outputs": [],
   "source": [
    "# shuffle data before model\n",
    "\n",
    "# put dataframe back together\n",
    "combinedDf3 = pd.concat([X_upsampled, y_upsampled], axis = 1).reset_index()\n",
    "combinedDf3 = combinedDf3.drop(['index'], axis = 1)\n",
    "\n",
    "# shuffle data \n",
    "df_shuffled = combinedDf3.sample(frac = 1).reset_index()\n",
    "df_shuffled = df_shuffled.drop(['index'], axis = 1)\n",
    "\n",
    "# redefine train and target\n",
    "X2 = df_shuffled[['Income', 'Recency', 'MntWines', 'MntFruits', 'MntMeatProducts',\n",
    "       'MntFishProducts', 'MntSweetProducts', 'MntGoldProds',\n",
    "       'NumDealsPurchases', 'NumWebPurchases', 'NumCatalogPurchases',\n",
    "       'NumStorePurchases', 'NumWebVisitsMonth', 'Complain', 'Age',\n",
    "       'DaysCustomer', 'Spending', 'Kidhome', 'Teenhome',\n",
    "       'Education_Graduation', 'Education_Master', 'Education_PhD',\n",
    "       'Marital_Status_In couple', 'cluster_predicted']]\n",
    "\n",
    "y2 = df_shuffled['Customer_Response']"
   ]
  },
  {
   "cell_type": "code",
   "execution_count": 78,
   "metadata": {},
   "outputs": [
    {
     "name": "stderr",
     "output_type": "stream",
     "text": [
      "/Applications/anaconda3/lib/python3.8/site-packages/sklearn/neural_network/_multilayer_perceptron.py:582: ConvergenceWarning: Stochastic Optimizer: Maximum iterations (1000) reached and the optimization hasn't converged yet.\n",
      "  warnings.warn(\n"
     ]
    },
    {
     "data": {
      "text/html": [
       "<div>\n",
       "<style scoped>\n",
       "    .dataframe tbody tr th:only-of-type {\n",
       "        vertical-align: middle;\n",
       "    }\n",
       "\n",
       "    .dataframe tbody tr th {\n",
       "        vertical-align: top;\n",
       "    }\n",
       "\n",
       "    .dataframe thead th {\n",
       "        text-align: right;\n",
       "    }\n",
       "</style>\n",
       "<table border=\"1\" class=\"dataframe\">\n",
       "  <thead>\n",
       "    <tr style=\"text-align: right;\">\n",
       "      <th></th>\n",
       "      <th>Models</th>\n",
       "      <th>accuracy</th>\n",
       "      <th>precision</th>\n",
       "      <th>recall</th>\n",
       "      <th>f1</th>\n",
       "    </tr>\n",
       "  </thead>\n",
       "  <tbody>\n",
       "    <tr>\n",
       "      <th>5</th>\n",
       "      <td>MLPClassifer</td>\n",
       "      <td>0.84352 +/- 0.01152</td>\n",
       "      <td>0.82802 +/- 0.02088</td>\n",
       "      <td>0.86904 +/- 0.04763</td>\n",
       "      <td>0.8473 +/- 0.00984</td>\n",
       "    </tr>\n",
       "    <tr>\n",
       "      <th>3</th>\n",
       "      <td>KNNClassifer</td>\n",
       "      <td>0.80995 +/- 0.01398</td>\n",
       "      <td>0.75152 +/- 0.02914</td>\n",
       "      <td>0.92813 +/- 0.02348</td>\n",
       "      <td>0.83009 +/- 0.01377</td>\n",
       "    </tr>\n",
       "    <tr>\n",
       "      <th>1</th>\n",
       "      <td>SVC</td>\n",
       "      <td>0.79852 +/- 0.016</td>\n",
       "      <td>0.80264 +/- 0.01156</td>\n",
       "      <td>0.7918 +/- 0.03616</td>\n",
       "      <td>0.79681 +/- 0.02016</td>\n",
       "    </tr>\n",
       "    <tr>\n",
       "      <th>4</th>\n",
       "      <td>DecisionTree</td>\n",
       "      <td>0.78644 +/- 0.01732</td>\n",
       "      <td>0.77081 +/- 0.0188</td>\n",
       "      <td>0.81733 +/- 0.01869</td>\n",
       "      <td>0.79309 +/- 0.0168</td>\n",
       "    </tr>\n",
       "    <tr>\n",
       "      <th>0</th>\n",
       "      <td>LogisticRegression</td>\n",
       "      <td>0.7673 +/- 0.01362</td>\n",
       "      <td>0.79217 +/- 0.03749</td>\n",
       "      <td>0.72666 +/- 0.02065</td>\n",
       "      <td>0.75752 +/- 0.0059</td>\n",
       "    </tr>\n",
       "    <tr>\n",
       "      <th>2</th>\n",
       "      <td>SGD</td>\n",
       "      <td>0.70348 +/- 0.02001</td>\n",
       "      <td>0.71353 +/- 0.0992</td>\n",
       "      <td>0.72138 +/- 0.15765</td>\n",
       "      <td>0.70676 +/- 0.01829</td>\n",
       "    </tr>\n",
       "    <tr>\n",
       "      <th>6</th>\n",
       "      <td>GaussianNB</td>\n",
       "      <td>0.66084 +/- 0.02238</td>\n",
       "      <td>0.68231 +/- 0.03654</td>\n",
       "      <td>0.60511 +/- 0.02393</td>\n",
       "      <td>0.64086 +/- 0.01511</td>\n",
       "    </tr>\n",
       "  </tbody>\n",
       "</table>\n",
       "</div>"
      ],
      "text/plain": [
       "               Models             accuracy            precision  \\\n",
       "5        MLPClassifer  0.84352 +/- 0.01152  0.82802 +/- 0.02088   \n",
       "3        KNNClassifer  0.80995 +/- 0.01398  0.75152 +/- 0.02914   \n",
       "1                 SVC    0.79852 +/- 0.016  0.80264 +/- 0.01156   \n",
       "4        DecisionTree  0.78644 +/- 0.01732   0.77081 +/- 0.0188   \n",
       "0  LogisticRegression   0.7673 +/- 0.01362  0.79217 +/- 0.03749   \n",
       "2                 SGD  0.70348 +/- 0.02001   0.71353 +/- 0.0992   \n",
       "6          GaussianNB  0.66084 +/- 0.02238  0.68231 +/- 0.03654   \n",
       "\n",
       "                recall                   f1  \n",
       "5  0.86904 +/- 0.04763   0.8473 +/- 0.00984  \n",
       "3  0.92813 +/- 0.02348  0.83009 +/- 0.01377  \n",
       "1   0.7918 +/- 0.03616  0.79681 +/- 0.02016  \n",
       "4  0.81733 +/- 0.01869   0.79309 +/- 0.0168  \n",
       "0  0.72666 +/- 0.02065   0.75752 +/- 0.0059  \n",
       "2  0.72138 +/- 0.15765  0.70676 +/- 0.01829  \n",
       "6  0.60511 +/- 0.02393  0.64086 +/- 0.01511  "
      ]
     },
     "execution_count": 78,
     "metadata": {},
     "output_type": "execute_result"
    }
   ],
   "source": [
    "# Rerun model with new features and changes\n",
    "\n",
    "X3 = X2\n",
    "y3 = y2\n",
    "\n",
    "# List all the models to be fitted\n",
    "models_store = [LogisticRegression(random_state=0, max_iter=1000),\n",
    "                SVC(gamma='auto'),\n",
    "                SGDClassifier(max_iter=1000, tol=1e-3),\n",
    "                KNeighborsClassifier(n_neighbors=3),\n",
    "                DecisionTreeClassifier(random_state=0),\n",
    "                MLPClassifier(random_state=1, max_iter=1000),\n",
    "                GaussianNB()]\n",
    "\n",
    "# String values of the models\n",
    "models_names = ['LogisticRegression', \n",
    "                'SVC', \n",
    "                'SGD', \n",
    "                'KNNClassifer', \n",
    "                'DecisionTree', \n",
    "                'MLPClassifer',\n",
    "                'GaussianNB']\n",
    "\n",
    "#empty array to hold peformance of all model\n",
    "acc_storage2 = []\n",
    "prec_storage2 = []\n",
    "recall_storage2 = []\n",
    "f1_storage2 = []\n",
    "\n",
    "#loop through all models and run each one according to the pipeline steps\n",
    "for model in models_store:\n",
    "    \n",
    "    #performance metrics\n",
    "    scores = cross_validate(model, X3, y3, cv = 4, scoring = ('accuracy', 'precision', 'recall', 'f1'))\n",
    "    acc_avg_score = scores['test_accuracy'].mean()\n",
    "    prec_avg_score = scores['test_precision'].mean()\n",
    "    recall_avg_score = scores['test_recall'].mean()\n",
    "    f1_avg_score = scores['test_f1'].mean()\n",
    "\n",
    "    \n",
    "    acc_performance = str(round(acc_avg_score,5)) + ' +/- ' + str(round((scores['test_accuracy'].max()-acc_avg_score),5))\n",
    "    prec_performance = str(round(prec_avg_score,5)) + ' +/- ' + str(round((scores['test_precision'].max()-prec_avg_score),5))\n",
    "    recall_performance = str(round(recall_avg_score,5)) + ' +/- ' + str(round((scores['test_recall'].max()-recall_avg_score),5))\n",
    "    f1_performance = str(round(f1_avg_score,5)) + ' +/- ' + str(round((scores['test_f1'].max()-f1_avg_score),5))\n",
    "\n",
    "    acc_storage2.append(acc_performance)\n",
    "    prec_storage2.append(prec_performance)\n",
    "    recall_storage2.append(recall_performance)\n",
    "    f1_storage2.append(f1_performance)\n",
    "\n",
    "#display performance \n",
    "df_metric = pd.DataFrame(data = {'Models' : models_names, \n",
    "                                 'accuracy' : acc_storage2,\n",
    "                                 'precision' : prec_storage2,\n",
    "                                 'recall' : recall_storage2,\n",
    "                                 'f1': f1_storage2})\n",
    "\n",
    "df_metric.sort_values(by = 'accuracy', ascending = False)"
   ]
  },
  {
   "cell_type": "code",
   "execution_count": 79,
   "metadata": {
    "id": "4aFpJwEWTFG2",
    "outputId": "a0c52de3-ccd4-4afa-aae5-0627cc0cbbdf"
   },
   "outputs": [
    {
     "name": "stdout",
     "output_type": "stream",
     "text": [
      "AUC: 90.81 %\n"
     ]
    },
    {
     "data": {
      "image/png": "[encoded data removed]",
      "text/plain": [
       "<Figure size 576x576 with 1 Axes>"
      ]
     },
     "metadata": {},
     "output_type": "display_data"
    }
   ],
   "source": [
    "from sklearn.model_selection import train_test_split\n",
    "from sklearn.metrics import roc_curve, auc\n",
    "\n",
    "#split the data\n",
    "X_train, X_test, y_train, y_test = train_test_split(X3, y3, test_size=0.3, random_state=0)\n",
    "\n",
    "#the model\n",
    "model = MLPClassifier(random_state=1, max_iter=1000)\n",
    "      \n",
    "#fit and predict\n",
    "model.fit(X_train, y_train)\n",
    "y_pred = model.predict(X_test)\n",
    "y_pred_quant = model.predict_proba(X_test)[:, 1]\n",
    "\n",
    "#ROC graph x and y axis\n",
    "fpr, tpr, thresholds = roc_curve(y_test, y_pred_quant)\n",
    "print('AUC:', round((auc(fpr, tpr))*100,2), '%')\n",
    "\n",
    "#plot the ROC graph\n",
    "fig, ax = plt.subplots(figsize = (8,8))\n",
    "ax.plot(fpr, tpr)\n",
    "ax.plot([0, 1], [0, 1], transform=ax.transAxes, ls=\"--\", c=\".3\")\n",
    "plt.xlim([0.0, 1.0])\n",
    "plt.ylim([0.0, 1.0])\n",
    "plt.rcParams['font.size'] = 12\n",
    "plt.title('ROC curve')\n",
    "plt.xlabel('False Positive Rate (1 - Specificity)')\n",
    "plt.ylabel('True Positive Rate (Sensitivity)')\n",
    "plt.grid(True)"
   ]
  },
  {
   "cell_type": "markdown",
   "metadata": {},
   "source": [
    "# 6. Parameter Optimization <a id = 'opt'></a>"
   ]
  },
  {
   "cell_type": "markdown",
   "metadata": {},
   "source": [
    "Since the MLP model was the top performing model, we wll attempt to further enhance our performance by adjusting the paramters. We can use run the model multiple times with different parameter values and see the changes in each run. "
   ]
  },
  {
   "cell_type": "code",
   "execution_count": 80,
   "metadata": {},
   "outputs": [
    {
     "name": "stderr",
     "output_type": "stream",
     "text": [
      "/Applications/anaconda3/lib/python3.8/site-packages/sklearn/neural_network/_multilayer_perceptron.py:582: ConvergenceWarning: Stochastic Optimizer: Maximum iterations (1000) reached and the optimization hasn't converged yet.\n",
      "  warnings.warn(\n"
     ]
    },
    {
     "data": {
      "text/html": [
       "<div>\n",
       "<style scoped>\n",
       "    .dataframe tbody tr th:only-of-type {\n",
       "        vertical-align: middle;\n",
       "    }\n",
       "\n",
       "    .dataframe tbody tr th {\n",
       "        vertical-align: top;\n",
       "    }\n",
       "\n",
       "    .dataframe thead th {\n",
       "        text-align: right;\n",
       "    }\n",
       "</style>\n",
       "<table border=\"1\" class=\"dataframe\">\n",
       "  <thead>\n",
       "    <tr style=\"text-align: right;\">\n",
       "      <th></th>\n",
       "      <th>mean_fit_time</th>\n",
       "      <th>std_fit_time</th>\n",
       "      <th>mean_score_time</th>\n",
       "      <th>std_score_time</th>\n",
       "      <th>param_activation</th>\n",
       "      <th>param_alpha</th>\n",
       "      <th>param_hidden_layer_sizes</th>\n",
       "      <th>param_max_iter</th>\n",
       "      <th>param_random_state</th>\n",
       "      <th>param_solver</th>\n",
       "      <th>params</th>\n",
       "      <th>split0_test_score</th>\n",
       "      <th>split1_test_score</th>\n",
       "      <th>split2_test_score</th>\n",
       "      <th>split3_test_score</th>\n",
       "      <th>mean_test_score</th>\n",
       "      <th>std_test_score</th>\n",
       "      <th>rank_test_score</th>\n",
       "    </tr>\n",
       "  </thead>\n",
       "  <tbody>\n",
       "    <tr>\n",
       "      <th>0</th>\n",
       "      <td>6.674943</td>\n",
       "      <td>1.028507</td>\n",
       "      <td>0.002548</td>\n",
       "      <td>0.000449</td>\n",
       "      <td>relu</td>\n",
       "      <td>0.0001</td>\n",
       "      <td>100</td>\n",
       "      <td>1000</td>\n",
       "      <td>1</td>\n",
       "      <td>adam</td>\n",
       "      <td>{'activation': 'relu', 'alpha': 0.0001, 'hidde...</td>\n",
       "      <td>0.841611</td>\n",
       "      <td>0.855034</td>\n",
       "      <td>0.841398</td>\n",
       "      <td>0.836022</td>\n",
       "      <td>0.843516</td>\n",
       "      <td>0.007017</td>\n",
       "      <td>4</td>\n",
       "    </tr>\n",
       "    <tr>\n",
       "      <th>1</th>\n",
       "      <td>7.759841</td>\n",
       "      <td>0.693214</td>\n",
       "      <td>0.003172</td>\n",
       "      <td>0.000132</td>\n",
       "      <td>relu</td>\n",
       "      <td>0.0001</td>\n",
       "      <td>300</td>\n",
       "      <td>1000</td>\n",
       "      <td>1</td>\n",
       "      <td>adam</td>\n",
       "      <td>{'activation': 'relu', 'alpha': 0.0001, 'hidde...</td>\n",
       "      <td>0.851007</td>\n",
       "      <td>0.861745</td>\n",
       "      <td>0.866935</td>\n",
       "      <td>0.860215</td>\n",
       "      <td>0.859976</td>\n",
       "      <td>0.005746</td>\n",
       "      <td>1</td>\n",
       "    </tr>\n",
       "    <tr>\n",
       "      <th>2</th>\n",
       "      <td>6.463849</td>\n",
       "      <td>0.784307</td>\n",
       "      <td>0.002224</td>\n",
       "      <td>0.000062</td>\n",
       "      <td>relu</td>\n",
       "      <td>1e-05</td>\n",
       "      <td>100</td>\n",
       "      <td>1000</td>\n",
       "      <td>1</td>\n",
       "      <td>adam</td>\n",
       "      <td>{'activation': 'relu', 'alpha': 1e-05, 'hidden...</td>\n",
       "      <td>0.832215</td>\n",
       "      <td>0.863087</td>\n",
       "      <td>0.844086</td>\n",
       "      <td>0.838710</td>\n",
       "      <td>0.844524</td>\n",
       "      <td>0.011512</td>\n",
       "      <td>3</td>\n",
       "    </tr>\n",
       "    <tr>\n",
       "      <th>3</th>\n",
       "      <td>8.038915</td>\n",
       "      <td>0.313363</td>\n",
       "      <td>0.003126</td>\n",
       "      <td>0.000673</td>\n",
       "      <td>relu</td>\n",
       "      <td>1e-05</td>\n",
       "      <td>300</td>\n",
       "      <td>1000</td>\n",
       "      <td>1</td>\n",
       "      <td>adam</td>\n",
       "      <td>{'activation': 'relu', 'alpha': 1e-05, 'hidden...</td>\n",
       "      <td>0.833557</td>\n",
       "      <td>0.857718</td>\n",
       "      <td>0.864247</td>\n",
       "      <td>0.857527</td>\n",
       "      <td>0.853262</td>\n",
       "      <td>0.011694</td>\n",
       "      <td>2</td>\n",
       "    </tr>\n",
       "    <tr>\n",
       "      <th>4</th>\n",
       "      <td>0.325109</td>\n",
       "      <td>0.051834</td>\n",
       "      <td>0.002106</td>\n",
       "      <td>0.000169</td>\n",
       "      <td>identity</td>\n",
       "      <td>0.0001</td>\n",
       "      <td>100</td>\n",
       "      <td>1000</td>\n",
       "      <td>1</td>\n",
       "      <td>adam</td>\n",
       "      <td>{'activation': 'identity', 'alpha': 0.0001, 'h...</td>\n",
       "      <td>0.762416</td>\n",
       "      <td>0.767785</td>\n",
       "      <td>0.776882</td>\n",
       "      <td>0.758065</td>\n",
       "      <td>0.766287</td>\n",
       "      <td>0.007019</td>\n",
       "      <td>5</td>\n",
       "    </tr>\n",
       "    <tr>\n",
       "      <th>5</th>\n",
       "      <td>0.416139</td>\n",
       "      <td>0.022493</td>\n",
       "      <td>0.002285</td>\n",
       "      <td>0.000191</td>\n",
       "      <td>identity</td>\n",
       "      <td>0.0001</td>\n",
       "      <td>300</td>\n",
       "      <td>1000</td>\n",
       "      <td>1</td>\n",
       "      <td>adam</td>\n",
       "      <td>{'activation': 'identity', 'alpha': 0.0001, 'h...</td>\n",
       "      <td>0.759732</td>\n",
       "      <td>0.770470</td>\n",
       "      <td>0.776882</td>\n",
       "      <td>0.752688</td>\n",
       "      <td>0.764943</td>\n",
       "      <td>0.009360</td>\n",
       "      <td>7</td>\n",
       "    </tr>\n",
       "    <tr>\n",
       "      <th>6</th>\n",
       "      <td>0.370495</td>\n",
       "      <td>0.074139</td>\n",
       "      <td>0.002170</td>\n",
       "      <td>0.000076</td>\n",
       "      <td>identity</td>\n",
       "      <td>1e-05</td>\n",
       "      <td>100</td>\n",
       "      <td>1000</td>\n",
       "      <td>1</td>\n",
       "      <td>adam</td>\n",
       "      <td>{'activation': 'identity', 'alpha': 1e-05, 'hi...</td>\n",
       "      <td>0.762416</td>\n",
       "      <td>0.767785</td>\n",
       "      <td>0.776882</td>\n",
       "      <td>0.758065</td>\n",
       "      <td>0.766287</td>\n",
       "      <td>0.007019</td>\n",
       "      <td>5</td>\n",
       "    </tr>\n",
       "    <tr>\n",
       "      <th>7</th>\n",
       "      <td>0.421251</td>\n",
       "      <td>0.025419</td>\n",
       "      <td>0.002360</td>\n",
       "      <td>0.000179</td>\n",
       "      <td>identity</td>\n",
       "      <td>1e-05</td>\n",
       "      <td>300</td>\n",
       "      <td>1000</td>\n",
       "      <td>1</td>\n",
       "      <td>adam</td>\n",
       "      <td>{'activation': 'identity', 'alpha': 1e-05, 'hi...</td>\n",
       "      <td>0.759732</td>\n",
       "      <td>0.770470</td>\n",
       "      <td>0.776882</td>\n",
       "      <td>0.752688</td>\n",
       "      <td>0.764943</td>\n",
       "      <td>0.009360</td>\n",
       "      <td>7</td>\n",
       "    </tr>\n",
       "  </tbody>\n",
       "</table>\n",
       "</div>"
      ],
      "text/plain": [
       "   mean_fit_time  std_fit_time  mean_score_time  std_score_time  \\\n",
       "0       6.674943      1.028507         0.002548        0.000449   \n",
       "1       7.759841      0.693214         0.003172        0.000132   \n",
       "2       6.463849      0.784307         0.002224        0.000062   \n",
       "3       8.038915      0.313363         0.003126        0.000673   \n",
       "4       0.325109      0.051834         0.002106        0.000169   \n",
       "5       0.416139      0.022493         0.002285        0.000191   \n",
       "6       0.370495      0.074139         0.002170        0.000076   \n",
       "7       0.421251      0.025419         0.002360        0.000179   \n",
       "\n",
       "  param_activation param_alpha param_hidden_layer_sizes param_max_iter  \\\n",
       "0             relu      0.0001                      100           1000   \n",
       "1             relu      0.0001                      300           1000   \n",
       "2             relu       1e-05                      100           1000   \n",
       "3             relu       1e-05                      300           1000   \n",
       "4         identity      0.0001                      100           1000   \n",
       "5         identity      0.0001                      300           1000   \n",
       "6         identity       1e-05                      100           1000   \n",
       "7         identity       1e-05                      300           1000   \n",
       "\n",
       "  param_random_state param_solver  \\\n",
       "0                  1         adam   \n",
       "1                  1         adam   \n",
       "2                  1         adam   \n",
       "3                  1         adam   \n",
       "4                  1         adam   \n",
       "5                  1         adam   \n",
       "6                  1         adam   \n",
       "7                  1         adam   \n",
       "\n",
       "                                              params  split0_test_score  \\\n",
       "0  {'activation': 'relu', 'alpha': 0.0001, 'hidde...           0.841611   \n",
       "1  {'activation': 'relu', 'alpha': 0.0001, 'hidde...           0.851007   \n",
       "2  {'activation': 'relu', 'alpha': 1e-05, 'hidden...           0.832215   \n",
       "3  {'activation': 'relu', 'alpha': 1e-05, 'hidden...           0.833557   \n",
       "4  {'activation': 'identity', 'alpha': 0.0001, 'h...           0.762416   \n",
       "5  {'activation': 'identity', 'alpha': 0.0001, 'h...           0.759732   \n",
       "6  {'activation': 'identity', 'alpha': 1e-05, 'hi...           0.762416   \n",
       "7  {'activation': 'identity', 'alpha': 1e-05, 'hi...           0.759732   \n",
       "\n",
       "   split1_test_score  split2_test_score  split3_test_score  mean_test_score  \\\n",
       "0           0.855034           0.841398           0.836022         0.843516   \n",
       "1           0.861745           0.866935           0.860215         0.859976   \n",
       "2           0.863087           0.844086           0.838710         0.844524   \n",
       "3           0.857718           0.864247           0.857527         0.853262   \n",
       "4           0.767785           0.776882           0.758065         0.766287   \n",
       "5           0.770470           0.776882           0.752688         0.764943   \n",
       "6           0.767785           0.776882           0.758065         0.766287   \n",
       "7           0.770470           0.776882           0.752688         0.764943   \n",
       "\n",
       "   std_test_score  rank_test_score  \n",
       "0        0.007017                4  \n",
       "1        0.005746                1  \n",
       "2        0.011512                3  \n",
       "3        0.011694                2  \n",
       "4        0.007019                5  \n",
       "5        0.009360                7  \n",
       "6        0.007019                5  \n",
       "7        0.009360                7  "
      ]
     },
     "execution_count": 80,
     "metadata": {},
     "output_type": "execute_result"
    }
   ],
   "source": [
    "# Optimize Parameters of top performing model\n",
    "\n",
    "# Intialize gridsearch\n",
    "from sklearn.model_selection import GridSearchCV\n",
    "\n",
    "tuning_parameters = [{'hidden_layer_sizes': [100, 300],\n",
    "                      'activation': ['relu','identity'],\n",
    "                      'solver': ['adam'],\n",
    "                      'alpha': [1e-4, 1e-5],\n",
    "                      'max_iter': [1000],\n",
    "                      'random_state': [1]}]\n",
    "\n",
    "model = GridSearchCV(MLPClassifier(), tuning_parameters, scoring='accuracy',cv = 4)\n",
    "\n",
    "model.fit(X3, y3)\n",
    "\n",
    "# Display gridsearch\n",
    "pd.options.display.max_columns = None\n",
    "pd.options.display.max_rows = None\n",
    "df_gridsearch = pd.DataFrame(model.cv_results_) \n",
    "df_gridsearch"
   ]
  },
  {
   "cell_type": "markdown",
   "metadata": {},
   "source": [
    "Using accuracy as the performance metric to evalute, we see that 'mean_test_score' does not vary too much if at all. "
   ]
  }
 ],
 "metadata": {
  "colab": {
   "name": "Phase 2- Marketing.ipynb",
   "provenance": []
  },
  "kernelspec": {
   "display_name": "Python 3",
   "language": "python",
   "name": "python3"
  },
  "language_info": {
   "codemirror_mode": {
    "name": "ipython",
    "version": 3
   },
   "file_extension": ".py",
   "mimetype": "text/x-python",
   "name": "python",
   "nbconvert_exporter": "python",
   "pygments_lexer": "ipython3",
   "version": "3.8.3"
  }
 },
 "nbformat": 4,
 "nbformat_minor": 5
}
